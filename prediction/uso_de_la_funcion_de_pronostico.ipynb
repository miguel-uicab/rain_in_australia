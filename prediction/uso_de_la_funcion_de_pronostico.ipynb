{
 "cells": [
  {
   "cell_type": "markdown",
   "id": "23bc25fb",
   "metadata": {},
   "source": [
    "Se carga la __*función de pronóstico*__ (o de predicción)."
   ]
  },
  {
   "cell_type": "code",
   "execution_count": 1,
   "id": "a41e5513",
   "metadata": {},
   "outputs": [],
   "source": [
    "from prediction import prediction"
   ]
  },
  {
   "cell_type": "markdown",
   "id": "4fc87bd7",
   "metadata": {},
   "source": [
    "Se carga el payload de ejemplo."
   ]
  },
  {
   "cell_type": "code",
   "execution_count": 2,
   "id": "54706820",
   "metadata": {},
   "outputs": [
    {
     "data": {
      "text/plain": [
       "{'Location': 'Albury',\n",
       " 'WindGustDir': 'ENE',\n",
       " 'WindDir9am': None,\n",
       " 'WindDir3pm': 'ESE',\n",
       " 'RainToday': 'No',\n",
       " 'MinTemp': 20.4,\n",
       " 'Rainfall': 0.0,\n",
       " 'WindGustSpeed': 54.0,\n",
       " 'WindSpeed3pm': 7.0,\n",
       " 'Humidity9am': 46.0,\n",
       " 'Humidity3pm': 17.0,\n",
       " 'Pressure9am': 1013.4,\n",
       " 'Date': '2008-12-31'}"
      ]
     },
     "execution_count": 2,
     "metadata": {},
     "output_type": "execute_result"
    }
   ],
   "source": [
    "import json\n",
    "with open('example.json', 'r') as f:\n",
    "    json_dict = json.load(f)\n",
    "json_dict"
   ]
  },
  {
   "cell_type": "markdown",
   "id": "97e4d37a",
   "metadata": {},
   "source": [
    "Se aplica la función."
   ]
  },
  {
   "cell_type": "code",
   "execution_count": 3,
   "id": "c50322ac",
   "metadata": {},
   "outputs": [
    {
     "name": "stderr",
     "output_type": "stream",
     "text": [
      "2023-07-03 17:40:22 INFO: COMIENZO DE PREDICCIÓN.\n",
      "2023-07-03 17:40:22 INFO: FIN DE PREDICCIÓN.\n"
     ]
    }
   ],
   "source": [
    "output = prediction(json_dict=json_dict)"
   ]
  },
  {
   "cell_type": "markdown",
   "id": "881f073d",
   "metadata": {},
   "source": [
    "Esta es la salida esperada."
   ]
  },
  {
   "cell_type": "code",
   "execution_count": 4,
   "id": "a6271e6d",
   "metadata": {},
   "outputs": [
    {
     "data": {
      "text/plain": [
       "{'probability': 0.42, 'category': 'NO', 'version': '1.0'}"
      ]
     },
     "execution_count": 4,
     "metadata": {},
     "output_type": "execute_result"
    }
   ],
   "source": [
    "output"
   ]
  }
 ],
 "metadata": {
  "kernelspec": {
   "display_name": "train_Aus",
   "language": "python",
   "name": "train_aus"
  },
  "language_info": {
   "codemirror_mode": {
    "name": "ipython",
    "version": 3
   },
   "file_extension": ".py",
   "mimetype": "text/x-python",
   "name": "python",
   "nbconvert_exporter": "python",
   "pygments_lexer": "ipython3",
   "version": "3.8.12"
  }
 },
 "nbformat": 4,
 "nbformat_minor": 5
}
