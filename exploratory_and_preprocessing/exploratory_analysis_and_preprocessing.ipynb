{
 "cells": [
  {
   "cell_type": "code",
   "execution_count": null,
   "id": "736ff300",
   "metadata": {},
   "outputs": [],
   "source": [
    "# !/usr/bin/env python\n",
    "# coding: utf-8\n",
    "\n",
    "import pandas as pd\n",
    "import plotly.express as px\n",
    "import matplotlib.pyplot as plt\n",
    "import seaborn as sns\n",
    "import pickle\n",
    "from EDA_functions import *\n",
    "seed = 5000"
   ]
  },
  {
   "cell_type": "markdown",
   "id": "30807d35",
   "metadata": {},
   "source": [
    "# 0. CARGA DE DATOS."
   ]
  },
  {
   "cell_type": "code",
   "execution_count": null,
   "id": "7ba679f1",
   "metadata": {},
   "outputs": [],
   "source": [
    "weatherAUS = pd.read_csv('../data/weatherAUS.csv') # , index_col=[0]"
   ]
  },
  {
   "cell_type": "markdown",
   "id": "0151882d",
   "metadata": {},
   "source": [
    "# 1. TAMAÑO DE DATA - PRIMEROS VISTAZOS GENERALES."
   ]
  },
  {
   "cell_type": "markdown",
   "id": "f2a1644a",
   "metadata": {},
   "source": [
    "Veamos cuál es el tamaño de data."
   ]
  },
  {
   "cell_type": "code",
   "execution_count": null,
   "id": "32a5edb1",
   "metadata": {},
   "outputs": [],
   "source": [
    "weatherAUS.shape"
   ]
  },
  {
   "cell_type": "code",
   "execution_count": null,
   "id": "4b373e27",
   "metadata": {},
   "outputs": [],
   "source": [
    "weatherAUS.head(2)"
   ]
  },
  {
   "cell_type": "code",
   "execution_count": null,
   "id": "313d75b5",
   "metadata": {},
   "outputs": [],
   "source": [
    "weatherAUS.tail(2)"
   ]
  },
  {
   "cell_type": "markdown",
   "id": "d9bf3088",
   "metadata": {},
   "source": [
    "Veamos qué variables posean valores perdidos y los porcentajes de missing."
   ]
  },
  {
   "cell_type": "code",
   "execution_count": null,
   "id": "f9355ac1",
   "metadata": {},
   "outputs": [],
   "source": [
    "count_missing = get_count_missing(data=weatherAUS, feature_names=list(weatherAUS.columns))\n",
    "count_missing"
   ]
  },
  {
   "cell_type": "markdown",
   "id": "6e226526",
   "metadata": {},
   "source": [
    "Debido a la presencia de missing en la variable objetivo `RainTomorrow`, eliminamos las filas que no cuenten información de esta variable."
   ]
  },
  {
   "cell_type": "code",
   "execution_count": null,
   "id": "4c224c4c",
   "metadata": {},
   "outputs": [],
   "source": [
    "wA_NOT_MISS_IN_OBJECTIVE = weatherAUS.dropna(subset=['RainTomorrow'])\n",
    "wA_NOT_MISS_IN_OBJECTIVE.shape"
   ]
  },
  {
   "cell_type": "markdown",
   "id": "90bc0093",
   "metadata": {},
   "source": [
    "Debido a que hay algunas variables con un porcentaje importante de valores perdidos, establecemos un umbral de filtrado de variables. Las variables arriba del 11 % de valores perdidos, no serán consideradas.\n",
    "\n",
    "Siendo así, se procede a eliminar las siguientes variables."
   ]
  },
  {
   "cell_type": "code",
   "execution_count": null,
   "id": "930c139d",
   "metadata": {},
   "outputs": [],
   "source": [
    "high_missing_names = [ 'Sunshine', 'Evaporation', 'Cloud3pm', 'Cloud9am']\n",
    "wA_NOT_HIGH_MISSING = wA_NOT_MISS_IN_OBJECTIVE.drop(high_missing_names, axis=1)"
   ]
  },
  {
   "cell_type": "markdown",
   "id": "b003a3ea",
   "metadata": {},
   "source": [
    "Se exhiben los nuevos porcentajes de missing."
   ]
  },
  {
   "cell_type": "code",
   "execution_count": null,
   "id": "205abeec",
   "metadata": {},
   "outputs": [],
   "source": [
    "get_count_missing(data=wA_NOT_HIGH_MISSING,\n",
    "                  feature_names=list(set(weatherAUS.columns)-set(high_missing_names)))"
   ]
  },
  {
   "cell_type": "markdown",
   "id": "ca9755bc",
   "metadata": {},
   "source": [
    "A continuación, se exhiben los tipos de variables que conforman el dataset para conocer su naturaleza."
   ]
  },
  {
   "cell_type": "code",
   "execution_count": null,
   "id": "68a2d14f",
   "metadata": {},
   "outputs": [],
   "source": [
    "wA_NOT_HIGH_MISSING.info()"
   ]
  },
  {
   "cell_type": "markdown",
   "id": "80ad31e3",
   "metadata": {},
   "source": [
    "El dataset está conformado por variables de tipo numérico y categórico. Sin embargo, para las fechas, transformemos la variable `Date`a variable tipo `datetime`."
   ]
  },
  {
   "cell_type": "code",
   "execution_count": null,
   "id": "1a77352b",
   "metadata": {},
   "outputs": [],
   "source": [
    "wA_NOT_HIGH_MISSING['Date'] = pd.to_datetime(wA_NOT_HIGH_MISSING['Date'])"
   ]
  },
  {
   "cell_type": "code",
   "execution_count": null,
   "id": "a2eca3b6",
   "metadata": {},
   "outputs": [],
   "source": [
    "wA_NOT_HIGH_MISSING['Date'].head(5)"
   ]
  },
  {
   "cell_type": "markdown",
   "id": "f24fea33",
   "metadata": {},
   "source": [
    "# 2. TRATAMIENTO DE VARIABLES NUMÉRICAS."
   ]
  },
  {
   "cell_type": "markdown",
   "id": "e42aecf3",
   "metadata": {},
   "source": [
    "## 2.1 Visualización y Control de outliers"
   ]
  },
  {
   "cell_type": "markdown",
   "id": "ad1a854e",
   "metadata": {},
   "source": [
    "Se identifican las variables numéricas."
   ]
  },
  {
   "cell_type": "code",
   "execution_count": null,
   "id": "cb9f3c90",
   "metadata": {},
   "outputs": [],
   "source": [
    "num_names = list(wA_NOT_HIGH_MISSING.select_dtypes('float64').columns)\n",
    "num_names"
   ]
  },
  {
   "cell_type": "markdown",
   "id": "849acc68",
   "metadata": {},
   "source": [
    "Al contar con un número no tan grande de variables numéricas, es posible una exploración individual de la distribuciones usando histogramas y box-plots."
   ]
  },
  {
   "cell_type": "code",
   "execution_count": null,
   "id": "b8611193",
   "metadata": {},
   "outputs": [],
   "source": [
    "for name in num_names:\n",
    "    print(f'################################## VARIABLE: {name} ################################################')\n",
    "    print(f'sesgo: {wA_NOT_HIGH_MISSING[name].skew()}')\n",
    "    print(f'desviación estandar without_outliers: {wA_NOT_HIGH_MISSING[name].std()}')\n",
    "    fig = px.histogram(wA_NOT_HIGH_MISSING, x=name, nbins=50, marginal='box')\n",
    "    fig.show()"
   ]
  },
  {
   "cell_type": "markdown",
   "id": "e15d2491",
   "metadata": {},
   "source": [
    "Podemos observar lo siguiente:\n",
    "* Algunas variables tiene cierto grado de concentración en el centro y otras están sesgadas.\n",
    "* Variables sesgadas como `Rainfall` y  `WindSpeed9am` cuentan con claros outliers, es decir, puntos que se alejan no solo de la concentración de la información, sino de la cola natural de la distribución. Estos valores son extremos (valores positivos muy grandes).\n",
    "* Algunas variables tienen valores negativos, la mayoría de ellas se refieren a la temperatura. Debido a que no se tiene mayor contexto de ellas, no se tomará ninguna acción al respecto."
   ]
  },
  {
   "cell_type": "markdown",
   "id": "f57baefc",
   "metadata": {},
   "source": [
    "Para ejercer cierto control de outliers en variables sesgadas a la izquierda, se impondrán cotas superiores a estas variables, más precisamente a `Rainfall` y  `WindSpeed9am`."
   ]
  },
  {
   "cell_type": "code",
   "execution_count": null,
   "id": "ee114521",
   "metadata": {},
   "outputs": [],
   "source": [
    "wA_SKEW_UPPER_OUTLIERS = wA_NOT_HIGH_MISSING[(wA_NOT_HIGH_MISSING['Rainfall'] <= 300) | (wA_NOT_HIGH_MISSING['Rainfall'].isna())]\n",
    "wA_SKEW_UPPER_OUTLIERS = wA_SKEW_UPPER_OUTLIERS[(wA_SKEW_UPPER_OUTLIERS['WindSpeed9am'] <= 100) | (wA_SKEW_UPPER_OUTLIERS['WindSpeed9am'].isna())]"
   ]
  },
  {
   "cell_type": "markdown",
   "id": "b6566745",
   "metadata": {},
   "source": [
    "Se compara las distribuciones de las variables implicadas antes y después de outliers."
   ]
  },
  {
   "cell_type": "code",
   "execution_count": null,
   "id": "bbc75ed2",
   "metadata": {},
   "outputs": [],
   "source": [
    "skew_num_names = ['Rainfall', 'WindSpeed9am']\n",
    "for name in skew_num_names:\n",
    "    print(f'################################## VARIABLE: {name} ################################################')\n",
    "    print(f'Antes de outliers.')\n",
    "    fig = px.histogram(wA_NOT_HIGH_MISSING, x=name, nbins=50, marginal='box')\n",
    "    fig.show()\n",
    "    print(f'Después de outliers.')\n",
    "    fig2 = px.histogram(wA_SKEW_UPPER_OUTLIERS, x=name, nbins=50, marginal='box' )\n",
    "    fig2.show()"
   ]
  },
  {
   "cell_type": "markdown",
   "id": "0db4294f",
   "metadata": {},
   "source": [
    "Se comparan los tamaños de data antes y después de outliers. Se puede ver que el porcentaje de data eliminada es ínfimo. Si esto no fuera así, se tendría que pensar en otras estrategias para contros de outliers y sesgos extremos, como por ejemplo las tranformaciones __yeo-johnson__ o __box-cox__."
   ]
  },
  {
   "cell_type": "code",
   "execution_count": null,
   "id": "5ad55855",
   "metadata": {},
   "outputs": [],
   "source": [
    "print('Porcentaje remanente de la data después de eliminar outliers:', (wA_SKEW_UPPER_OUTLIERS.shape[0]/wA_NOT_HIGH_MISSING.shape[0])*100, '%')"
   ]
  },
  {
   "cell_type": "markdown",
   "id": "716ae6ed",
   "metadata": {},
   "source": [
    "## 2.2 Tratamiento de la correlación."
   ]
  },
  {
   "cell_type": "markdown",
   "id": "632d4b9b",
   "metadata": {},
   "source": [
    "Analicemos la correlación entre  las variables numéricas. Se utilizará la correlación no paramétrica de Spearman."
   ]
  },
  {
   "cell_type": "code",
   "execution_count": null,
   "id": "9b4259ff",
   "metadata": {},
   "outputs": [],
   "source": [
    "plt.figure(figsize=(12, 10))\n",
    "sns.heatmap(wA_SKEW_UPPER_OUTLIERS[num_names].corr(method='spearman').abs(), square=True, annot=True, cmap='RdBu',  vmin=-1, vmax=1)\n",
    "plt.show()"
   ]
  },
  {
   "cell_type": "markdown",
   "id": "f87811d3",
   "metadata": {},
   "source": [
    "Existen correlaciones altas entre parejas de variables, por ejemplo:\n",
    "* `MaxTemp`-`Temp3pm`, 0.98\n",
    "* `Pressure9am`-`Pressure3pm`, 0.96\n",
    "* `MinTemp`-`Temp9am`, 0.9\n",
    "* `MaxTemp`-`Temp9am`, 0.89\n",
    "* `Temp9pm`-`Temp3pm`, 0.86\n",
    "* `MinTemp`-`MaxTemp`, 0.74\n",
    "* `MinTemp`-`Temp3pm`, 0.71"
   ]
  },
  {
   "cell_type": "markdown",
   "id": "c181d40c",
   "metadata": {},
   "source": [
    "Se visualizan las correlaciones de las primeras dos parejas, y las de las últimas dos parejas, del pasado listado."
   ]
  },
  {
   "cell_type": "code",
   "execution_count": null,
   "id": "06dada52",
   "metadata": {},
   "outputs": [],
   "source": [
    "fig = px.scatter(wA_SKEW_UPPER_OUTLIERS, x='MaxTemp', y='Temp3pm', color=\"RainTomorrow\" )\n",
    "fig.show()"
   ]
  },
  {
   "cell_type": "code",
   "execution_count": null,
   "id": "97977c05",
   "metadata": {},
   "outputs": [],
   "source": [
    "# fig = px.scatter(wA_SKEW_UPPER_OUTLIERS, x='Pressure9am', y='Pressure3pm', color=\"RainTomorrow\" )\n",
    "# fig.show()"
   ]
  },
  {
   "cell_type": "code",
   "execution_count": null,
   "id": "6318cf30",
   "metadata": {},
   "outputs": [],
   "source": [
    "# fig = px.scatter(wA_SKEW_UPPER_OUTLIERS, x='MinTemp', y='MaxTemp', color=\"RainTomorrow\" )\n",
    "# fig.show()"
   ]
  },
  {
   "cell_type": "code",
   "execution_count": null,
   "id": "9474072e",
   "metadata": {},
   "outputs": [],
   "source": [
    "# fig = px.scatter(wA_SKEW_UPPER_OUTLIERS, x='MinTemp', y='Temp3pm', color=\"RainTomorrow\" )\n",
    "# fig.show()"
   ]
  },
  {
   "cell_type": "markdown",
   "id": "26b46ad6",
   "metadata": {},
   "source": [
    "Se toma la decisión de eliminar algunas variables que tengan correlación con alguna otra, esto arriba del 0.7. Lo anterior se hace para evitar la redundancia en la información."
   ]
  },
  {
   "cell_type": "code",
   "execution_count": null,
   "id": "06a3d7b6",
   "metadata": {},
   "outputs": [],
   "source": [
    "drop_names_by_corr = get_features_names_drop_by_corr(data=wA_SKEW_UPPER_OUTLIERS,\n",
    "                                                     list_feature_names=num_names,\n",
    "                                                     threshold=0.7)"
   ]
  },
  {
   "cell_type": "code",
   "execution_count": null,
   "id": "78f23a1f",
   "metadata": {},
   "outputs": [],
   "source": [
    "wA_CORR = wA_SKEW_UPPER_OUTLIERS.drop(drop_names_by_corr, axis=1)"
   ]
  },
  {
   "cell_type": "markdown",
   "id": "6194d6fe",
   "metadata": {},
   "source": [
    "Reindexemos la data."
   ]
  },
  {
   "cell_type": "code",
   "execution_count": null,
   "id": "e742acef",
   "metadata": {},
   "outputs": [],
   "source": [
    "wA_CORR.reset_index(drop=True, inplace=True)"
   ]
  },
  {
   "cell_type": "code",
   "execution_count": null,
   "id": "6a363017",
   "metadata": {},
   "outputs": [],
   "source": [
    "wA_CORR"
   ]
  },
  {
   "cell_type": "markdown",
   "id": "71598913",
   "metadata": {},
   "source": [
    "# 3. TRATAMIENTO DE VARIABLES CATEGÓRICA."
   ]
  },
  {
   "cell_type": "markdown",
   "id": "1d5eca83",
   "metadata": {},
   "source": [
    "## 3.1 Tratamiento de valores perdidos."
   ]
  },
  {
   "cell_type": "markdown",
   "id": "d170a36f",
   "metadata": {},
   "source": [
    "Veamos qué variables son categóricas."
   ]
  },
  {
   "cell_type": "code",
   "execution_count": null,
   "id": "ebf7a55e",
   "metadata": {},
   "outputs": [],
   "source": [
    "cat_names = list(wA_CORR.select_dtypes('object').columns)"
   ]
  },
  {
   "cell_type": "code",
   "execution_count": null,
   "id": "a2d0a375",
   "metadata": {},
   "outputs": [],
   "source": [
    "cat_names"
   ]
  },
  {
   "cell_type": "markdown",
   "id": "4f7cab22",
   "metadata": {},
   "source": [
    "Se toma la decisión de incluir una categoría que represente a los valores perdidos en variables categóricas. Esta categoría llevara el nombre de \"Unidentified\"."
   ]
  },
  {
   "cell_type": "code",
   "execution_count": null,
   "id": "bb3b0944",
   "metadata": {},
   "outputs": [],
   "source": [
    "wA_FILLNA_CATEGORIC = fillna_categoric_data(data=wA_CORR,\n",
    "                                            list_names=cat_names)"
   ]
  },
  {
   "cell_type": "markdown",
   "id": "9a792db8",
   "metadata": {},
   "source": [
    "A continuación se dará un vistazo a los tamaños de cada categoría en cada variable, así como a su porcentaje de representación."
   ]
  },
  {
   "cell_type": "code",
   "execution_count": null,
   "id": "c464e3a6",
   "metadata": {
    "scrolled": true
   },
   "outputs": [],
   "source": [
    "for name in cat_names:\n",
    "    print(f'################# VARIABLE: {name} #########################################' )\n",
    "    print(wA_FILLNA_CATEGORIC[name].value_counts())\n",
    "    print(round((wA_FILLNA_CATEGORIC[name].value_counts(normalize=True))*100), 2)"
   ]
  },
  {
   "cell_type": "markdown",
   "id": "aa723a0a",
   "metadata": {},
   "source": [
    "Observamos que ningún nombre de categoría cae por debajo del 1%, por ende, NO se toma ninguna decisión acerca de fusionar categorías de alguna variable con el fin de evitar categorías demasiado pequeñas."
   ]
  },
  {
   "cell_type": "markdown",
   "id": "0015e027",
   "metadata": {},
   "source": [
    "## 3.2 Información sobre la variable objetivo."
   ]
  },
  {
   "cell_type": "code",
   "execution_count": null,
   "id": "124b6609",
   "metadata": {},
   "outputs": [],
   "source": [
    "count_objected = wA_FILLNA_CATEGORIC['RainTomorrow'].value_counts().to_frame().reset_index()\n",
    "count_objected.columns = ['RainTomorrow', 'count']\n",
    "fig = px.pie(count_objected, values='count', names='RainTomorrow', title='¿Llovió al día siguiente?')\n",
    "fig.show()"
   ]
  },
  {
   "cell_type": "markdown",
   "id": "e08f29ec",
   "metadata": {},
   "source": [
    "El gráfico de pastel anterior da cuenta que hay un problema de desbalanceo en la variable objetivo `RainTomorrow`. Es decir, la clase mayoritaría (No llovió) es considerablemente más grande que la clase minoritaria (Sí llovió). \n",
    "\n",
    "Se lidiará con este evento más tarde, en el entrenamiento y optimización."
   ]
  },
  {
   "cell_type": "markdown",
   "id": "8ea20030",
   "metadata": {},
   "source": [
    "# 4. PEQUEÑA INGENIERÍA DE CARACTERÍSTICAS"
   ]
  },
  {
   "cell_type": "markdown",
   "id": "edaff458",
   "metadata": {},
   "source": [
    "Dado quer estamos ante una data con indexación en el tiempo, podemos rescatar información tal como:\n",
    "* el mes del año\n",
    "* la semana del año en la que se ubica el día (del total de 52).\n",
    "\n",
    "Tales variables pueden ayudar a capturar patrones como el ciclo de lluvia inherentes a través del año en los lugares involucrados."
   ]
  },
  {
   "cell_type": "code",
   "execution_count": null,
   "id": "afbfcbd2",
   "metadata": {},
   "outputs": [],
   "source": [
    "wA_FILLNA_CATEGORIC['month'] = wA_FILLNA_CATEGORIC['Date'].dt.month\n",
    "wA_FILLNA_CATEGORIC['week_of_year'] = wA_FILLNA_CATEGORIC['Date'].dt.isocalendar().week"
   ]
  },
  {
   "cell_type": "markdown",
   "id": "ecd42752",
   "metadata": {},
   "source": [
    "Cambiemos a tipo categórico las variables recien creadas."
   ]
  },
  {
   "cell_type": "code",
   "execution_count": null,
   "id": "fbc6ef91",
   "metadata": {},
   "outputs": [],
   "source": [
    "wA_FILLNA_CATEGORIC['month'] = wA_FILLNA_CATEGORIC['month'].astype('object')\n",
    "wA_FILLNA_CATEGORIC['week_of_year'] = wA_FILLNA_CATEGORIC['week_of_year'].astype('object')"
   ]
  },
  {
   "cell_type": "markdown",
   "id": "cfe00c50",
   "metadata": {},
   "source": [
    "Cambiemos a tipo binario la naturaleza de la variable objetivo `RainTomorrow`."
   ]
  },
  {
   "cell_type": "code",
   "execution_count": null,
   "id": "4677aed5",
   "metadata": {},
   "outputs": [],
   "source": [
    "wA_FILLNA_CATEGORIC['RainTomorrow'] = wA_FILLNA_CATEGORIC['RainTomorrow'].map({'Yes': 1, 'No': 0})"
   ]
  },
  {
   "cell_type": "markdown",
   "id": "9a291257",
   "metadata": {},
   "source": [
    "# 5. PEQUEÑA SELECCIÓN DE VARIABLES."
   ]
  },
  {
   "cell_type": "markdown",
   "id": "536a7c65",
   "metadata": {},
   "source": [
    "## 5.1 Selección de variables categóricas."
   ]
  },
  {
   "cell_type": "markdown",
   "id": "d531bb64",
   "metadata": {},
   "source": [
    "Se hará una pequeña selección de varibles numéricas, ANTES DE ENTRENAMIENTO, usando la __información mutua__. Este es un valor no negativo que mide la dependencia entre variables aleatorias. Valores más altos significan una dependencia más alta. \n",
    "\n",
    "Entonces, se calculará este valor entre las variables numéricas y la variable objetivo binaria `RainTomorrow`."
   ]
  },
  {
   "cell_type": "code",
   "execution_count": null,
   "id": "29e303fe",
   "metadata": {},
   "outputs": [],
   "source": [
    "num_names = list(wA_FILLNA_CATEGORIC.select_dtypes('float64').columns)"
   ]
  },
  {
   "cell_type": "markdown",
   "id": "7d9345a3",
   "metadata": {},
   "source": [
    "Se necesita que no haya valores perdidos en variables numéricas. Por ende, se trabajará con una versión de la data sin presencia de valores perdidos en las variables numéricas."
   ]
  },
  {
   "cell_type": "code",
   "execution_count": null,
   "id": "bb44b52a",
   "metadata": {},
   "outputs": [],
   "source": [
    "wA_FILLNA_CATEGORIC_TEMPORARY = wA_FILLNA_CATEGORIC[num_names + ['RainTomorrow']].dropna()\n",
    "wA_FILLNA_CATEGORIC_TEMPORARY.reset_index(drop=True, inplace=True)"
   ]
  },
  {
   "cell_type": "markdown",
   "id": "a6d732f6",
   "metadata": {},
   "source": [
    "A continuación se muestra el porcentaje de la data que ha quedado."
   ]
  },
  {
   "cell_type": "code",
   "execution_count": null,
   "id": "d22d2031",
   "metadata": {},
   "outputs": [],
   "source": [
    "print('Porcentaje de data después de eliminación de filas con misssing: ', round((wA_FILLNA_CATEGORIC_TEMPORARY.shape[0] / wA_FILLNA_CATEGORIC.shape[0]) * 100, 2), '%')"
   ]
  },
  {
   "cell_type": "markdown",
   "id": "d328dfd3",
   "metadata": {},
   "source": [
    "A continuación se exhibe la configuación de la variable objetivo `RainTomorrow` después de missing."
   ]
  },
  {
   "cell_type": "code",
   "execution_count": null,
   "id": "bc2c8d7d",
   "metadata": {},
   "outputs": [],
   "source": [
    "wA_FILLNA_CATEGORIC_TEMPORARY[['RainTomorrow']].value_counts(normalize=True)"
   ]
  },
  {
   "cell_type": "markdown",
   "id": "27b88019",
   "metadata": {},
   "source": [
    "De los dos resultados anteriores, observamos que aún conservamos un porcentaje importante de la data. Además, se observa que la configuración de la variable objetivo, antes y después de missing, es muy similar. Siendo así, vamos a asumir que conservamos representatividad suficiente para tener acceso a las conclusiones en cuanto a la información mutua, usando la data sin missing."
   ]
  },
  {
   "cell_type": "markdown",
   "id": "3426531f",
   "metadata": {},
   "source": [
    "__NOTA:__ El tratamiento definitivo de missing en las variables numéricas, se tendrá en cuenta en el entrenamiento de modelo. Este se puede hacer añadiendo alguna técnica de imputación, tal vez no paramétrica como `KNNImputer`, en el pipeline  de entrenamiento. O bien, puede ser que el modelo ya contemple la presencia de missing en el entrenamiento (por ejemplo `xboost` o `HistGradientBoostingClassifier`."
   ]
  },
  {
   "cell_type": "markdown",
   "id": "ab04c3fe",
   "metadata": {},
   "source": [
    "Calculemos entonces la información mutua."
   ]
  },
  {
   "cell_type": "code",
   "execution_count": null,
   "id": "b6128ecd",
   "metadata": {},
   "outputs": [],
   "source": [
    "mutual_information_score(data=wA_FILLNA_CATEGORIC_TEMPORARY,\n",
    "                         feature_names=num_names,\n",
    "                         y_label_name='RainTomorrow',\n",
    "                         list_bool_True=None,\n",
    "                         seed=5000)"
   ]
  },
  {
   "cell_type": "markdown",
   "id": "921a6366",
   "metadata": {},
   "source": [
    "Observamos que la variable que ofrece una mayor influencia en el objetivo `RainTomorrow` es `Humidity3pm`. Las que ejercen menor influiencia, es la que tiene que ver con la temperatura (`MinTemp`) o bien con la rapidez del viento a las 9 am y a las 3pm (`WindSpeed9am`, `WindSpeed3pm`)."
   ]
  },
  {
   "cell_type": "markdown",
   "id": "143f01f8",
   "metadata": {},
   "source": [
    "Decidimos eliminar la variable de menor influencia, es decir, `WindSpeed9am`."
   ]
  },
  {
   "cell_type": "code",
   "execution_count": null,
   "id": "3a03ec01",
   "metadata": {},
   "outputs": [],
   "source": [
    "mut_info_names = ['WindSpeed9am']\n",
    "wA_MUTUAL_INFO = wA_FILLNA_CATEGORIC.drop(mut_info_names, axis=1)"
   ]
  },
  {
   "cell_type": "markdown",
   "id": "27462122",
   "metadata": {},
   "source": [
    "## 5.2 Sobre las variables categóricas."
   ]
  },
  {
   "cell_type": "markdown",
   "id": "a4b7cd58",
   "metadata": {},
   "source": [
    "Para este ejercicio, se usarán todas las variables categóricas. \n",
    "\n",
    "La importancia de ellas, y también de las numéricas, pueden estudiarse  DESPUÉS DE ENTRENAMIENTO, usando las __feature_importances__ ofrecidas por los estimadores de la librería `scikit-learn`. O  bien, si éstas no se dan, las importancias pueden calcularse usando las __shape_feature_importances__ ofrecicidas por librerías como `shap`, y que se construyen considerando las __shap-values__. Una vez conocidas estas importancias, se puede hacer una selección de variables y reiniciar el entrenamiento.\n",
    "\n",
    "Por supuesto, la selección de variables, tanto de variables categóricas como numéricas, puede llegar a ser un proceso dinámico y que se puede hacer de manera conjunta en una combinación de técnicas, esto antes y después de entrenamiento.\n",
    "\n",
    "En cuanto a esta prueba. Sólo se hará selección de variables numéricas antes de entrenamiento."
   ]
  },
  {
   "cell_type": "markdown",
   "id": "00cd6692",
   "metadata": {},
   "source": [
    "# 6. MANEJO DE LA CRONOLOGÍA y DIVISIÓN DE LA DATA"
   ]
  },
  {
   "cell_type": "markdown",
   "id": "21f7a930",
   "metadata": {},
   "source": [
    "Consigamos la información que se obtiene en cada año y hagamos el conteo correspondiente."
   ]
  },
  {
   "cell_type": "code",
   "execution_count": null,
   "id": "d13c53ea",
   "metadata": {},
   "outputs": [],
   "source": [
    "wA_MUTUAL_INFO['year'] = wA_MUTUAL_INFO['Date'].dt.year"
   ]
  },
  {
   "cell_type": "code",
   "execution_count": null,
   "id": "670b1e5e",
   "metadata": {},
   "outputs": [],
   "source": [
    "count_years = wA_MUTUAL_INFO['year'].value_counts().to_frame().reset_index()\n",
    "count_years.columns = ['year', 'count']"
   ]
  },
  {
   "cell_type": "code",
   "execution_count": null,
   "id": "6b94c531",
   "metadata": {},
   "outputs": [],
   "source": [
    "fig = px.bar(count_years, x='year', y='count')\n",
    "fig.show()"
   ]
  },
  {
   "cell_type": "markdown",
   "id": "a9d157ae",
   "metadata": {},
   "source": [
    "Para poder contemplar de alguna manera la naturaleza temporal de la data, la división entre los conjuntos de __Entrenamiento__, __Validación__ y __Prueba__ no podrá ser aleatoria, sino que tendrá que contemplar una estructura de *pasado* y *futuro*."
   ]
  },
  {
   "cell_type": "markdown",
   "id": "2cbaa5fa",
   "metadata": {},
   "source": [
    "Por ende, se establece la división de la data teniendo en cuenta al año 2015 como umbral de separación."
   ]
  },
  {
   "cell_type": "code",
   "execution_count": null,
   "id": "08e4b59e",
   "metadata": {},
   "outputs": [],
   "source": [
    "wA_train = wA_MUTUAL_INFO[wA_MUTUAL_INFO['year'] <= 2015]\n",
    "wA_test = wA_MUTUAL_INFO[wA_MUTUAL_INFO['year'] > 2015]"
   ]
  },
  {
   "cell_type": "markdown",
   "id": "9b7fd456",
   "metadata": {},
   "source": [
    "Por ende, se obtienen los siguientes tamaños."
   ]
  },
  {
   "cell_type": "code",
   "execution_count": null,
   "id": "fd125087",
   "metadata": {},
   "outputs": [],
   "source": [
    "wA_train"
   ]
  },
  {
   "cell_type": "code",
   "execution_count": null,
   "id": "91f3de94",
   "metadata": {},
   "outputs": [],
   "source": [
    "wA_test"
   ]
  },
  {
   "cell_type": "markdown",
   "id": "b2a81734",
   "metadata": {},
   "source": [
    "Así quedan los porcentajes de representación con respecto a la data total."
   ]
  },
  {
   "cell_type": "code",
   "execution_count": null,
   "id": "77907032",
   "metadata": {},
   "outputs": [],
   "source": [
    "print('Representación del CONJUNTO DE ENTRENAMIENTO con respecto al total:', round((wA_train.shape[0]/wA_FILLNA_CATEGORIC.shape[0])*100, 2), '%')"
   ]
  },
  {
   "cell_type": "code",
   "execution_count": null,
   "id": "01b19d7b",
   "metadata": {},
   "outputs": [],
   "source": [
    "print('Representación del CONJUNTO DE PRUEBA con respecto al total:', round((wA_test.shape[0]/wA_FILLNA_CATEGORIC.shape[0])*100, 2), '%')"
   ]
  },
  {
   "cell_type": "markdown",
   "id": "4fcfbfb3",
   "metadata": {},
   "source": [
    "Los siguientes diagramas de pastel dan cuenta de que la configuración binaria original de la variable objetivo `RainTomorrow`, que se tiene en la data total, ha logrado heredarse a las contrapartes de __Entrenamiento__ y __Prueba__ (es decir, son muy similares entre ellas). El primer pastel se refiera a la data total, el segundo al __Entrenamiento__ y el tercero al de __Prueba__."
   ]
  },
  {
   "cell_type": "code",
   "execution_count": null,
   "id": "2e7595c8",
   "metadata": {},
   "outputs": [],
   "source": [
    "for data in [wA_MUTUAL_INFO, wA_train, wA_test]:\n",
    "    count_objected = data['RainTomorrow'].value_counts().to_frame().reset_index()\n",
    "    count_objected.columns = ['RainTomorrow', 'count']\n",
    "    fig = px.pie(count_objected, values='count', names='RainTomorrow', title='¿Llovió al día siguiente?')\n",
    "    fig.show()"
   ]
  },
  {
   "cell_type": "markdown",
   "id": "05db9d2c",
   "metadata": {},
   "source": [
    "No se contempla un tercer conjunto de __Validación__, porque se considera que la cantidad de data es de tal tamaño que bastará con monitoriar las medidas de cross-validación en el conjunto de __Entrenamiento__."
   ]
  },
  {
   "cell_type": "markdown",
   "id": "ef642983",
   "metadata": {},
   "source": [
    "# 7. LISTA FINAL DE FEATURES"
   ]
  },
  {
   "cell_type": "markdown",
   "id": "3c6650b8",
   "metadata": {},
   "source": [
    "Se exihiben qué variables conformarán el conjunto definitivo de features. Están serán puestas en un archivo de confifguración *config.yaml* para un manejo más flexible en los scripts de entrenamiento y optimización."
   ]
  },
  {
   "cell_type": "code",
   "execution_count": null,
   "id": "cde03146",
   "metadata": {},
   "outputs": [],
   "source": [
    "wA_MUTUAL_INFO.columns"
   ]
  },
  {
   "cell_type": "code",
   "execution_count": null,
   "id": "0e85178e",
   "metadata": {},
   "outputs": [],
   "source": [
    "objective_name = 'RainTomorrow'"
   ]
  },
  {
   "cell_type": "code",
   "execution_count": null,
   "id": "331ca719",
   "metadata": {},
   "outputs": [],
   "source": [
    "feratures_names = ['Location', 'MinTemp', 'Rainfall', 'WindGustDir',\n",
    "                   'WindGustSpeed', 'WindDir9am', 'WindDir3pm', 'WindSpeed3pm',\n",
    "                   'Humidity9am', 'Humidity3pm', 'Pressure9am',\n",
    "                   'RainToday',  'month', 'week_of_year'],"
   ]
  },
  {
   "cell_type": "markdown",
   "id": "3c6f4424",
   "metadata": {},
   "source": [
    "# 8. GUARDADO DE LA DATA"
   ]
  },
  {
   "cell_type": "markdown",
   "id": "8f52d35a",
   "metadata": {},
   "source": [
    "Los conjuntos de datos de __Entrenamiento__ y __Prueba__ (más bien los dataframes) se guardarán en archivos binarios."
   ]
  },
  {
   "cell_type": "code",
   "execution_count": null,
   "id": "133f1789",
   "metadata": {},
   "outputs": [],
   "source": [
    "pickle.dump(wA_train, open('../outputs/wA_train.sav', 'wb'))\n",
    "pickle.dump(wA_test, open('../outputs/wA_test.sav', 'wb'))"
   ]
  },
  {
   "cell_type": "code",
   "execution_count": null,
   "id": "a296200a",
   "metadata": {},
   "outputs": [],
   "source": []
  }
 ],
 "metadata": {
  "kernelspec": {
   "display_name": "exploratory_Aus",
   "language": "python",
   "name": "exploratory_aus"
  },
  "language_info": {
   "codemirror_mode": {
    "name": "ipython",
    "version": 3
   },
   "file_extension": ".py",
   "mimetype": "text/x-python",
   "name": "python",
   "nbconvert_exporter": "python",
   "pygments_lexer": "ipython3",
   "version": "3.8.12"
  }
 },
 "nbformat": 4,
 "nbformat_minor": 5
}
