{
 "cells": [
  {
   "cell_type": "code",
   "execution_count": null,
   "id": "736ff300",
   "metadata": {},
   "outputs": [],
   "source": [
    "# !/usr/bin/env python\n",
    "# coding: utf-8\n",
    "\n",
    "import pandas as pd\n",
    "import plotly.express as px\n",
    "import matplotlib.pyplot as plt\n",
    "import seaborn as sns\n",
    "import pickle\n",
    "from EDA_functions import *\n",
    "seed = 5000"
   ]
  },
  {
   "cell_type": "markdown",
   "id": "30807d35",
   "metadata": {},
   "source": [
    "# 0. CARGA DE DATOS."
   ]
  },
  {
   "cell_type": "code",
   "execution_count": null,
   "id": "7ba679f1",
   "metadata": {},
   "outputs": [],
   "source": [
    "weatherAUS = pd.read_csv('../data/weatherAUS.csv') #"
   ]
  },
  {
   "cell_type": "markdown",
   "id": "49b9d496",
   "metadata": {},
   "source": [
    "__NOTA:__ Se hará uso de algunas funciones contenidas en el script __EDA_functions.py__."
   ]
  },
  {
   "cell_type": "markdown",
   "id": "0151882d",
   "metadata": {},
   "source": [
    "# 1. TAMAÑO DE DATA - PRIMEROS VISTAZOS GENERALES."
   ]
  },
  {
   "cell_type": "markdown",
   "id": "0ab8dbd9",
   "metadata": {},
   "source": [
    "A partir de aquí, se prepará la data de tal forma que pueda soportar un problema de clasificación binaria, es decir, para entrenar un modelo supervisado. Siendo así, las variables de localización y meteorológicas se considerarán como __features__ o __predictoras__. La __variable objetivo__ o __respuesta__ será `RainTomorrow`.\n",
    "\n"
   ]
  },
  {
   "cell_type": "markdown",
   "id": "f2a1644a",
   "metadata": {},
   "source": [
    "Veamos cuál es el tamaño de data."
   ]
  },
  {
   "cell_type": "code",
   "execution_count": null,
   "id": "32a5edb1",
   "metadata": {},
   "outputs": [],
   "source": [
    "weatherAUS.shape"
   ]
  },
  {
   "cell_type": "code",
   "execution_count": null,
   "id": "4b373e27",
   "metadata": {},
   "outputs": [],
   "source": [
    "weatherAUS.head(2)"
   ]
  },
  {
   "cell_type": "code",
   "execution_count": null,
   "id": "313d75b5",
   "metadata": {},
   "outputs": [],
   "source": [
    "weatherAUS.tail(2)"
   ]
  },
  {
   "cell_type": "markdown",
   "id": "d9bf3088",
   "metadata": {},
   "source": [
    "Veamos qué variables poseen valores perdidos y los porcentajes de missing."
   ]
  },
  {
   "cell_type": "code",
   "execution_count": null,
   "id": "f9355ac1",
   "metadata": {},
   "outputs": [],
   "source": [
    "count_missing = get_count_missing(data=weatherAUS, feature_names=list(weatherAUS.columns))\n",
    "count_missing"
   ]
  },
  {
   "cell_type": "markdown",
   "id": "6e226526",
   "metadata": {},
   "source": [
    "Debido a la presencia de missing en la variable objetivo `RainTomorrow`, eliminamos las filas que no cuenten con información de esta variable."
   ]
  },
  {
   "cell_type": "code",
   "execution_count": null,
   "id": "4c224c4c",
   "metadata": {},
   "outputs": [],
   "source": [
    "wA_NOT_MISS_IN_OBJECTIVE = weatherAUS.dropna(subset=['RainTomorrow'])\n",
    "wA_NOT_MISS_IN_OBJECTIVE.shape"
   ]
  },
  {
   "cell_type": "markdown",
   "id": "90bc0093",
   "metadata": {},
   "source": [
    "Debido a que hay algunas variables con un porcentaje importante de valores perdidos, establecemos un umbral de filtrado de variables. Las variables arriba del 11 % de valores perdidos, no serán consideradas.\n",
    "\n",
    "Siendo así, se procede a eliminar aquellas variables."
   ]
  },
  {
   "cell_type": "code",
   "execution_count": null,
   "id": "930c139d",
   "metadata": {},
   "outputs": [],
   "source": [
    "high_missing_names = [ 'Sunshine', 'Evaporation', 'Cloud3pm', 'Cloud9am']\n",
    "wA_NOT_HIGH_MISSING = wA_NOT_MISS_IN_OBJECTIVE.drop(high_missing_names, axis=1)"
   ]
  },
  {
   "cell_type": "markdown",
   "id": "b003a3ea",
   "metadata": {},
   "source": [
    "Se exhiben los nuevos porcentajes de missing."
   ]
  },
  {
   "cell_type": "code",
   "execution_count": null,
   "id": "205abeec",
   "metadata": {},
   "outputs": [],
   "source": [
    "get_count_missing(data=wA_NOT_HIGH_MISSING,\n",
    "                  feature_names=list(set(weatherAUS.columns)-set(high_missing_names)))"
   ]
  },
  {
   "cell_type": "markdown",
   "id": "ca9755bc",
   "metadata": {},
   "source": [
    "A continuación, se exhiben los tipos de variables que conforman el dataset para conocer su naturaleza."
   ]
  },
  {
   "cell_type": "code",
   "execution_count": null,
   "id": "68a2d14f",
   "metadata": {},
   "outputs": [],
   "source": [
    "wA_NOT_HIGH_MISSING.info()"
   ]
  },
  {
   "cell_type": "markdown",
   "id": "80ad31e3",
   "metadata": {},
   "source": [
    "El dataset está conformado por variables de tipo numérico y categórico. Sin embargo, para las fechas, transformemos la variable `Date`a variable tipo `datetime`."
   ]
  },
  {
   "cell_type": "code",
   "execution_count": null,
   "id": "1a77352b",
   "metadata": {},
   "outputs": [],
   "source": [
    "wA_NOT_HIGH_MISSING['Date'] = pd.to_datetime(wA_NOT_HIGH_MISSING['Date'])"
   ]
  },
  {
   "cell_type": "code",
   "execution_count": null,
   "id": "a2eca3b6",
   "metadata": {},
   "outputs": [],
   "source": [
    "wA_NOT_HIGH_MISSING['Date'].head(5)"
   ]
  },
  {
   "cell_type": "markdown",
   "id": "f24fea33",
   "metadata": {},
   "source": [
    "# 2. TRATAMIENTO DE VARIABLES NUMÉRICAS."
   ]
  },
  {
   "cell_type": "markdown",
   "id": "e42aecf3",
   "metadata": {},
   "source": [
    "## 2.1 Visualización y Control de outliers."
   ]
  },
  {
   "cell_type": "markdown",
   "id": "ad1a854e",
   "metadata": {},
   "source": [
    "Se identifican las variables numéricas."
   ]
  },
  {
   "cell_type": "code",
   "execution_count": null,
   "id": "cb9f3c90",
   "metadata": {},
   "outputs": [],
   "source": [
    "num_names = list(wA_NOT_HIGH_MISSING.select_dtypes('float64').columns)\n",
    "num_names"
   ]
  },
  {
   "cell_type": "markdown",
   "id": "849acc68",
   "metadata": {},
   "source": [
    "Al contar con un número no tan grande de variables numéricas, es posible una exploración individual de la distribuciones usando histogramas y box-plots."
   ]
  },
  {
   "cell_type": "code",
   "execution_count": null,
   "id": "b8611193",
   "metadata": {},
   "outputs": [],
   "source": [
    "for name in num_names:\n",
    "    print(f'################################## VARIABLE: {name} ################################################')\n",
    "    fig = px.histogram(wA_NOT_HIGH_MISSING, x=name, nbins=50, marginal='box')\n",
    "    fig.show()"
   ]
  },
  {
   "cell_type": "markdown",
   "id": "e15d2491",
   "metadata": {},
   "source": [
    "Podemos observar lo siguiente:\n",
    "* Algunas variables tiene cierto grado de concentración en el centro y otras están sesgadas.\n",
    "* Variables sesgadas como `Rainfall` y  `WindSpeed9am` cuentan con claros outliers, es decir, puntos que se alejan no solo de la concentración de la información, sino de la cola natural de la distribución. Estos valores son extremos (valores positivos muy grandes).\n",
    "* Algunas variables tienen valores negativos, la mayoría de ellas se refieren a la temperatura. Debido a que no se tiene mayor contexto de ellas, no se tomará ninguna acción al respecto."
   ]
  },
  {
   "cell_type": "markdown",
   "id": "f57baefc",
   "metadata": {},
   "source": [
    "Para ejercer cierto control de outliers en variables sesgadas a la izquierda, se impondrán cotas superiores a estas variables, más precisamente a `Rainfall` y  `WindSpeed9am`."
   ]
  },
  {
   "cell_type": "code",
   "execution_count": null,
   "id": "ee114521",
   "metadata": {},
   "outputs": [],
   "source": [
    "wA_SKEW_UPPER_OUTLIERS = wA_NOT_HIGH_MISSING[(wA_NOT_HIGH_MISSING['Rainfall'] <= 300) | (wA_NOT_HIGH_MISSING['Rainfall'].isna())]\n",
    "wA_SKEW_UPPER_OUTLIERS = wA_SKEW_UPPER_OUTLIERS[(wA_SKEW_UPPER_OUTLIERS['WindSpeed9am'] <= 100) | (wA_SKEW_UPPER_OUTLIERS['WindSpeed9am'].isna())]"
   ]
  },
  {
   "cell_type": "markdown",
   "id": "b6566745",
   "metadata": {},
   "source": [
    "Se compara las distribuciones de las variables implicadas antes y después de outliers."
   ]
  },
  {
   "cell_type": "code",
   "execution_count": null,
   "id": "bbc75ed2",
   "metadata": {},
   "outputs": [],
   "source": [
    "skew_num_names = ['Rainfall', 'WindSpeed9am']\n",
    "for name in skew_num_names:\n",
    "    print(f'################################## VARIABLE: {name} ################################################')\n",
    "    print(f'Antes de outliers.')\n",
    "    fig = px.histogram(wA_NOT_HIGH_MISSING, x=name, nbins=50, marginal='box')\n",
    "    fig.show()\n",
    "    print(f'Después de outliers.')\n",
    "    fig2 = px.histogram(wA_SKEW_UPPER_OUTLIERS, x=name, nbins=50, marginal='box' )\n",
    "    fig2.show()"
   ]
  },
  {
   "cell_type": "markdown",
   "id": "0db4294f",
   "metadata": {},
   "source": [
    "Se comparan los tamaños de data antes y después de outliers. Se puede ver que el porcentaje de data eliminada es ínfimo. Si esto fuera lo contrario, es decir, si data eliminada fuera considerble, se tendría que pensar en otras estrategias para control de outliers y sesgos extremos, como por ejemplo las tranformaciones __yeo-johnson__ o __box-cox__."
   ]
  },
  {
   "cell_type": "code",
   "execution_count": null,
   "id": "5ad55855",
   "metadata": {},
   "outputs": [],
   "source": [
    "print('Porcentaje remanente de la data después de eliminar outliers:', (wA_SKEW_UPPER_OUTLIERS.shape[0]/wA_NOT_HIGH_MISSING.shape[0])*100, '%')"
   ]
  },
  {
   "cell_type": "markdown",
   "id": "716ae6ed",
   "metadata": {},
   "source": [
    "## 2.2 Tratamiento de la correlación."
   ]
  },
  {
   "cell_type": "markdown",
   "id": "632d4b9b",
   "metadata": {},
   "source": [
    "Analicemos la correlación entre  las variables numéricas. Se utilizará la correlación no paramétrica de Spearman."
   ]
  },
  {
   "cell_type": "code",
   "execution_count": null,
   "id": "9b4259ff",
   "metadata": {},
   "outputs": [],
   "source": [
    "plt.figure(figsize=(12, 10))\n",
    "sns.heatmap(wA_SKEW_UPPER_OUTLIERS[num_names].corr(method='spearman').abs(), square=True, annot=True, cmap='RdBu',  vmin=-1, vmax=1)\n",
    "plt.show()"
   ]
  },
  {
   "cell_type": "markdown",
   "id": "f87811d3",
   "metadata": {},
   "source": [
    "Existen correlaciones altas entre parejas de variables, por ejemplo:\n",
    "* `MaxTemp`-`Temp3pm`, 0.98\n",
    "* `Pressure9am`-`Pressure3pm`, 0.96\n",
    "* `MinTemp`-`Temp9am`, 0.9\n",
    "* `MaxTemp`-`Temp9am`, 0.89\n",
    "* `Temp9pm`-`Temp3pm`, 0.86\n",
    "* `MinTemp`-`MaxTemp`, 0.74\n",
    "* `MinTemp`-`Temp3pm`, 0.71"
   ]
  },
  {
   "cell_type": "markdown",
   "id": "c181d40c",
   "metadata": {},
   "source": [
    "Se visualizan las correlaciones de las primeras dos parejas, y las de las últimas dos parejas."
   ]
  },
  {
   "cell_type": "code",
   "execution_count": null,
   "id": "06dada52",
   "metadata": {},
   "outputs": [],
   "source": [
    "fig = px.scatter(wA_SKEW_UPPER_OUTLIERS, x='MaxTemp', y='Temp3pm', color=\"RainTomorrow\" )\n",
    "fig.show()"
   ]
  },
  {
   "cell_type": "code",
   "execution_count": null,
   "id": "97977c05",
   "metadata": {},
   "outputs": [],
   "source": [
    "# fig = px.scatter(wA_SKEW_UPPER_OUTLIERS, x='Pressure9am', y='Pressure3pm', color=\"RainTomorrow\" )\n",
    "# fig.show()"
   ]
  },
  {
   "cell_type": "code",
   "execution_count": null,
   "id": "6318cf30",
   "metadata": {},
   "outputs": [],
   "source": [
    "# fig = px.scatter(wA_SKEW_UPPER_OUTLIERS, x='MinTemp', y='MaxTemp', color=\"RainTomorrow\" )\n",
    "# fig.show()"
   ]
  },
  {
   "cell_type": "code",
   "execution_count": null,
   "id": "9474072e",
   "metadata": {},
   "outputs": [],
   "source": [
    "# fig = px.scatter(wA_SKEW_UPPER_OUTLIERS, x='MinTemp', y='Temp3pm', color=\"RainTomorrow\" )\n",
    "# fig.show()"
   ]
  },
  {
   "cell_type": "markdown",
   "id": "26b46ad6",
   "metadata": {},
   "source": [
    "Se toma la decisión de eliminar algunas variables que tengan correlación con alguna otra, esto arriba del 0.7. Lo anterior se hace para evitar la redundancia en la información."
   ]
  },
  {
   "cell_type": "code",
   "execution_count": null,
   "id": "06a3d7b6",
   "metadata": {},
   "outputs": [],
   "source": [
    "drop_names_by_corr = get_features_names_drop_by_corr(data=wA_SKEW_UPPER_OUTLIERS,\n",
    "                                                     list_feature_names=num_names,\n",
    "                                                     threshold=0.7)"
   ]
  },
  {
   "cell_type": "code",
   "execution_count": null,
   "id": "78f23a1f",
   "metadata": {},
   "outputs": [],
   "source": [
    "wA_CORR = wA_SKEW_UPPER_OUTLIERS.drop(drop_names_by_corr, axis=1)"
   ]
  },
  {
   "cell_type": "markdown",
   "id": "6194d6fe",
   "metadata": {},
   "source": [
    "Reindexemos la data."
   ]
  },
  {
   "cell_type": "code",
   "execution_count": null,
   "id": "e742acef",
   "metadata": {},
   "outputs": [],
   "source": [
    "wA_CORR.reset_index(drop=True, inplace=True)"
   ]
  },
  {
   "cell_type": "markdown",
   "id": "b62d2507",
   "metadata": {},
   "source": [
    "Se guarda la primera versión de la data preprocesada."
   ]
  },
  {
   "cell_type": "code",
   "execution_count": null,
   "id": "133f1789",
   "metadata": {},
   "outputs": [],
   "source": [
    "pickle.dump(wA_CORR, open('../outputs/wA_CORR.sav', 'wb'))"
   ]
  },
  {
   "cell_type": "code",
   "execution_count": null,
   "id": "88d82c05",
   "metadata": {},
   "outputs": [],
   "source": []
  }
 ],
 "metadata": {
  "kernelspec": {
   "display_name": "exploratory_Aus",
   "language": "python",
   "name": "exploratory_aus"
  },
  "language_info": {
   "codemirror_mode": {
    "name": "ipython",
    "version": 3
   },
   "file_extension": ".py",
   "mimetype": "text/x-python",
   "name": "python",
   "nbconvert_exporter": "python",
   "pygments_lexer": "ipython3",
   "version": "3.8.12"
  }
 },
 "nbformat": 4,
 "nbformat_minor": 5
}
