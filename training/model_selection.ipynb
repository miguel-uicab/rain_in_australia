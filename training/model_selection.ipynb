{
 "cells": [
  {
   "cell_type": "code",
   "execution_count": 1,
   "id": "dede1677",
   "metadata": {},
   "outputs": [],
   "source": [
    "# !/usr/bin/env python\n",
    "# coding: utf-8\n",
    "\n",
    "import pandas as pd\n",
    "import numpy as np\n",
    "import pickle\n",
    "#import plotly.express as px\n",
    "#import plotly.figure_factory as ff\n",
    "#import shap\n",
    "import datetime\n",
    "import logging\n",
    "import yaml\n",
    "from sklearn.impute import KNNImputer\n",
    "from sklearn.metrics import recall_score, precision_score #, accuracy_score\n",
    "# from sklearn.metrics import balanced_accuracy_score\n",
    "from sklearn.metrics import f1_score, matthews_corrcoef, confusion_matrix\n",
    "# from sklearn.metrics import jaccard_score, roc_auc_score, average_precision_score\n",
    "from sklearn.metrics import make_scorer\n",
    "from sklearn.model_selection import StratifiedKFold#, train_test_split\n",
    "from sklearn.model_selection import GridSearchCV\n",
    "from sklearn.ensemble import RandomForestClassifier, HistGradientBoostingClassifier\n",
    "# from sklearn.linear_model import LogisticRegression\n",
    "from sklearn.compose import ColumnTransformer\n",
    "from imblearn.under_sampling import RandomUnderSampler\n",
    "from imblearn.pipeline import Pipeline\n",
    "from category_encoders.count import CountEncoder"
   ]
  },
  {
   "cell_type": "code",
   "execution_count": 3,
   "id": "556d615c",
   "metadata": {},
   "outputs": [],
   "source": [
    "from training_functions import *"
   ]
  },
  {
   "cell_type": "code",
   "execution_count": 6,
   "id": "bdfb022e",
   "metadata": {},
   "outputs": [],
   "source": [
    "df_train = get_data(name_sav='wA_train.sav', path='../outputs/')"
   ]
  },
  {
   "cell_type": "code",
   "execution_count": null,
   "id": "f7175f71",
   "metadata": {},
   "outputs": [],
   "source": []
  },
  {
   "cell_type": "code",
   "execution_count": null,
   "id": "df91df43",
   "metadata": {},
   "outputs": [],
   "source": []
  },
  {
   "cell_type": "markdown",
   "id": "ecf057af",
   "metadata": {},
   "source": [
    "Se hará una pequeña competencia entre un modelo clásico de clasificación, es decir, `RandomForest` y un modelo más comnplejo como `HistogramGradientBoosting`."
   ]
  }
 ],
 "metadata": {
  "kernelspec": {
   "display_name": "train_Aus",
   "language": "python",
   "name": "train_aus"
  },
  "language_info": {
   "codemirror_mode": {
    "name": "ipython",
    "version": 3
   },
   "file_extension": ".py",
   "mimetype": "text/x-python",
   "name": "python",
   "nbconvert_exporter": "python",
   "pygments_lexer": "ipython3",
   "version": "3.8.12"
  }
 },
 "nbformat": 4,
 "nbformat_minor": 5
}
