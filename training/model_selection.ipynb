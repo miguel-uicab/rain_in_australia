{
 "cells": [
  {
   "cell_type": "code",
   "execution_count": 58,
   "id": "dede1677",
   "metadata": {},
   "outputs": [],
   "source": [
    "# !/usr/bin/env python\n",
    "# coding: utf-8\n",
    "\n",
    "import pandas as pd\n",
    "import numpy as np\n",
    "import pickle\n",
    "#import plotly.express as px\n",
    "#import plotly.figure_factory as ff\n",
    "#import shap\n",
    "import datetime\n",
    "import logging\n",
    "import yaml\n",
    "from sklearn.impute import KNNImputer\n",
    "from sklearn.metrics import recall_score, precision_score #, accuracy_score\n",
    "# from sklearn.metrics import balanced_accuracy_score\n",
    "from sklearn.metrics import f1_score, matthews_corrcoef, confusion_matrix\n",
    "# from sklearn.metrics import jaccard_score, roc_auc_score, average_precision_score\n",
    "from sklearn.metrics import make_scorer\n",
    "from sklearn.model_selection import StratifiedKFold, cross_validate #, train_test_split\n",
    "from sklearn.model_selection import GridSearchCV\n",
    "from sklearn.ensemble import RandomForestClassifier, HistGradientBoostingClassifier\n",
    "# from sklearn.linear_model import LogisticRegression\n",
    "from sklearn.compose import ColumnTransformer\n",
    "from imblearn.under_sampling import RandomUnderSampler\n",
    "from imblearn.pipeline import Pipeline\n",
    "from category_encoders.count import CountEncoder\n"
   ]
  },
  {
   "cell_type": "code",
   "execution_count": 2,
   "id": "556d615c",
   "metadata": {},
   "outputs": [],
   "source": [
    "from training_functions import *"
   ]
  },
  {
   "cell_type": "code",
   "execution_count": 3,
   "id": "d233acfc",
   "metadata": {},
   "outputs": [],
   "source": [
    "seed = 5000\n",
    "ratio_balance = 0.9\n",
    "k_folds = 5\n",
    "verbose = 10"
   ]
  },
  {
   "cell_type": "code",
   "execution_count": 70,
   "id": "6627c94a",
   "metadata": {},
   "outputs": [],
   "source": [
    "path='../outputs/'"
   ]
  },
  {
   "cell_type": "code",
   "execution_count": 4,
   "id": "bdfb022e",
   "metadata": {},
   "outputs": [],
   "source": [
    "df_train = get_data(name_sav='wA_train.sav', path='../outputs/')\n",
    "df_test = get_data(name_sav='wA_test.sav', path='../outputs/')"
   ]
  },
  {
   "cell_type": "markdown",
   "id": "ecf057af",
   "metadata": {},
   "source": [
    "Se hará una pequeña competencia entre un modelo clásico de clasificación, es decir, `RandomForest` y un modelo más comnplejo como `HistogramGradientBoosting`."
   ]
  },
  {
   "cell_type": "code",
   "execution_count": 5,
   "id": "aef1a67d",
   "metadata": {},
   "outputs": [],
   "source": [
    "features_names =  ['Location',\n",
    "                   'MinTemp',\n",
    "                   'Rainfall',\n",
    "                   'WindGustDir',\n",
    "                   'WindGustSpeed',\n",
    "                   'WindDir9am',\n",
    "                   'WindDir3pm',\n",
    "                   'WindSpeed9am',\n",
    "                   'WindSpeed3pm',\n",
    "                   'Humidity9am',\n",
    "                   'Humidity3pm',\n",
    "                   'Pressure9am',\n",
    "                   'RainToday',\n",
    "                   'month', \n",
    "                   'week_of_year']\n",
    "objective_name = 'RainTomorrow'"
   ]
  },
  {
   "cell_type": "code",
   "execution_count": 20,
   "id": "b0d6f580",
   "metadata": {},
   "outputs": [],
   "source": [
    "model_name = 'RandomForestClassifier'\n",
    "original_data = df_train.copy()\n",
    "data = original_data[features_names]\n",
    "float_names = list(data.select_dtypes(include='float64').columns)\n",
    "categorical_names = list(data.select_dtypes(include='object').columns)\n",
    "feature_names_order = get_feature_names_order(model_name=model_name,\n",
    "                                              float_names=float_names,\n",
    "                                              categorical_names=categorical_names)\n",
    "# features = data[feature_names_order]\n",
    "# label = original_data[objective_name]\n",
    "X_train= data[feature_names_order]\n",
    "y_train = original_data[objective_name]"
   ]
  },
  {
   "cell_type": "code",
   "execution_count": 17,
   "id": "8e0a4d1b",
   "metadata": {},
   "outputs": [],
   "source": [
    "X_test= df_test[feature_names_order]\n",
    "y_test = df_test[objective_name]"
   ]
  },
  {
   "cell_type": "code",
   "execution_count": 32,
   "id": "3978a01d",
   "metadata": {},
   "outputs": [
    {
     "data": {
      "text/html": [
       "<div>\n",
       "<style scoped>\n",
       "    .dataframe tbody tr th:only-of-type {\n",
       "        vertical-align: middle;\n",
       "    }\n",
       "\n",
       "    .dataframe tbody tr th {\n",
       "        vertical-align: top;\n",
       "    }\n",
       "\n",
       "    .dataframe thead th {\n",
       "        text-align: right;\n",
       "    }\n",
       "</style>\n",
       "<table border=\"1\" class=\"dataframe\">\n",
       "  <thead>\n",
       "    <tr style=\"text-align: right;\">\n",
       "      <th></th>\n",
       "      <th>MinTemp</th>\n",
       "      <th>Rainfall</th>\n",
       "      <th>WindGustSpeed</th>\n",
       "      <th>WindSpeed9am</th>\n",
       "      <th>WindSpeed3pm</th>\n",
       "      <th>Humidity9am</th>\n",
       "      <th>Humidity3pm</th>\n",
       "      <th>Pressure9am</th>\n",
       "      <th>Location</th>\n",
       "      <th>WindGustDir</th>\n",
       "      <th>WindDir9am</th>\n",
       "      <th>WindDir3pm</th>\n",
       "      <th>RainToday</th>\n",
       "      <th>month</th>\n",
       "      <th>week_of_year</th>\n",
       "    </tr>\n",
       "  </thead>\n",
       "  <tbody>\n",
       "    <tr>\n",
       "      <th>0</th>\n",
       "      <td>13.4</td>\n",
       "      <td>0.6</td>\n",
       "      <td>44.0</td>\n",
       "      <td>20.0</td>\n",
       "      <td>24.0</td>\n",
       "      <td>71.0</td>\n",
       "      <td>22.0</td>\n",
       "      <td>1007.7</td>\n",
       "      <td>Albury</td>\n",
       "      <td>W</td>\n",
       "      <td>W</td>\n",
       "      <td>WNW</td>\n",
       "      <td>No</td>\n",
       "      <td>12</td>\n",
       "      <td>49</td>\n",
       "    </tr>\n",
       "    <tr>\n",
       "      <th>1</th>\n",
       "      <td>7.4</td>\n",
       "      <td>0.0</td>\n",
       "      <td>44.0</td>\n",
       "      <td>4.0</td>\n",
       "      <td>22.0</td>\n",
       "      <td>44.0</td>\n",
       "      <td>25.0</td>\n",
       "      <td>1010.6</td>\n",
       "      <td>Albury</td>\n",
       "      <td>WNW</td>\n",
       "      <td>NNW</td>\n",
       "      <td>WSW</td>\n",
       "      <td>No</td>\n",
       "      <td>12</td>\n",
       "      <td>49</td>\n",
       "    </tr>\n",
       "    <tr>\n",
       "      <th>2</th>\n",
       "      <td>12.9</td>\n",
       "      <td>0.0</td>\n",
       "      <td>46.0</td>\n",
       "      <td>19.0</td>\n",
       "      <td>26.0</td>\n",
       "      <td>38.0</td>\n",
       "      <td>30.0</td>\n",
       "      <td>1007.6</td>\n",
       "      <td>Albury</td>\n",
       "      <td>WSW</td>\n",
       "      <td>W</td>\n",
       "      <td>WSW</td>\n",
       "      <td>No</td>\n",
       "      <td>12</td>\n",
       "      <td>49</td>\n",
       "    </tr>\n",
       "    <tr>\n",
       "      <th>3</th>\n",
       "      <td>9.2</td>\n",
       "      <td>0.0</td>\n",
       "      <td>24.0</td>\n",
       "      <td>11.0</td>\n",
       "      <td>9.0</td>\n",
       "      <td>45.0</td>\n",
       "      <td>16.0</td>\n",
       "      <td>1017.6</td>\n",
       "      <td>Albury</td>\n",
       "      <td>NE</td>\n",
       "      <td>SE</td>\n",
       "      <td>E</td>\n",
       "      <td>No</td>\n",
       "      <td>12</td>\n",
       "      <td>49</td>\n",
       "    </tr>\n",
       "    <tr>\n",
       "      <th>4</th>\n",
       "      <td>17.5</td>\n",
       "      <td>1.0</td>\n",
       "      <td>41.0</td>\n",
       "      <td>7.0</td>\n",
       "      <td>20.0</td>\n",
       "      <td>82.0</td>\n",
       "      <td>33.0</td>\n",
       "      <td>1010.8</td>\n",
       "      <td>Albury</td>\n",
       "      <td>W</td>\n",
       "      <td>ENE</td>\n",
       "      <td>NW</td>\n",
       "      <td>No</td>\n",
       "      <td>12</td>\n",
       "      <td>49</td>\n",
       "    </tr>\n",
       "    <tr>\n",
       "      <th>...</th>\n",
       "      <td>...</td>\n",
       "      <td>...</td>\n",
       "      <td>...</td>\n",
       "      <td>...</td>\n",
       "      <td>...</td>\n",
       "      <td>...</td>\n",
       "      <td>...</td>\n",
       "      <td>...</td>\n",
       "      <td>...</td>\n",
       "      <td>...</td>\n",
       "      <td>...</td>\n",
       "      <td>...</td>\n",
       "      <td>...</td>\n",
       "      <td>...</td>\n",
       "      <td>...</td>\n",
       "    </tr>\n",
       "    <tr>\n",
       "      <th>141652</th>\n",
       "      <td>20.5</td>\n",
       "      <td>0.0</td>\n",
       "      <td>52.0</td>\n",
       "      <td>35.0</td>\n",
       "      <td>20.0</td>\n",
       "      <td>23.0</td>\n",
       "      <td>12.0</td>\n",
       "      <td>1013.2</td>\n",
       "      <td>Uluru</td>\n",
       "      <td>E</td>\n",
       "      <td>ESE</td>\n",
       "      <td>E</td>\n",
       "      <td>No</td>\n",
       "      <td>12</td>\n",
       "      <td>52</td>\n",
       "    </tr>\n",
       "    <tr>\n",
       "      <th>141653</th>\n",
       "      <td>18.0</td>\n",
       "      <td>0.0</td>\n",
       "      <td>54.0</td>\n",
       "      <td>30.0</td>\n",
       "      <td>31.0</td>\n",
       "      <td>17.0</td>\n",
       "      <td>7.0</td>\n",
       "      <td>1014.7</td>\n",
       "      <td>Uluru</td>\n",
       "      <td>ESE</td>\n",
       "      <td>E</td>\n",
       "      <td>ESE</td>\n",
       "      <td>No</td>\n",
       "      <td>12</td>\n",
       "      <td>53</td>\n",
       "    </tr>\n",
       "    <tr>\n",
       "      <th>141654</th>\n",
       "      <td>17.5</td>\n",
       "      <td>0.0</td>\n",
       "      <td>56.0</td>\n",
       "      <td>33.0</td>\n",
       "      <td>22.0</td>\n",
       "      <td>12.0</td>\n",
       "      <td>7.0</td>\n",
       "      <td>1012.6</td>\n",
       "      <td>Uluru</td>\n",
       "      <td>E</td>\n",
       "      <td>E</td>\n",
       "      <td>SE</td>\n",
       "      <td>No</td>\n",
       "      <td>12</td>\n",
       "      <td>53</td>\n",
       "    </tr>\n",
       "    <tr>\n",
       "      <th>141655</th>\n",
       "      <td>20.0</td>\n",
       "      <td>0.0</td>\n",
       "      <td>59.0</td>\n",
       "      <td>20.0</td>\n",
       "      <td>17.0</td>\n",
       "      <td>12.0</td>\n",
       "      <td>12.0</td>\n",
       "      <td>1007.2</td>\n",
       "      <td>Uluru</td>\n",
       "      <td>E</td>\n",
       "      <td>E</td>\n",
       "      <td>SSE</td>\n",
       "      <td>No</td>\n",
       "      <td>12</td>\n",
       "      <td>53</td>\n",
       "    </tr>\n",
       "    <tr>\n",
       "      <th>141656</th>\n",
       "      <td>19.3</td>\n",
       "      <td>0.0</td>\n",
       "      <td>56.0</td>\n",
       "      <td>20.0</td>\n",
       "      <td>28.0</td>\n",
       "      <td>46.0</td>\n",
       "      <td>18.0</td>\n",
       "      <td>1007.3</td>\n",
       "      <td>Uluru</td>\n",
       "      <td>SE</td>\n",
       "      <td>ESE</td>\n",
       "      <td>S</td>\n",
       "      <td>No</td>\n",
       "      <td>12</td>\n",
       "      <td>53</td>\n",
       "    </tr>\n",
       "  </tbody>\n",
       "</table>\n",
       "<p>116217 rows × 15 columns</p>\n",
       "</div>"
      ],
      "text/plain": [
       "        MinTemp  Rainfall  WindGustSpeed  WindSpeed9am  WindSpeed3pm  \\\n",
       "0          13.4       0.6           44.0          20.0          24.0   \n",
       "1           7.4       0.0           44.0           4.0          22.0   \n",
       "2          12.9       0.0           46.0          19.0          26.0   \n",
       "3           9.2       0.0           24.0          11.0           9.0   \n",
       "4          17.5       1.0           41.0           7.0          20.0   \n",
       "...         ...       ...            ...           ...           ...   \n",
       "141652     20.5       0.0           52.0          35.0          20.0   \n",
       "141653     18.0       0.0           54.0          30.0          31.0   \n",
       "141654     17.5       0.0           56.0          33.0          22.0   \n",
       "141655     20.0       0.0           59.0          20.0          17.0   \n",
       "141656     19.3       0.0           56.0          20.0          28.0   \n",
       "\n",
       "        Humidity9am  Humidity3pm  Pressure9am Location WindGustDir WindDir9am  \\\n",
       "0              71.0         22.0       1007.7   Albury           W          W   \n",
       "1              44.0         25.0       1010.6   Albury         WNW        NNW   \n",
       "2              38.0         30.0       1007.6   Albury         WSW          W   \n",
       "3              45.0         16.0       1017.6   Albury          NE         SE   \n",
       "4              82.0         33.0       1010.8   Albury           W        ENE   \n",
       "...             ...          ...          ...      ...         ...        ...   \n",
       "141652         23.0         12.0       1013.2    Uluru           E        ESE   \n",
       "141653         17.0          7.0       1014.7    Uluru         ESE          E   \n",
       "141654         12.0          7.0       1012.6    Uluru           E          E   \n",
       "141655         12.0         12.0       1007.2    Uluru           E          E   \n",
       "141656         46.0         18.0       1007.3    Uluru          SE        ESE   \n",
       "\n",
       "       WindDir3pm RainToday month week_of_year  \n",
       "0             WNW        No    12           49  \n",
       "1             WSW        No    12           49  \n",
       "2             WSW        No    12           49  \n",
       "3               E        No    12           49  \n",
       "4              NW        No    12           49  \n",
       "...           ...       ...   ...          ...  \n",
       "141652          E        No    12           52  \n",
       "141653        ESE        No    12           53  \n",
       "141654         SE        No    12           53  \n",
       "141655        SSE        No    12           53  \n",
       "141656          S        No    12           53  \n",
       "\n",
       "[116217 rows x 15 columns]"
      ]
     },
     "execution_count": 32,
     "metadata": {},
     "output_type": "execute_result"
    }
   ],
   "source": [
    "X_train"
   ]
  },
  {
   "cell_type": "code",
   "execution_count": 33,
   "id": "a80bea33",
   "metadata": {},
   "outputs": [
    {
     "data": {
      "text/html": [
       "<div>\n",
       "<style scoped>\n",
       "    .dataframe tbody tr th:only-of-type {\n",
       "        vertical-align: middle;\n",
       "    }\n",
       "\n",
       "    .dataframe tbody tr th {\n",
       "        vertical-align: top;\n",
       "    }\n",
       "\n",
       "    .dataframe thead th {\n",
       "        text-align: right;\n",
       "    }\n",
       "</style>\n",
       "<table border=\"1\" class=\"dataframe\">\n",
       "  <thead>\n",
       "    <tr style=\"text-align: right;\">\n",
       "      <th></th>\n",
       "      <th>MinTemp</th>\n",
       "      <th>Rainfall</th>\n",
       "      <th>WindGustSpeed</th>\n",
       "      <th>WindSpeed9am</th>\n",
       "      <th>WindSpeed3pm</th>\n",
       "      <th>Humidity9am</th>\n",
       "      <th>Humidity3pm</th>\n",
       "      <th>Pressure9am</th>\n",
       "      <th>Location</th>\n",
       "      <th>WindGustDir</th>\n",
       "      <th>WindDir9am</th>\n",
       "      <th>WindDir3pm</th>\n",
       "      <th>RainToday</th>\n",
       "      <th>month</th>\n",
       "      <th>week_of_year</th>\n",
       "    </tr>\n",
       "  </thead>\n",
       "  <tbody>\n",
       "    <tr>\n",
       "      <th>2474</th>\n",
       "      <td>20.4</td>\n",
       "      <td>0.0</td>\n",
       "      <td>54.0</td>\n",
       "      <td>0.0</td>\n",
       "      <td>7.0</td>\n",
       "      <td>46.0</td>\n",
       "      <td>17.0</td>\n",
       "      <td>1013.4</td>\n",
       "      <td>Albury</td>\n",
       "      <td>ENE</td>\n",
       "      <td>Unidentified</td>\n",
       "      <td>ESE</td>\n",
       "      <td>No</td>\n",
       "      <td>1</td>\n",
       "      <td>53</td>\n",
       "    </tr>\n",
       "    <tr>\n",
       "      <th>2475</th>\n",
       "      <td>20.9</td>\n",
       "      <td>0.4</td>\n",
       "      <td>50.0</td>\n",
       "      <td>9.0</td>\n",
       "      <td>17.0</td>\n",
       "      <td>54.0</td>\n",
       "      <td>30.0</td>\n",
       "      <td>1011.1</td>\n",
       "      <td>Albury</td>\n",
       "      <td>SSE</td>\n",
       "      <td>SSE</td>\n",
       "      <td>SE</td>\n",
       "      <td>No</td>\n",
       "      <td>1</td>\n",
       "      <td>53</td>\n",
       "    </tr>\n",
       "    <tr>\n",
       "      <th>2476</th>\n",
       "      <td>18.4</td>\n",
       "      <td>2.2</td>\n",
       "      <td>48.0</td>\n",
       "      <td>11.0</td>\n",
       "      <td>39.0</td>\n",
       "      <td>62.0</td>\n",
       "      <td>67.0</td>\n",
       "      <td>1014.0</td>\n",
       "      <td>Albury</td>\n",
       "      <td>ENE</td>\n",
       "      <td>ESE</td>\n",
       "      <td>ENE</td>\n",
       "      <td>Yes</td>\n",
       "      <td>1</td>\n",
       "      <td>53</td>\n",
       "    </tr>\n",
       "    <tr>\n",
       "      <th>2477</th>\n",
       "      <td>17.3</td>\n",
       "      <td>15.6</td>\n",
       "      <td>39.0</td>\n",
       "      <td>9.0</td>\n",
       "      <td>17.0</td>\n",
       "      <td>74.0</td>\n",
       "      <td>65.0</td>\n",
       "      <td>1017.9</td>\n",
       "      <td>Albury</td>\n",
       "      <td>SSE</td>\n",
       "      <td>SE</td>\n",
       "      <td>SSE</td>\n",
       "      <td>Yes</td>\n",
       "      <td>1</td>\n",
       "      <td>1</td>\n",
       "    </tr>\n",
       "    <tr>\n",
       "      <th>2478</th>\n",
       "      <td>15.5</td>\n",
       "      <td>6.8</td>\n",
       "      <td>31.0</td>\n",
       "      <td>6.0</td>\n",
       "      <td>9.0</td>\n",
       "      <td>92.0</td>\n",
       "      <td>63.0</td>\n",
       "      <td>1016.3</td>\n",
       "      <td>Albury</td>\n",
       "      <td>ENE</td>\n",
       "      <td>SE</td>\n",
       "      <td>SSE</td>\n",
       "      <td>Yes</td>\n",
       "      <td>1</td>\n",
       "      <td>1</td>\n",
       "    </tr>\n",
       "    <tr>\n",
       "      <th>...</th>\n",
       "      <td>...</td>\n",
       "      <td>...</td>\n",
       "      <td>...</td>\n",
       "      <td>...</td>\n",
       "      <td>...</td>\n",
       "      <td>...</td>\n",
       "      <td>...</td>\n",
       "      <td>...</td>\n",
       "      <td>...</td>\n",
       "      <td>...</td>\n",
       "      <td>...</td>\n",
       "      <td>...</td>\n",
       "      <td>...</td>\n",
       "      <td>...</td>\n",
       "      <td>...</td>\n",
       "    </tr>\n",
       "    <tr>\n",
       "      <th>142185</th>\n",
       "      <td>3.5</td>\n",
       "      <td>0.0</td>\n",
       "      <td>31.0</td>\n",
       "      <td>15.0</td>\n",
       "      <td>13.0</td>\n",
       "      <td>59.0</td>\n",
       "      <td>27.0</td>\n",
       "      <td>1024.7</td>\n",
       "      <td>Uluru</td>\n",
       "      <td>E</td>\n",
       "      <td>ESE</td>\n",
       "      <td>E</td>\n",
       "      <td>No</td>\n",
       "      <td>6</td>\n",
       "      <td>25</td>\n",
       "    </tr>\n",
       "    <tr>\n",
       "      <th>142186</th>\n",
       "      <td>2.8</td>\n",
       "      <td>0.0</td>\n",
       "      <td>31.0</td>\n",
       "      <td>13.0</td>\n",
       "      <td>11.0</td>\n",
       "      <td>51.0</td>\n",
       "      <td>24.0</td>\n",
       "      <td>1024.6</td>\n",
       "      <td>Uluru</td>\n",
       "      <td>E</td>\n",
       "      <td>SE</td>\n",
       "      <td>ENE</td>\n",
       "      <td>No</td>\n",
       "      <td>6</td>\n",
       "      <td>25</td>\n",
       "    </tr>\n",
       "    <tr>\n",
       "      <th>142187</th>\n",
       "      <td>3.6</td>\n",
       "      <td>0.0</td>\n",
       "      <td>22.0</td>\n",
       "      <td>13.0</td>\n",
       "      <td>9.0</td>\n",
       "      <td>56.0</td>\n",
       "      <td>21.0</td>\n",
       "      <td>1023.5</td>\n",
       "      <td>Uluru</td>\n",
       "      <td>NNW</td>\n",
       "      <td>SE</td>\n",
       "      <td>N</td>\n",
       "      <td>No</td>\n",
       "      <td>6</td>\n",
       "      <td>25</td>\n",
       "    </tr>\n",
       "    <tr>\n",
       "      <th>142188</th>\n",
       "      <td>5.4</td>\n",
       "      <td>0.0</td>\n",
       "      <td>37.0</td>\n",
       "      <td>9.0</td>\n",
       "      <td>9.0</td>\n",
       "      <td>53.0</td>\n",
       "      <td>24.0</td>\n",
       "      <td>1021.0</td>\n",
       "      <td>Uluru</td>\n",
       "      <td>N</td>\n",
       "      <td>SE</td>\n",
       "      <td>WNW</td>\n",
       "      <td>No</td>\n",
       "      <td>6</td>\n",
       "      <td>25</td>\n",
       "    </tr>\n",
       "    <tr>\n",
       "      <th>142189</th>\n",
       "      <td>7.8</td>\n",
       "      <td>0.0</td>\n",
       "      <td>28.0</td>\n",
       "      <td>13.0</td>\n",
       "      <td>7.0</td>\n",
       "      <td>51.0</td>\n",
       "      <td>24.0</td>\n",
       "      <td>1019.4</td>\n",
       "      <td>Uluru</td>\n",
       "      <td>SE</td>\n",
       "      <td>SSE</td>\n",
       "      <td>N</td>\n",
       "      <td>No</td>\n",
       "      <td>6</td>\n",
       "      <td>25</td>\n",
       "    </tr>\n",
       "  </tbody>\n",
       "</table>\n",
       "<p>25973 rows × 15 columns</p>\n",
       "</div>"
      ],
      "text/plain": [
       "        MinTemp  Rainfall  WindGustSpeed  WindSpeed9am  WindSpeed3pm  \\\n",
       "2474       20.4       0.0           54.0           0.0           7.0   \n",
       "2475       20.9       0.4           50.0           9.0          17.0   \n",
       "2476       18.4       2.2           48.0          11.0          39.0   \n",
       "2477       17.3      15.6           39.0           9.0          17.0   \n",
       "2478       15.5       6.8           31.0           6.0           9.0   \n",
       "...         ...       ...            ...           ...           ...   \n",
       "142185      3.5       0.0           31.0          15.0          13.0   \n",
       "142186      2.8       0.0           31.0          13.0          11.0   \n",
       "142187      3.6       0.0           22.0          13.0           9.0   \n",
       "142188      5.4       0.0           37.0           9.0           9.0   \n",
       "142189      7.8       0.0           28.0          13.0           7.0   \n",
       "\n",
       "        Humidity9am  Humidity3pm  Pressure9am Location WindGustDir  \\\n",
       "2474           46.0         17.0       1013.4   Albury         ENE   \n",
       "2475           54.0         30.0       1011.1   Albury         SSE   \n",
       "2476           62.0         67.0       1014.0   Albury         ENE   \n",
       "2477           74.0         65.0       1017.9   Albury         SSE   \n",
       "2478           92.0         63.0       1016.3   Albury         ENE   \n",
       "...             ...          ...          ...      ...         ...   \n",
       "142185         59.0         27.0       1024.7    Uluru           E   \n",
       "142186         51.0         24.0       1024.6    Uluru           E   \n",
       "142187         56.0         21.0       1023.5    Uluru         NNW   \n",
       "142188         53.0         24.0       1021.0    Uluru           N   \n",
       "142189         51.0         24.0       1019.4    Uluru          SE   \n",
       "\n",
       "          WindDir9am WindDir3pm RainToday month week_of_year  \n",
       "2474    Unidentified        ESE        No     1           53  \n",
       "2475             SSE         SE        No     1           53  \n",
       "2476             ESE        ENE       Yes     1           53  \n",
       "2477              SE        SSE       Yes     1            1  \n",
       "2478              SE        SSE       Yes     1            1  \n",
       "...              ...        ...       ...   ...          ...  \n",
       "142185           ESE          E        No     6           25  \n",
       "142186            SE        ENE        No     6           25  \n",
       "142187            SE          N        No     6           25  \n",
       "142188            SE        WNW        No     6           25  \n",
       "142189           SSE          N        No     6           25  \n",
       "\n",
       "[25973 rows x 15 columns]"
      ]
     },
     "execution_count": 33,
     "metadata": {},
     "output_type": "execute_result"
    }
   ],
   "source": [
    "X_test"
   ]
  },
  {
   "cell_type": "code",
   "execution_count": 7,
   "id": "f5ecc8fa",
   "metadata": {},
   "outputs": [
    {
     "data": {
      "text/plain": [
       "['MinTemp',\n",
       " 'Rainfall',\n",
       " 'WindGustSpeed',\n",
       " 'WindSpeed9am',\n",
       " 'WindSpeed3pm',\n",
       " 'Humidity9am',\n",
       " 'Humidity3pm',\n",
       " 'Pressure9am']"
      ]
     },
     "execution_count": 7,
     "metadata": {},
     "output_type": "execute_result"
    }
   ],
   "source": [
    "float_names"
   ]
  },
  {
   "cell_type": "code",
   "execution_count": 8,
   "id": "9fcd8906",
   "metadata": {},
   "outputs": [
    {
     "data": {
      "text/plain": [
       "['Location',\n",
       " 'WindGustDir',\n",
       " 'WindDir9am',\n",
       " 'WindDir3pm',\n",
       " 'RainToday',\n",
       " 'month',\n",
       " 'week_of_year']"
      ]
     },
     "execution_count": 8,
     "metadata": {},
     "output_type": "execute_result"
    }
   ],
   "source": [
    "categorical_names"
   ]
  },
  {
   "cell_type": "code",
   "execution_count": 9,
   "id": "367fb3a0",
   "metadata": {},
   "outputs": [
    {
     "name": "stdout",
     "output_type": "stream",
     "text": [
      "<class 'pandas.core.frame.DataFrame'>\n",
      "Int64Index: 116217 entries, 0 to 141656\n",
      "Data columns (total 15 columns):\n",
      " #   Column         Non-Null Count   Dtype  \n",
      "---  ------         --------------   -----  \n",
      " 0   Location       116217 non-null  object \n",
      " 1   MinTemp        115740 non-null  float64\n",
      " 2   Rainfall       115075 non-null  float64\n",
      " 3   WindGustDir    116217 non-null  object \n",
      " 4   WindGustSpeed  108408 non-null  float64\n",
      " 5   WindDir9am     116217 non-null  object \n",
      " 6   WindDir3pm     116217 non-null  object \n",
      " 7   WindSpeed9am   115002 non-null  float64\n",
      " 8   WindSpeed3pm   114707 non-null  float64\n",
      " 9   Humidity9am    114731 non-null  float64\n",
      " 10  Humidity3pm    114363 non-null  float64\n",
      " 11  Pressure9am    104883 non-null  float64\n",
      " 12  RainToday      116217 non-null  object \n",
      " 13  month          116217 non-null  object \n",
      " 14  week_of_year   116217 non-null  object \n",
      "dtypes: float64(8), object(7)\n",
      "memory usage: 14.2+ MB\n"
     ]
    }
   ],
   "source": [
    " data[features_names].info()"
   ]
  },
  {
   "cell_type": "markdown",
   "id": "2711bc63",
   "metadata": {},
   "source": [
    "# RANDOM FOREST"
   ]
  },
  {
   "cell_type": "code",
   "execution_count": 10,
   "id": "df91df43",
   "metadata": {},
   "outputs": [],
   "source": [
    "numeric_transformer = Pipeline(\n",
    "    steps=[('imputer', KNNImputer(n_neighbors=5, weights=\"uniform\"))])\n",
    "categorical_transformer = Pipeline(\n",
    "    steps=[('CountEncoder', CountEncoder(normalize=True))])\n",
    "preprocessor = ColumnTransformer(remainder='passthrough',\n",
    "                                 transformers=[('numeric', numeric_transformer, float_names),\n",
    "                                               ('categorical', categorical_transformer, categorical_names)])"
   ]
  },
  {
   "cell_type": "code",
   "execution_count": 12,
   "id": "7f7478e8",
   "metadata": {},
   "outputs": [],
   "source": [
    "transform = Pipeline(steps=[(\"processing\", preprocessor),\n",
    "                            (\"RandomUnderSampler\", RandomUnderSampler(\n",
    "                                random_state=seed, sampling_strategy=ratio_balance)),\n",
    "                            (\"estimator\",  RandomForestClassifier())])"
   ]
  },
  {
   "cell_type": "code",
   "execution_count": 13,
   "id": "93506b24",
   "metadata": {},
   "outputs": [],
   "source": [
    "clf = transform.fit(X_train, y_train)"
   ]
  },
  {
   "cell_type": "code",
   "execution_count": 15,
   "id": "dd8d12b5",
   "metadata": {},
   "outputs": [
    {
     "data": {
      "text/plain": [
       "0.905977610848671"
      ]
     },
     "execution_count": 15,
     "metadata": {},
     "output_type": "execute_result"
    }
   ],
   "source": [
    "clf.score(X_train, y_train)"
   ]
  },
  {
   "cell_type": "code",
   "execution_count": 25,
   "id": "57194746",
   "metadata": {},
   "outputs": [],
   "source": [
    "y_pred = clf.predict(X_test)"
   ]
  },
  {
   "cell_type": "code",
   "execution_count": 26,
   "id": "80398b3f",
   "metadata": {},
   "outputs": [
    {
     "data": {
      "text/plain": [
       "array([[16262,  3765],\n",
       "       [ 1554,  4392]])"
      ]
     },
     "execution_count": 26,
     "metadata": {},
     "output_type": "execute_result"
    }
   ],
   "source": [
    "cm = confusion_matrix(y_test, y_pred)\n",
    "cm"
   ]
  },
  {
   "cell_type": "code",
   "execution_count": 27,
   "id": "7e2d0028",
   "metadata": {},
   "outputs": [
    {
     "data": {
      "text/plain": [
       "0.7386478304742684"
      ]
     },
     "execution_count": 27,
     "metadata": {},
     "output_type": "execute_result"
    }
   ],
   "source": [
    "recall = recall_score(y_test, y_pred)\n",
    "recall"
   ]
  },
  {
   "cell_type": "code",
   "execution_count": 28,
   "id": "aa7594cb",
   "metadata": {},
   "outputs": [
    {
     "data": {
      "text/plain": [
       "0.5384332475174697"
      ]
     },
     "execution_count": 28,
     "metadata": {},
     "output_type": "execute_result"
    }
   ],
   "source": [
    "precision = precision_score(y_test, y_pred)\n",
    "precision"
   ]
  },
  {
   "cell_type": "code",
   "execution_count": 29,
   "id": "34db9bdd",
   "metadata": {},
   "outputs": [
    {
     "data": {
      "text/plain": [
       "0.6228462029355457"
      ]
     },
     "execution_count": 29,
     "metadata": {},
     "output_type": "execute_result"
    }
   ],
   "source": [
    "f_1 = f1_score(y_test, y_pred)\n",
    "f_1"
   ]
  },
  {
   "cell_type": "code",
   "execution_count": 30,
   "id": "593291a5",
   "metadata": {},
   "outputs": [
    {
     "data": {
      "text/plain": [
       "0.49845619006285363"
      ]
     },
     "execution_count": 30,
     "metadata": {},
     "output_type": "execute_result"
    }
   ],
   "source": [
    "m_c = matthews_corrcoef(y_test, y_pred)\n",
    "m_c"
   ]
  },
  {
   "cell_type": "markdown",
   "id": "286e8e7e",
   "metadata": {},
   "source": [
    "# HISTOGRAM GRADIENT BOOSTING"
   ]
  },
  {
   "cell_type": "code",
   "execution_count": 44,
   "id": "7b5aefb4",
   "metadata": {},
   "outputs": [],
   "source": [
    "model_name = 'HistGradientBoostingClassifier'\n",
    "original_data = df_train.copy()\n",
    "data = original_data[features_names]\n",
    "float_names = list(data.select_dtypes(include='float64').columns)\n",
    "categorical_names = list(data.select_dtypes(include='object').columns)\n",
    "feature_names_order = get_feature_names_order(model_name=model_name,\n",
    "                                              float_names=float_names,\n",
    "                                              categorical_names=categorical_names)\n",
    "# features = data[feature_names_order]\n",
    "# label = original_data[objective_name]\n",
    "X_train= data[feature_names_order]\n",
    "y_train = original_data[objective_name]"
   ]
  },
  {
   "cell_type": "code",
   "execution_count": 45,
   "id": "d7288a55",
   "metadata": {},
   "outputs": [],
   "source": [
    "X_test= df_test[feature_names_order]\n",
    "y_test = df_test[objective_name]"
   ]
  },
  {
   "cell_type": "code",
   "execution_count": 46,
   "id": "132346df",
   "metadata": {},
   "outputs": [
    {
     "data": {
      "text/html": [
       "<div>\n",
       "<style scoped>\n",
       "    .dataframe tbody tr th:only-of-type {\n",
       "        vertical-align: middle;\n",
       "    }\n",
       "\n",
       "    .dataframe tbody tr th {\n",
       "        vertical-align: top;\n",
       "    }\n",
       "\n",
       "    .dataframe thead th {\n",
       "        text-align: right;\n",
       "    }\n",
       "</style>\n",
       "<table border=\"1\" class=\"dataframe\">\n",
       "  <thead>\n",
       "    <tr style=\"text-align: right;\">\n",
       "      <th></th>\n",
       "      <th>Location</th>\n",
       "      <th>WindGustDir</th>\n",
       "      <th>WindDir9am</th>\n",
       "      <th>WindDir3pm</th>\n",
       "      <th>RainToday</th>\n",
       "      <th>month</th>\n",
       "      <th>week_of_year</th>\n",
       "      <th>MinTemp</th>\n",
       "      <th>Rainfall</th>\n",
       "      <th>WindGustSpeed</th>\n",
       "      <th>WindSpeed9am</th>\n",
       "      <th>WindSpeed3pm</th>\n",
       "      <th>Humidity9am</th>\n",
       "      <th>Humidity3pm</th>\n",
       "      <th>Pressure9am</th>\n",
       "    </tr>\n",
       "  </thead>\n",
       "  <tbody>\n",
       "    <tr>\n",
       "      <th>0</th>\n",
       "      <td>Albury</td>\n",
       "      <td>W</td>\n",
       "      <td>W</td>\n",
       "      <td>WNW</td>\n",
       "      <td>No</td>\n",
       "      <td>12</td>\n",
       "      <td>49</td>\n",
       "      <td>13.4</td>\n",
       "      <td>0.6</td>\n",
       "      <td>44.0</td>\n",
       "      <td>20.0</td>\n",
       "      <td>24.0</td>\n",
       "      <td>71.0</td>\n",
       "      <td>22.0</td>\n",
       "      <td>1007.7</td>\n",
       "    </tr>\n",
       "    <tr>\n",
       "      <th>1</th>\n",
       "      <td>Albury</td>\n",
       "      <td>WNW</td>\n",
       "      <td>NNW</td>\n",
       "      <td>WSW</td>\n",
       "      <td>No</td>\n",
       "      <td>12</td>\n",
       "      <td>49</td>\n",
       "      <td>7.4</td>\n",
       "      <td>0.0</td>\n",
       "      <td>44.0</td>\n",
       "      <td>4.0</td>\n",
       "      <td>22.0</td>\n",
       "      <td>44.0</td>\n",
       "      <td>25.0</td>\n",
       "      <td>1010.6</td>\n",
       "    </tr>\n",
       "    <tr>\n",
       "      <th>2</th>\n",
       "      <td>Albury</td>\n",
       "      <td>WSW</td>\n",
       "      <td>W</td>\n",
       "      <td>WSW</td>\n",
       "      <td>No</td>\n",
       "      <td>12</td>\n",
       "      <td>49</td>\n",
       "      <td>12.9</td>\n",
       "      <td>0.0</td>\n",
       "      <td>46.0</td>\n",
       "      <td>19.0</td>\n",
       "      <td>26.0</td>\n",
       "      <td>38.0</td>\n",
       "      <td>30.0</td>\n",
       "      <td>1007.6</td>\n",
       "    </tr>\n",
       "    <tr>\n",
       "      <th>3</th>\n",
       "      <td>Albury</td>\n",
       "      <td>NE</td>\n",
       "      <td>SE</td>\n",
       "      <td>E</td>\n",
       "      <td>No</td>\n",
       "      <td>12</td>\n",
       "      <td>49</td>\n",
       "      <td>9.2</td>\n",
       "      <td>0.0</td>\n",
       "      <td>24.0</td>\n",
       "      <td>11.0</td>\n",
       "      <td>9.0</td>\n",
       "      <td>45.0</td>\n",
       "      <td>16.0</td>\n",
       "      <td>1017.6</td>\n",
       "    </tr>\n",
       "    <tr>\n",
       "      <th>4</th>\n",
       "      <td>Albury</td>\n",
       "      <td>W</td>\n",
       "      <td>ENE</td>\n",
       "      <td>NW</td>\n",
       "      <td>No</td>\n",
       "      <td>12</td>\n",
       "      <td>49</td>\n",
       "      <td>17.5</td>\n",
       "      <td>1.0</td>\n",
       "      <td>41.0</td>\n",
       "      <td>7.0</td>\n",
       "      <td>20.0</td>\n",
       "      <td>82.0</td>\n",
       "      <td>33.0</td>\n",
       "      <td>1010.8</td>\n",
       "    </tr>\n",
       "    <tr>\n",
       "      <th>...</th>\n",
       "      <td>...</td>\n",
       "      <td>...</td>\n",
       "      <td>...</td>\n",
       "      <td>...</td>\n",
       "      <td>...</td>\n",
       "      <td>...</td>\n",
       "      <td>...</td>\n",
       "      <td>...</td>\n",
       "      <td>...</td>\n",
       "      <td>...</td>\n",
       "      <td>...</td>\n",
       "      <td>...</td>\n",
       "      <td>...</td>\n",
       "      <td>...</td>\n",
       "      <td>...</td>\n",
       "    </tr>\n",
       "    <tr>\n",
       "      <th>141652</th>\n",
       "      <td>Uluru</td>\n",
       "      <td>E</td>\n",
       "      <td>ESE</td>\n",
       "      <td>E</td>\n",
       "      <td>No</td>\n",
       "      <td>12</td>\n",
       "      <td>52</td>\n",
       "      <td>20.5</td>\n",
       "      <td>0.0</td>\n",
       "      <td>52.0</td>\n",
       "      <td>35.0</td>\n",
       "      <td>20.0</td>\n",
       "      <td>23.0</td>\n",
       "      <td>12.0</td>\n",
       "      <td>1013.2</td>\n",
       "    </tr>\n",
       "    <tr>\n",
       "      <th>141653</th>\n",
       "      <td>Uluru</td>\n",
       "      <td>ESE</td>\n",
       "      <td>E</td>\n",
       "      <td>ESE</td>\n",
       "      <td>No</td>\n",
       "      <td>12</td>\n",
       "      <td>53</td>\n",
       "      <td>18.0</td>\n",
       "      <td>0.0</td>\n",
       "      <td>54.0</td>\n",
       "      <td>30.0</td>\n",
       "      <td>31.0</td>\n",
       "      <td>17.0</td>\n",
       "      <td>7.0</td>\n",
       "      <td>1014.7</td>\n",
       "    </tr>\n",
       "    <tr>\n",
       "      <th>141654</th>\n",
       "      <td>Uluru</td>\n",
       "      <td>E</td>\n",
       "      <td>E</td>\n",
       "      <td>SE</td>\n",
       "      <td>No</td>\n",
       "      <td>12</td>\n",
       "      <td>53</td>\n",
       "      <td>17.5</td>\n",
       "      <td>0.0</td>\n",
       "      <td>56.0</td>\n",
       "      <td>33.0</td>\n",
       "      <td>22.0</td>\n",
       "      <td>12.0</td>\n",
       "      <td>7.0</td>\n",
       "      <td>1012.6</td>\n",
       "    </tr>\n",
       "    <tr>\n",
       "      <th>141655</th>\n",
       "      <td>Uluru</td>\n",
       "      <td>E</td>\n",
       "      <td>E</td>\n",
       "      <td>SSE</td>\n",
       "      <td>No</td>\n",
       "      <td>12</td>\n",
       "      <td>53</td>\n",
       "      <td>20.0</td>\n",
       "      <td>0.0</td>\n",
       "      <td>59.0</td>\n",
       "      <td>20.0</td>\n",
       "      <td>17.0</td>\n",
       "      <td>12.0</td>\n",
       "      <td>12.0</td>\n",
       "      <td>1007.2</td>\n",
       "    </tr>\n",
       "    <tr>\n",
       "      <th>141656</th>\n",
       "      <td>Uluru</td>\n",
       "      <td>SE</td>\n",
       "      <td>ESE</td>\n",
       "      <td>S</td>\n",
       "      <td>No</td>\n",
       "      <td>12</td>\n",
       "      <td>53</td>\n",
       "      <td>19.3</td>\n",
       "      <td>0.0</td>\n",
       "      <td>56.0</td>\n",
       "      <td>20.0</td>\n",
       "      <td>28.0</td>\n",
       "      <td>46.0</td>\n",
       "      <td>18.0</td>\n",
       "      <td>1007.3</td>\n",
       "    </tr>\n",
       "  </tbody>\n",
       "</table>\n",
       "<p>116217 rows × 15 columns</p>\n",
       "</div>"
      ],
      "text/plain": [
       "       Location WindGustDir WindDir9am WindDir3pm RainToday month  \\\n",
       "0        Albury           W          W        WNW        No    12   \n",
       "1        Albury         WNW        NNW        WSW        No    12   \n",
       "2        Albury         WSW          W        WSW        No    12   \n",
       "3        Albury          NE         SE          E        No    12   \n",
       "4        Albury           W        ENE         NW        No    12   \n",
       "...         ...         ...        ...        ...       ...   ...   \n",
       "141652    Uluru           E        ESE          E        No    12   \n",
       "141653    Uluru         ESE          E        ESE        No    12   \n",
       "141654    Uluru           E          E         SE        No    12   \n",
       "141655    Uluru           E          E        SSE        No    12   \n",
       "141656    Uluru          SE        ESE          S        No    12   \n",
       "\n",
       "       week_of_year  MinTemp  Rainfall  WindGustSpeed  WindSpeed9am  \\\n",
       "0                49     13.4       0.6           44.0          20.0   \n",
       "1                49      7.4       0.0           44.0           4.0   \n",
       "2                49     12.9       0.0           46.0          19.0   \n",
       "3                49      9.2       0.0           24.0          11.0   \n",
       "4                49     17.5       1.0           41.0           7.0   \n",
       "...             ...      ...       ...            ...           ...   \n",
       "141652           52     20.5       0.0           52.0          35.0   \n",
       "141653           53     18.0       0.0           54.0          30.0   \n",
       "141654           53     17.5       0.0           56.0          33.0   \n",
       "141655           53     20.0       0.0           59.0          20.0   \n",
       "141656           53     19.3       0.0           56.0          20.0   \n",
       "\n",
       "        WindSpeed3pm  Humidity9am  Humidity3pm  Pressure9am  \n",
       "0               24.0         71.0         22.0       1007.7  \n",
       "1               22.0         44.0         25.0       1010.6  \n",
       "2               26.0         38.0         30.0       1007.6  \n",
       "3                9.0         45.0         16.0       1017.6  \n",
       "4               20.0         82.0         33.0       1010.8  \n",
       "...              ...          ...          ...          ...  \n",
       "141652          20.0         23.0         12.0       1013.2  \n",
       "141653          31.0         17.0          7.0       1014.7  \n",
       "141654          22.0         12.0          7.0       1012.6  \n",
       "141655          17.0         12.0         12.0       1007.2  \n",
       "141656          28.0         46.0         18.0       1007.3  \n",
       "\n",
       "[116217 rows x 15 columns]"
      ]
     },
     "execution_count": 46,
     "metadata": {},
     "output_type": "execute_result"
    }
   ],
   "source": [
    "X_train"
   ]
  },
  {
   "cell_type": "code",
   "execution_count": 47,
   "id": "486362f7",
   "metadata": {},
   "outputs": [
    {
     "data": {
      "text/html": [
       "<div>\n",
       "<style scoped>\n",
       "    .dataframe tbody tr th:only-of-type {\n",
       "        vertical-align: middle;\n",
       "    }\n",
       "\n",
       "    .dataframe tbody tr th {\n",
       "        vertical-align: top;\n",
       "    }\n",
       "\n",
       "    .dataframe thead th {\n",
       "        text-align: right;\n",
       "    }\n",
       "</style>\n",
       "<table border=\"1\" class=\"dataframe\">\n",
       "  <thead>\n",
       "    <tr style=\"text-align: right;\">\n",
       "      <th></th>\n",
       "      <th>Location</th>\n",
       "      <th>WindGustDir</th>\n",
       "      <th>WindDir9am</th>\n",
       "      <th>WindDir3pm</th>\n",
       "      <th>RainToday</th>\n",
       "      <th>month</th>\n",
       "      <th>week_of_year</th>\n",
       "      <th>MinTemp</th>\n",
       "      <th>Rainfall</th>\n",
       "      <th>WindGustSpeed</th>\n",
       "      <th>WindSpeed9am</th>\n",
       "      <th>WindSpeed3pm</th>\n",
       "      <th>Humidity9am</th>\n",
       "      <th>Humidity3pm</th>\n",
       "      <th>Pressure9am</th>\n",
       "    </tr>\n",
       "  </thead>\n",
       "  <tbody>\n",
       "    <tr>\n",
       "      <th>2474</th>\n",
       "      <td>Albury</td>\n",
       "      <td>ENE</td>\n",
       "      <td>Unidentified</td>\n",
       "      <td>ESE</td>\n",
       "      <td>No</td>\n",
       "      <td>1</td>\n",
       "      <td>53</td>\n",
       "      <td>20.4</td>\n",
       "      <td>0.0</td>\n",
       "      <td>54.0</td>\n",
       "      <td>0.0</td>\n",
       "      <td>7.0</td>\n",
       "      <td>46.0</td>\n",
       "      <td>17.0</td>\n",
       "      <td>1013.4</td>\n",
       "    </tr>\n",
       "    <tr>\n",
       "      <th>2475</th>\n",
       "      <td>Albury</td>\n",
       "      <td>SSE</td>\n",
       "      <td>SSE</td>\n",
       "      <td>SE</td>\n",
       "      <td>No</td>\n",
       "      <td>1</td>\n",
       "      <td>53</td>\n",
       "      <td>20.9</td>\n",
       "      <td>0.4</td>\n",
       "      <td>50.0</td>\n",
       "      <td>9.0</td>\n",
       "      <td>17.0</td>\n",
       "      <td>54.0</td>\n",
       "      <td>30.0</td>\n",
       "      <td>1011.1</td>\n",
       "    </tr>\n",
       "    <tr>\n",
       "      <th>2476</th>\n",
       "      <td>Albury</td>\n",
       "      <td>ENE</td>\n",
       "      <td>ESE</td>\n",
       "      <td>ENE</td>\n",
       "      <td>Yes</td>\n",
       "      <td>1</td>\n",
       "      <td>53</td>\n",
       "      <td>18.4</td>\n",
       "      <td>2.2</td>\n",
       "      <td>48.0</td>\n",
       "      <td>11.0</td>\n",
       "      <td>39.0</td>\n",
       "      <td>62.0</td>\n",
       "      <td>67.0</td>\n",
       "      <td>1014.0</td>\n",
       "    </tr>\n",
       "    <tr>\n",
       "      <th>2477</th>\n",
       "      <td>Albury</td>\n",
       "      <td>SSE</td>\n",
       "      <td>SE</td>\n",
       "      <td>SSE</td>\n",
       "      <td>Yes</td>\n",
       "      <td>1</td>\n",
       "      <td>1</td>\n",
       "      <td>17.3</td>\n",
       "      <td>15.6</td>\n",
       "      <td>39.0</td>\n",
       "      <td>9.0</td>\n",
       "      <td>17.0</td>\n",
       "      <td>74.0</td>\n",
       "      <td>65.0</td>\n",
       "      <td>1017.9</td>\n",
       "    </tr>\n",
       "    <tr>\n",
       "      <th>2478</th>\n",
       "      <td>Albury</td>\n",
       "      <td>ENE</td>\n",
       "      <td>SE</td>\n",
       "      <td>SSE</td>\n",
       "      <td>Yes</td>\n",
       "      <td>1</td>\n",
       "      <td>1</td>\n",
       "      <td>15.5</td>\n",
       "      <td>6.8</td>\n",
       "      <td>31.0</td>\n",
       "      <td>6.0</td>\n",
       "      <td>9.0</td>\n",
       "      <td>92.0</td>\n",
       "      <td>63.0</td>\n",
       "      <td>1016.3</td>\n",
       "    </tr>\n",
       "    <tr>\n",
       "      <th>...</th>\n",
       "      <td>...</td>\n",
       "      <td>...</td>\n",
       "      <td>...</td>\n",
       "      <td>...</td>\n",
       "      <td>...</td>\n",
       "      <td>...</td>\n",
       "      <td>...</td>\n",
       "      <td>...</td>\n",
       "      <td>...</td>\n",
       "      <td>...</td>\n",
       "      <td>...</td>\n",
       "      <td>...</td>\n",
       "      <td>...</td>\n",
       "      <td>...</td>\n",
       "      <td>...</td>\n",
       "    </tr>\n",
       "    <tr>\n",
       "      <th>142185</th>\n",
       "      <td>Uluru</td>\n",
       "      <td>E</td>\n",
       "      <td>ESE</td>\n",
       "      <td>E</td>\n",
       "      <td>No</td>\n",
       "      <td>6</td>\n",
       "      <td>25</td>\n",
       "      <td>3.5</td>\n",
       "      <td>0.0</td>\n",
       "      <td>31.0</td>\n",
       "      <td>15.0</td>\n",
       "      <td>13.0</td>\n",
       "      <td>59.0</td>\n",
       "      <td>27.0</td>\n",
       "      <td>1024.7</td>\n",
       "    </tr>\n",
       "    <tr>\n",
       "      <th>142186</th>\n",
       "      <td>Uluru</td>\n",
       "      <td>E</td>\n",
       "      <td>SE</td>\n",
       "      <td>ENE</td>\n",
       "      <td>No</td>\n",
       "      <td>6</td>\n",
       "      <td>25</td>\n",
       "      <td>2.8</td>\n",
       "      <td>0.0</td>\n",
       "      <td>31.0</td>\n",
       "      <td>13.0</td>\n",
       "      <td>11.0</td>\n",
       "      <td>51.0</td>\n",
       "      <td>24.0</td>\n",
       "      <td>1024.6</td>\n",
       "    </tr>\n",
       "    <tr>\n",
       "      <th>142187</th>\n",
       "      <td>Uluru</td>\n",
       "      <td>NNW</td>\n",
       "      <td>SE</td>\n",
       "      <td>N</td>\n",
       "      <td>No</td>\n",
       "      <td>6</td>\n",
       "      <td>25</td>\n",
       "      <td>3.6</td>\n",
       "      <td>0.0</td>\n",
       "      <td>22.0</td>\n",
       "      <td>13.0</td>\n",
       "      <td>9.0</td>\n",
       "      <td>56.0</td>\n",
       "      <td>21.0</td>\n",
       "      <td>1023.5</td>\n",
       "    </tr>\n",
       "    <tr>\n",
       "      <th>142188</th>\n",
       "      <td>Uluru</td>\n",
       "      <td>N</td>\n",
       "      <td>SE</td>\n",
       "      <td>WNW</td>\n",
       "      <td>No</td>\n",
       "      <td>6</td>\n",
       "      <td>25</td>\n",
       "      <td>5.4</td>\n",
       "      <td>0.0</td>\n",
       "      <td>37.0</td>\n",
       "      <td>9.0</td>\n",
       "      <td>9.0</td>\n",
       "      <td>53.0</td>\n",
       "      <td>24.0</td>\n",
       "      <td>1021.0</td>\n",
       "    </tr>\n",
       "    <tr>\n",
       "      <th>142189</th>\n",
       "      <td>Uluru</td>\n",
       "      <td>SE</td>\n",
       "      <td>SSE</td>\n",
       "      <td>N</td>\n",
       "      <td>No</td>\n",
       "      <td>6</td>\n",
       "      <td>25</td>\n",
       "      <td>7.8</td>\n",
       "      <td>0.0</td>\n",
       "      <td>28.0</td>\n",
       "      <td>13.0</td>\n",
       "      <td>7.0</td>\n",
       "      <td>51.0</td>\n",
       "      <td>24.0</td>\n",
       "      <td>1019.4</td>\n",
       "    </tr>\n",
       "  </tbody>\n",
       "</table>\n",
       "<p>25973 rows × 15 columns</p>\n",
       "</div>"
      ],
      "text/plain": [
       "       Location WindGustDir    WindDir9am WindDir3pm RainToday month  \\\n",
       "2474     Albury         ENE  Unidentified        ESE        No     1   \n",
       "2475     Albury         SSE           SSE         SE        No     1   \n",
       "2476     Albury         ENE           ESE        ENE       Yes     1   \n",
       "2477     Albury         SSE            SE        SSE       Yes     1   \n",
       "2478     Albury         ENE            SE        SSE       Yes     1   \n",
       "...         ...         ...           ...        ...       ...   ...   \n",
       "142185    Uluru           E           ESE          E        No     6   \n",
       "142186    Uluru           E            SE        ENE        No     6   \n",
       "142187    Uluru         NNW            SE          N        No     6   \n",
       "142188    Uluru           N            SE        WNW        No     6   \n",
       "142189    Uluru          SE           SSE          N        No     6   \n",
       "\n",
       "       week_of_year  MinTemp  Rainfall  WindGustSpeed  WindSpeed9am  \\\n",
       "2474             53     20.4       0.0           54.0           0.0   \n",
       "2475             53     20.9       0.4           50.0           9.0   \n",
       "2476             53     18.4       2.2           48.0          11.0   \n",
       "2477              1     17.3      15.6           39.0           9.0   \n",
       "2478              1     15.5       6.8           31.0           6.0   \n",
       "...             ...      ...       ...            ...           ...   \n",
       "142185           25      3.5       0.0           31.0          15.0   \n",
       "142186           25      2.8       0.0           31.0          13.0   \n",
       "142187           25      3.6       0.0           22.0          13.0   \n",
       "142188           25      5.4       0.0           37.0           9.0   \n",
       "142189           25      7.8       0.0           28.0          13.0   \n",
       "\n",
       "        WindSpeed3pm  Humidity9am  Humidity3pm  Pressure9am  \n",
       "2474             7.0         46.0         17.0       1013.4  \n",
       "2475            17.0         54.0         30.0       1011.1  \n",
       "2476            39.0         62.0         67.0       1014.0  \n",
       "2477            17.0         74.0         65.0       1017.9  \n",
       "2478             9.0         92.0         63.0       1016.3  \n",
       "...              ...          ...          ...          ...  \n",
       "142185          13.0         59.0         27.0       1024.7  \n",
       "142186          11.0         51.0         24.0       1024.6  \n",
       "142187           9.0         56.0         21.0       1023.5  \n",
       "142188           9.0         53.0         24.0       1021.0  \n",
       "142189           7.0         51.0         24.0       1019.4  \n",
       "\n",
       "[25973 rows x 15 columns]"
      ]
     },
     "execution_count": 47,
     "metadata": {},
     "output_type": "execute_result"
    }
   ],
   "source": [
    "X_test"
   ]
  },
  {
   "cell_type": "code",
   "execution_count": 48,
   "id": "34563122",
   "metadata": {},
   "outputs": [],
   "source": [
    "#numeric_transformer = Pipeline(\n",
    "#    steps=[('imputer', KNNImputer(n_neighbors=5, weights=\"uniform\"))])\n",
    "categorical_transformer = Pipeline(\n",
    "    steps=[('CountEncoder', CountEncoder(normalize=True))])\n",
    "preprocessor = ColumnTransformer(remainder='passthrough',\n",
    "                                 transformers=[('categorical', categorical_transformer, categorical_names)])"
   ]
  },
  {
   "cell_type": "code",
   "execution_count": 49,
   "id": "a0a69586",
   "metadata": {},
   "outputs": [],
   "source": [
    "transform = Pipeline(steps=[(\"processing\", preprocessor),\n",
    "                            (\"RandomUnderSampler\", RandomUnderSampler(\n",
    "                                random_state=seed, sampling_strategy=ratio_balance)),\n",
    "                            (\"estimator\",  HistGradientBoostingClassifier())])"
   ]
  },
  {
   "cell_type": "code",
   "execution_count": 50,
   "id": "13ba3393",
   "metadata": {},
   "outputs": [],
   "source": [
    "clf = transform.fit(X_train, y_train)"
   ]
  },
  {
   "cell_type": "code",
   "execution_count": 51,
   "id": "a9f22390",
   "metadata": {},
   "outputs": [],
   "source": [
    "y_pred = clf.predict(X_test)"
   ]
  },
  {
   "cell_type": "code",
   "execution_count": 52,
   "id": "1b7c83ee",
   "metadata": {},
   "outputs": [
    {
     "data": {
      "text/plain": [
       "array([[16279,  3748],\n",
       "       [ 1468,  4478]])"
      ]
     },
     "execution_count": 52,
     "metadata": {},
     "output_type": "execute_result"
    }
   ],
   "source": [
    "cm = confusion_matrix(y_test, y_pred)\n",
    "cm"
   ]
  },
  {
   "cell_type": "code",
   "execution_count": 53,
   "id": "6cc871e3",
   "metadata": {},
   "outputs": [
    {
     "data": {
      "text/plain": [
       "0.7531113353514968"
      ]
     },
     "execution_count": 53,
     "metadata": {},
     "output_type": "execute_result"
    }
   ],
   "source": [
    "recall = recall_score(y_test, y_pred)\n",
    "recall"
   ]
  },
  {
   "cell_type": "code",
   "execution_count": 54,
   "id": "c07631e2",
   "metadata": {},
   "outputs": [
    {
     "data": {
      "text/plain": [
       "0.5443715049841964"
      ]
     },
     "execution_count": 54,
     "metadata": {},
     "output_type": "execute_result"
    }
   ],
   "source": [
    "precision = precision_score(y_test, y_pred)\n",
    "precision"
   ]
  },
  {
   "cell_type": "code",
   "execution_count": 55,
   "id": "fc050ed0",
   "metadata": {},
   "outputs": [
    {
     "data": {
      "text/plain": [
       "0.6319503245836862"
      ]
     },
     "execution_count": 55,
     "metadata": {},
     "output_type": "execute_result"
    }
   ],
   "source": [
    "f_1 = f1_score(y_test, y_pred)\n",
    "f_1"
   ]
  },
  {
   "cell_type": "code",
   "execution_count": 56,
   "id": "c958c7a7",
   "metadata": {},
   "outputs": [
    {
     "data": {
      "text/plain": [
       "0.5111547128874186"
      ]
     },
     "execution_count": 56,
     "metadata": {},
     "output_type": "execute_result"
    }
   ],
   "source": [
    "m_c = matthews_corrcoef(y_test, y_pred)\n",
    "m_c"
   ]
  },
  {
   "cell_type": "markdown",
   "id": "3720cc06",
   "metadata": {},
   "source": [
    "# CROSS-VALIDATION DEL MODELO ELEGIDO SIN OPTIMIZAR"
   ]
  },
  {
   "cell_type": "code",
   "execution_count": 59,
   "id": "29ee11f8",
   "metadata": {},
   "outputs": [
    {
     "data": {
      "text/html": [
       "<style>#sk-container-id-1 {color: black;background-color: white;}#sk-container-id-1 pre{padding: 0;}#sk-container-id-1 div.sk-toggleable {background-color: white;}#sk-container-id-1 label.sk-toggleable__label {cursor: pointer;display: block;width: 100%;margin-bottom: 0;padding: 0.3em;box-sizing: border-box;text-align: center;}#sk-container-id-1 label.sk-toggleable__label-arrow:before {content: \"▸\";float: left;margin-right: 0.25em;color: #696969;}#sk-container-id-1 label.sk-toggleable__label-arrow:hover:before {color: black;}#sk-container-id-1 div.sk-estimator:hover label.sk-toggleable__label-arrow:before {color: black;}#sk-container-id-1 div.sk-toggleable__content {max-height: 0;max-width: 0;overflow: hidden;text-align: left;background-color: #f0f8ff;}#sk-container-id-1 div.sk-toggleable__content pre {margin: 0.2em;color: black;border-radius: 0.25em;background-color: #f0f8ff;}#sk-container-id-1 input.sk-toggleable__control:checked~div.sk-toggleable__content {max-height: 200px;max-width: 100%;overflow: auto;}#sk-container-id-1 input.sk-toggleable__control:checked~label.sk-toggleable__label-arrow:before {content: \"▾\";}#sk-container-id-1 div.sk-estimator input.sk-toggleable__control:checked~label.sk-toggleable__label {background-color: #d4ebff;}#sk-container-id-1 div.sk-label input.sk-toggleable__control:checked~label.sk-toggleable__label {background-color: #d4ebff;}#sk-container-id-1 input.sk-hidden--visually {border: 0;clip: rect(1px 1px 1px 1px);clip: rect(1px, 1px, 1px, 1px);height: 1px;margin: -1px;overflow: hidden;padding: 0;position: absolute;width: 1px;}#sk-container-id-1 div.sk-estimator {font-family: monospace;background-color: #f0f8ff;border: 1px dotted black;border-radius: 0.25em;box-sizing: border-box;margin-bottom: 0.5em;}#sk-container-id-1 div.sk-estimator:hover {background-color: #d4ebff;}#sk-container-id-1 div.sk-parallel-item::after {content: \"\";width: 100%;border-bottom: 1px solid gray;flex-grow: 1;}#sk-container-id-1 div.sk-label:hover label.sk-toggleable__label {background-color: #d4ebff;}#sk-container-id-1 div.sk-serial::before {content: \"\";position: absolute;border-left: 1px solid gray;box-sizing: border-box;top: 0;bottom: 0;left: 50%;z-index: 0;}#sk-container-id-1 div.sk-serial {display: flex;flex-direction: column;align-items: center;background-color: white;padding-right: 0.2em;padding-left: 0.2em;position: relative;}#sk-container-id-1 div.sk-item {position: relative;z-index: 1;}#sk-container-id-1 div.sk-parallel {display: flex;align-items: stretch;justify-content: center;background-color: white;position: relative;}#sk-container-id-1 div.sk-item::before, #sk-container-id-1 div.sk-parallel-item::before {content: \"\";position: absolute;border-left: 1px solid gray;box-sizing: border-box;top: 0;bottom: 0;left: 50%;z-index: -1;}#sk-container-id-1 div.sk-parallel-item {display: flex;flex-direction: column;z-index: 1;position: relative;background-color: white;}#sk-container-id-1 div.sk-parallel-item:first-child::after {align-self: flex-end;width: 50%;}#sk-container-id-1 div.sk-parallel-item:last-child::after {align-self: flex-start;width: 50%;}#sk-container-id-1 div.sk-parallel-item:only-child::after {width: 0;}#sk-container-id-1 div.sk-dashed-wrapped {border: 1px dashed gray;margin: 0 0.4em 0.5em 0.4em;box-sizing: border-box;padding-bottom: 0.4em;background-color: white;}#sk-container-id-1 div.sk-label label {font-family: monospace;font-weight: bold;display: inline-block;line-height: 1.2em;}#sk-container-id-1 div.sk-label-container {text-align: center;}#sk-container-id-1 div.sk-container {/* jupyter's `normalize.less` sets `[hidden] { display: none; }` but bootstrap.min.css set `[hidden] { display: none !important; }` so we also need the `!important` here to be able to override the default hidden behavior on the sphinx rendered scikit-learn.org. See: https://github.com/scikit-learn/scikit-learn/issues/21755 */display: inline-block !important;position: relative;}#sk-container-id-1 div.sk-text-repr-fallback {display: none;}</style><div id=\"sk-container-id-1\" class=\"sk-top-container\"><div class=\"sk-text-repr-fallback\"><pre>Pipeline(steps=[(&#x27;processing&#x27;,\n",
       "                 ColumnTransformer(remainder=&#x27;passthrough&#x27;,\n",
       "                                   transformers=[(&#x27;categorical&#x27;,\n",
       "                                                  Pipeline(steps=[(&#x27;CountEncoder&#x27;,\n",
       "                                                                   CountEncoder(combine_min_nan_groups=True,\n",
       "                                                                                normalize=True))]),\n",
       "                                                  [&#x27;Location&#x27;, &#x27;WindGustDir&#x27;,\n",
       "                                                   &#x27;WindDir9am&#x27;, &#x27;WindDir3pm&#x27;,\n",
       "                                                   &#x27;RainToday&#x27;, &#x27;month&#x27;,\n",
       "                                                   &#x27;week_of_year&#x27;])])),\n",
       "                (&#x27;RandomUnderSampler&#x27;,\n",
       "                 RandomUnderSampler(random_state=5000, sampling_strategy=0.9)),\n",
       "                (&#x27;estimator&#x27;, HistGradientBoostingClassifier())])</pre><b>In a Jupyter environment, please rerun this cell to show the HTML representation or trust the notebook. <br />On GitHub, the HTML representation is unable to render, please try loading this page with nbviewer.org.</b></div><div class=\"sk-container\" hidden><div class=\"sk-item sk-dashed-wrapped\"><div class=\"sk-label-container\"><div class=\"sk-label sk-toggleable\"><input class=\"sk-toggleable__control sk-hidden--visually\" id=\"sk-estimator-id-1\" type=\"checkbox\" ><label for=\"sk-estimator-id-1\" class=\"sk-toggleable__label sk-toggleable__label-arrow\">Pipeline</label><div class=\"sk-toggleable__content\"><pre>Pipeline(steps=[(&#x27;processing&#x27;,\n",
       "                 ColumnTransformer(remainder=&#x27;passthrough&#x27;,\n",
       "                                   transformers=[(&#x27;categorical&#x27;,\n",
       "                                                  Pipeline(steps=[(&#x27;CountEncoder&#x27;,\n",
       "                                                                   CountEncoder(combine_min_nan_groups=True,\n",
       "                                                                                normalize=True))]),\n",
       "                                                  [&#x27;Location&#x27;, &#x27;WindGustDir&#x27;,\n",
       "                                                   &#x27;WindDir9am&#x27;, &#x27;WindDir3pm&#x27;,\n",
       "                                                   &#x27;RainToday&#x27;, &#x27;month&#x27;,\n",
       "                                                   &#x27;week_of_year&#x27;])])),\n",
       "                (&#x27;RandomUnderSampler&#x27;,\n",
       "                 RandomUnderSampler(random_state=5000, sampling_strategy=0.9)),\n",
       "                (&#x27;estimator&#x27;, HistGradientBoostingClassifier())])</pre></div></div></div><div class=\"sk-serial\"><div class=\"sk-item sk-dashed-wrapped\"><div class=\"sk-label-container\"><div class=\"sk-label sk-toggleable\"><input class=\"sk-toggleable__control sk-hidden--visually\" id=\"sk-estimator-id-2\" type=\"checkbox\" ><label for=\"sk-estimator-id-2\" class=\"sk-toggleable__label sk-toggleable__label-arrow\">processing: ColumnTransformer</label><div class=\"sk-toggleable__content\"><pre>ColumnTransformer(remainder=&#x27;passthrough&#x27;,\n",
       "                  transformers=[(&#x27;categorical&#x27;,\n",
       "                                 Pipeline(steps=[(&#x27;CountEncoder&#x27;,\n",
       "                                                  CountEncoder(combine_min_nan_groups=True,\n",
       "                                                               normalize=True))]),\n",
       "                                 [&#x27;Location&#x27;, &#x27;WindGustDir&#x27;, &#x27;WindDir9am&#x27;,\n",
       "                                  &#x27;WindDir3pm&#x27;, &#x27;RainToday&#x27;, &#x27;month&#x27;,\n",
       "                                  &#x27;week_of_year&#x27;])])</pre></div></div></div><div class=\"sk-parallel\"><div class=\"sk-parallel-item\"><div class=\"sk-item\"><div class=\"sk-label-container\"><div class=\"sk-label sk-toggleable\"><input class=\"sk-toggleable__control sk-hidden--visually\" id=\"sk-estimator-id-3\" type=\"checkbox\" ><label for=\"sk-estimator-id-3\" class=\"sk-toggleable__label sk-toggleable__label-arrow\">categorical</label><div class=\"sk-toggleable__content\"><pre>[&#x27;Location&#x27;, &#x27;WindGustDir&#x27;, &#x27;WindDir9am&#x27;, &#x27;WindDir3pm&#x27;, &#x27;RainToday&#x27;, &#x27;month&#x27;, &#x27;week_of_year&#x27;]</pre></div></div></div><div class=\"sk-serial\"><div class=\"sk-item\"><div class=\"sk-serial\"><div class=\"sk-item\"><div class=\"sk-estimator sk-toggleable\"><input class=\"sk-toggleable__control sk-hidden--visually\" id=\"sk-estimator-id-4\" type=\"checkbox\" ><label for=\"sk-estimator-id-4\" class=\"sk-toggleable__label sk-toggleable__label-arrow\">CountEncoder</label><div class=\"sk-toggleable__content\"><pre>CountEncoder(combine_min_nan_groups=True, normalize=True)</pre></div></div></div></div></div></div></div></div><div class=\"sk-parallel-item\"><div class=\"sk-item\"><div class=\"sk-label-container\"><div class=\"sk-label sk-toggleable\"><input class=\"sk-toggleable__control sk-hidden--visually\" id=\"sk-estimator-id-5\" type=\"checkbox\" ><label for=\"sk-estimator-id-5\" class=\"sk-toggleable__label sk-toggleable__label-arrow\">remainder</label><div class=\"sk-toggleable__content\"><pre>[&#x27;MinTemp&#x27;, &#x27;Rainfall&#x27;, &#x27;WindGustSpeed&#x27;, &#x27;WindSpeed9am&#x27;, &#x27;WindSpeed3pm&#x27;, &#x27;Humidity9am&#x27;, &#x27;Humidity3pm&#x27;, &#x27;Pressure9am&#x27;]</pre></div></div></div><div class=\"sk-serial\"><div class=\"sk-item\"><div class=\"sk-estimator sk-toggleable\"><input class=\"sk-toggleable__control sk-hidden--visually\" id=\"sk-estimator-id-6\" type=\"checkbox\" ><label for=\"sk-estimator-id-6\" class=\"sk-toggleable__label sk-toggleable__label-arrow\">passthrough</label><div class=\"sk-toggleable__content\"><pre>passthrough</pre></div></div></div></div></div></div></div></div><div class=\"sk-item\"><div class=\"sk-estimator sk-toggleable\"><input class=\"sk-toggleable__control sk-hidden--visually\" id=\"sk-estimator-id-7\" type=\"checkbox\" ><label for=\"sk-estimator-id-7\" class=\"sk-toggleable__label sk-toggleable__label-arrow\">RandomUnderSampler</label><div class=\"sk-toggleable__content\"><pre>RandomUnderSampler(random_state=5000, sampling_strategy=0.9)</pre></div></div></div><div class=\"sk-item\"><div class=\"sk-estimator sk-toggleable\"><input class=\"sk-toggleable__control sk-hidden--visually\" id=\"sk-estimator-id-8\" type=\"checkbox\" ><label for=\"sk-estimator-id-8\" class=\"sk-toggleable__label sk-toggleable__label-arrow\">HistGradientBoostingClassifier</label><div class=\"sk-toggleable__content\"><pre>HistGradientBoostingClassifier()</pre></div></div></div></div></div></div></div>"
      ],
      "text/plain": [
       "Pipeline(steps=[('processing',\n",
       "                 ColumnTransformer(remainder='passthrough',\n",
       "                                   transformers=[('categorical',\n",
       "                                                  Pipeline(steps=[('CountEncoder',\n",
       "                                                                   CountEncoder(combine_min_nan_groups=True,\n",
       "                                                                                normalize=True))]),\n",
       "                                                  ['Location', 'WindGustDir',\n",
       "                                                   'WindDir9am', 'WindDir3pm',\n",
       "                                                   'RainToday', 'month',\n",
       "                                                   'week_of_year'])])),\n",
       "                ('RandomUnderSampler',\n",
       "                 RandomUnderSampler(random_state=5000, sampling_strategy=0.9)),\n",
       "                ('estimator', HistGradientBoostingClassifier())])"
      ]
     },
     "execution_count": 59,
     "metadata": {},
     "output_type": "execute_result"
    }
   ],
   "source": [
    "transform"
   ]
  },
  {
   "cell_type": "code",
   "execution_count": 60,
   "id": "e4731d63",
   "metadata": {},
   "outputs": [],
   "source": [
    "c_v = StratifiedKFold(n_splits=k_folds,\n",
    "                      shuffle=True,\n",
    "                      random_state=seed)"
   ]
  },
  {
   "cell_type": "code",
   "execution_count": 61,
   "id": "35ab66f0",
   "metadata": {},
   "outputs": [],
   "source": [
    "scores = {'f1': 'f1',\n",
    "          'precision': 'precision',\n",
    "          'recall': 'recall',\n",
    "          'm_c': make_scorer(matthews_corrcoef)}"
   ]
  },
  {
   "cell_type": "code",
   "execution_count": 62,
   "id": "07b72512",
   "metadata": {},
   "outputs": [
    {
     "name": "stdout",
     "output_type": "stream",
     "text": [
      "[CV] START .....................................................................\n",
      "[CV] END  f1: (test=0.639) m_c: (test=0.526) precision: (test=0.555) recall: (test=0.755) total time=   1.5s\n",
      "[CV] START .....................................................................\n"
     ]
    },
    {
     "name": "stderr",
     "output_type": "stream",
     "text": [
      "[Parallel(n_jobs=1)]: Done   1 tasks      | elapsed:    1.5s\n"
     ]
    },
    {
     "name": "stdout",
     "output_type": "stream",
     "text": [
      "[CV] END  f1: (test=0.637) m_c: (test=0.522) precision: (test=0.553) recall: (test=0.751) total time=   1.5s\n",
      "[CV] START .....................................................................\n",
      "[CV] END  f1: (test=0.644) m_c: (test=0.533) precision: (test=0.554) recall: (test=0.770) total time=   1.4s\n",
      "[CV] START .....................................................................\n",
      "[CV] END  f1: (test=0.643) m_c: (test=0.531) precision: (test=0.558) recall: (test=0.760) total time=   1.4s\n",
      "[CV] START .....................................................................\n"
     ]
    },
    {
     "name": "stderr",
     "output_type": "stream",
     "text": [
      "[Parallel(n_jobs=1)]: Done   4 tasks      | elapsed:    5.8s\n"
     ]
    },
    {
     "name": "stdout",
     "output_type": "stream",
     "text": [
      "[CV] END  f1: (test=0.638) m_c: (test=0.524) precision: (test=0.552) recall: (test=0.757) total time=   1.4s\n"
     ]
    }
   ],
   "source": [
    "cv_results = cross_validate(transform,\n",
    "                            X_train,\n",
    "                            y_train,\n",
    "                            cv=c_v,\n",
    "                            scoring=scores,\n",
    "                            verbose=10)"
   ]
  },
  {
   "cell_type": "code",
   "execution_count": 63,
   "id": "27fb9590",
   "metadata": {},
   "outputs": [
    {
     "data": {
      "text/plain": [
       "{'fit_time': array([1.37882662, 1.42404819, 1.23855615, 1.26180696, 1.24595594]),\n",
       " 'score_time': array([0.11588192, 0.11280656, 0.11290693, 0.11363268, 0.11292124]),\n",
       " 'test_f1': array([0.63939245, 0.63689162, 0.64417723, 0.64327676, 0.63821138]),\n",
       " 'test_precision': array([0.55453258, 0.55306151, 0.55384402, 0.55756719, 0.55172899]),\n",
       " 'test_recall': array([0.75491708, 0.75067489, 0.76972035, 0.76012341, 0.75684535]),\n",
       " 'test_m_c': array([0.52577452, 0.52232296, 0.53258575, 0.53112148, 0.52418493])}"
      ]
     },
     "execution_count": 63,
     "metadata": {},
     "output_type": "execute_result"
    }
   ],
   "source": [
    "cv_results"
   ]
  },
  {
   "cell_type": "code",
   "execution_count": 66,
   "id": "28394c36",
   "metadata": {},
   "outputs": [
    {
     "data": {
      "text/plain": [
       "0.64"
      ]
     },
     "execution_count": 66,
     "metadata": {},
     "output_type": "execute_result"
    }
   ],
   "source": [
    "round(cv_results['test_f1'].mean(), 2)"
   ]
  },
  {
   "cell_type": "code",
   "execution_count": 67,
   "id": "0a96974e",
   "metadata": {},
   "outputs": [
    {
     "data": {
      "text/plain": [
       "0.55"
      ]
     },
     "execution_count": 67,
     "metadata": {},
     "output_type": "execute_result"
    }
   ],
   "source": [
    "round(cv_results['test_precision'].mean(), 2)"
   ]
  },
  {
   "cell_type": "code",
   "execution_count": 68,
   "id": "56ff0278",
   "metadata": {},
   "outputs": [
    {
     "data": {
      "text/plain": [
       "0.76"
      ]
     },
     "execution_count": 68,
     "metadata": {},
     "output_type": "execute_result"
    }
   ],
   "source": [
    "round(cv_results['test_recall'].mean(), 2)"
   ]
  },
  {
   "cell_type": "code",
   "execution_count": 69,
   "id": "6f437d8e",
   "metadata": {},
   "outputs": [
    {
     "data": {
      "text/plain": [
       "0.53"
      ]
     },
     "execution_count": 69,
     "metadata": {},
     "output_type": "execute_result"
    }
   ],
   "source": [
    "round(cv_results['test_m_c'].mean(), 2)"
   ]
  },
  {
   "cell_type": "markdown",
   "id": "12ce9ba6",
   "metadata": {},
   "source": [
    "# GUARDADO DE MODELO"
   ]
  },
  {
   "cell_type": "code",
   "execution_count": 71,
   "id": "9eddbf15",
   "metadata": {},
   "outputs": [],
   "source": [
    "pickle.dump(clf, open(f'{path}rain_model.sav', 'wb'))"
   ]
  },
  {
   "cell_type": "code",
   "execution_count": null,
   "id": "aa19a14f",
   "metadata": {},
   "outputs": [],
   "source": []
  },
  {
   "cell_type": "code",
   "execution_count": null,
   "id": "fbdb3d25",
   "metadata": {},
   "outputs": [],
   "source": []
  },
  {
   "cell_type": "markdown",
   "id": "99e41b5d",
   "metadata": {},
   "source": [
    "# Experimentos ###################"
   ]
  },
  {
   "cell_type": "code",
   "execution_count": null,
   "id": "aef4851b",
   "metadata": {},
   "outputs": [],
   "source": [
    "from collections import Counter\n",
    "from sklearn.datasets import make_classification\n",
    "from imblearn.under_sampling import RandomUnderSampler\n",
    "X, y = make_classification(n_classes=2, class_sep=2,\n",
    " weights=[0.1, 0.9], n_informative=3, n_redundant=1, flip_y=0,\n",
    "n_features=20, n_clusters_per_class=1, n_samples=1000, random_state=10)"
   ]
  },
  {
   "cell_type": "code",
   "execution_count": null,
   "id": "77d1798d",
   "metadata": {},
   "outputs": [],
   "source": [
    "serie = pd.Series(y)\n",
    "serie.value_counts()"
   ]
  },
  {
   "cell_type": "code",
   "execution_count": null,
   "id": "f75d765f",
   "metadata": {},
   "outputs": [],
   "source": [
    "rus = RandomUnderSampler(random_state=42, sampling_strategy=0.8)\n",
    "X_res, y_res = rus.fit_resample(X, y)"
   ]
  },
  {
   "cell_type": "code",
   "execution_count": null,
   "id": "7d6a0bc6",
   "metadata": {},
   "outputs": [],
   "source": [
    "s = pd.Series(y_res)\n",
    "s.value_counts()"
   ]
  },
  {
   "cell_type": "code",
   "execution_count": null,
   "id": "5f41a0c7",
   "metadata": {},
   "outputs": [],
   "source": [
    "125*(0.8)"
   ]
  },
  {
   "cell_type": "code",
   "execution_count": null,
   "id": "bdc6b39a",
   "metadata": {},
   "outputs": [],
   "source": []
  }
 ],
 "metadata": {
  "kernelspec": {
   "display_name": "train_Aus",
   "language": "python",
   "name": "train_aus"
  },
  "language_info": {
   "codemirror_mode": {
    "name": "ipython",
    "version": 3
   },
   "file_extension": ".py",
   "mimetype": "text/x-python",
   "name": "python",
   "nbconvert_exporter": "python",
   "pygments_lexer": "ipython3",
   "version": "3.8.12"
  }
 },
 "nbformat": 4,
 "nbformat_minor": 5
}
