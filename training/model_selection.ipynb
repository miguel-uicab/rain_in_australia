{
 "cells": [
  {
   "cell_type": "code",
   "execution_count": null,
   "id": "dede1677",
   "metadata": {},
   "outputs": [],
   "source": [
    "# !/usr/bin/env python\n",
    "# coding: utf-8\n",
    "\n",
    "import warnings\n",
    "warnings.simplefilter(\"ignore\")\n",
    "from sklearn.impute import KNNImputer\n",
    "from sklearn.metrics import recall_score, precision_score \n",
    "from sklearn.metrics import f1_score, matthews_corrcoef, confusion_matrix\n",
    "from sklearn.metrics import make_scorer\n",
    "from sklearn.model_selection import StratifiedKFold, cross_validate \n",
    "from sklearn.ensemble import RandomForestClassifier, HistGradientBoostingClassifier\n",
    "from sklearn.compose import ColumnTransformer\n",
    "from imblearn.under_sampling import RandomUnderSampler\n",
    "from imblearn.pipeline import Pipeline\n",
    "from category_encoders.count import CountEncoder\n",
    "from training_functions import get_data, get_feature_names_order"
   ]
  },
  {
   "cell_type": "markdown",
   "id": "13452081",
   "metadata": {},
   "source": [
    "# 0. CARGA DE DATAS."
   ]
  },
  {
   "cell_type": "code",
   "execution_count": null,
   "id": "6627c94a",
   "metadata": {},
   "outputs": [],
   "source": [
    "path='../outputs/'\n",
    "df_train = get_data(name_sav='wA_train.sav', path=path)\n",
    "df_test = get_data(name_sav='wA_test.sav', path=path)"
   ]
  },
  {
   "cell_type": "markdown",
   "id": "62aec4f1",
   "metadata": {},
   "source": [
    "# 1. CONTEXTO DE LA MINICOMPETENCIA."
   ]
  },
  {
   "cell_type": "markdown",
   "id": "b33a5a67",
   "metadata": {},
   "source": [
    "Estamos ante un problema de clasificación binaria con un evento de desbalanceo importante. \n",
    "\n",
    "Se hará una minicompetencia de forma arbitraria, en el sentido de que solo habrá dos modelos a considerar, uno \"clasico\" y uno muy sofisticado. Estos son `RandomForestClassifier` e `HistGradientBoostingClassifier`.\n",
    "\n",
    "Los puntos generales a considerar en esta competencia son:\n",
    "* Se usarán una semilla arbitraria (`seed = 5000`).\n",
    "\n",
    "* Ambos modelos se entrenarán con los valores de sus hiperpárametros a como están por default en sus configuraciones desde `scikit-learn`. \n",
    "\n",
    "\n",
    "* El mejor modelo será el que tenga un mejor performance en la métrica __f1__ de __cross-validation__, porque, al combinar métricas como el __recall__ y el __precision__, está métrica da una idea del buen rendimiento general en ambos conjuntos, aunque estos estén desequilibrados.\n",
    "De hecho, el __f1__ pueder interpretarse como una especie de correlación, y entre más cercano a 1, se tendrá tanto un alto __precision__ como un alto __recall__, lo que implica una buena capacidad para clasificar correctamente las muestras positivas y minimizar los falsos positivos y falsos negativos.\n",
    "\n",
    "* Aunque el ganador lo dicidirá el __f1__, también se calculará la matriz de confusión de __testeo__, así como los scores de __precision__, __recall__, __coeficiente de correlación de Matthews (m_c)__, de __testeo__ y __cross-validation__, esto con fines informativos. Sin embargo, también pueden ayudar a elegir al modelo ganador en caso de empate.\n",
    "\n",
    "* Existen varios métodos para lidiar con el desbalanceo, entre submuestreos de la clase mayoritaria o sobremuestreos de la clase minoritaria. Aunque un método muy famoso de sobremuestreo es el `SMOTE`, en esta prueba se usará el método de submuestreo `RandomUnderSampler`. Esto es debido a que simplemente, por experiencia, se ha tenido mayor éxito en el pasado usando métodos de submuestreo.\n",
    "\n",
    "* El sumbuestreo se hará de tal forma que se tenga un equilibrio total entre la clase minoritaria y la mayoritaria. Esto equivale a tener una estrategia de muestreo igual a 1 (`ratio_balance = 1`).\n",
    "\n",
    "* Para la codificación de variables categóricas, no se hará uso de ténicas clásicas como el `OneHotEncoder` o el`LabelEncoder`,  si no del `CountEncoder`, esto para evitar la complejización del modelo. El `CountEncoder`, en su versión normalizada, consiste en el porcentaje de representación que tiene cierta clase en una variable categórica.\n",
    "\n",
    "* No se escalarán las variables numéricas, esto debido a que la mayoría de ellas se mueven en un rango similar de valores.\n",
    "\n",
    "* Se hará uso de __Pipilines__, es decir, de tuberias de proprocesamiento que contendrán pasos de transformación y de estimación necesarios.\n",
    "\n",
    "* El uso de __Pipilines__ será especialemnte importante sobretodo en la etapa de __cross-validation k-folds__, para garatizar la repetición de los procesos de imputación, codificación, submuestreo y ajuste del modelo, en cada iteración-__fold__.\n",
    "\n",
    "* Solo usaremos una cantidad pequeña de __folds__ (`k_folds = 4`).\n",
    "\n",
    "* El proceso de __cross-validatión__ contempla una estrategia de división estratificada (`StratifiedKFold`). Esto con el fin de que en cada iteración-__fold__ la variable objetivo tenga aproximadamente la misma configuración de porcentajes de clase a como se tiene en el conjunto de __Entrenamiento__. De tal suerte que el proceso de submuetreo será aplicado en cada __fold__ y esto será posible con ayuda los __Pipilines__ ofrecidos por la librería `imbalanced-learn`."
   ]
  },
  {
   "cell_type": "markdown",
   "id": "f5de22bf",
   "metadata": {},
   "source": [
    "# 2. CONFIGURACIONES GENERALES."
   ]
  },
  {
   "cell_type": "markdown",
   "id": "0d0b18b9",
   "metadata": {},
   "source": [
    "Se establecen los siguientes valores por default:"
   ]
  },
  {
   "cell_type": "code",
   "execution_count": null,
   "id": "76a7267a",
   "metadata": {},
   "outputs": [],
   "source": [
    "seed = 5000\n",
    "ratio_balance = 1\n",
    "k_folds = 4\n",
    "verbose = 10"
   ]
  },
  {
   "cell_type": "markdown",
   "id": "12cfa4f7",
   "metadata": {},
   "source": [
    "Se establece el listado de features y la variable objetivo."
   ]
  },
  {
   "cell_type": "code",
   "execution_count": null,
   "id": "aef1a67d",
   "metadata": {},
   "outputs": [],
   "source": [
    "features_names =  ['Location',\n",
    "                   'MinTemp',\n",
    "                   'Rainfall',\n",
    "                   'WindGustDir',\n",
    "                   'WindGustSpeed',\n",
    "                   'WindDir9am',\n",
    "                   'WindDir3pm',\n",
    "                   'WindSpeed3pm',\n",
    "                   'Humidity9am',\n",
    "                   'Humidity3pm', \n",
    "                   'Pressure9am',\n",
    "                   'RainToday', \n",
    "                   'month',\n",
    "                   'week_of_year']\n",
    "objective_name = 'RainTomorrow'"
   ]
  },
  {
   "cell_type": "markdown",
   "id": "c071c98b",
   "metadata": {},
   "source": [
    "Se obtiene el dataset de features en el conjunto de __Entrenamiento__."
   ]
  },
  {
   "cell_type": "code",
   "execution_count": null,
   "id": "014fee61",
   "metadata": {},
   "outputs": [],
   "source": [
    "original_data = df_train.copy()\n",
    "data_features = original_data[features_names]"
   ]
  },
  {
   "cell_type": "markdown",
   "id": "409e7655",
   "metadata": {},
   "source": [
    "Se obtienen los nombres de variables numéricas y de las categóricas."
   ]
  },
  {
   "cell_type": "code",
   "execution_count": null,
   "id": "340a080e",
   "metadata": {},
   "outputs": [],
   "source": [
    "float_names = list(data_features.select_dtypes(include='float64').columns)\n",
    "categorical_names = list(data_features.select_dtypes(include='object').columns)"
   ]
  },
  {
   "cell_type": "markdown",
   "id": "33ae44a4",
   "metadata": {},
   "source": [
    "Listado de scores de interés:"
   ]
  },
  {
   "cell_type": "code",
   "execution_count": null,
   "id": "576440f9",
   "metadata": {},
   "outputs": [],
   "source": [
    "scores = {'f1': 'f1',\n",
    "          'precision': 'precision',\n",
    "          'recall': 'recall',\n",
    "          'm_c': make_scorer(matthews_corrcoef)}"
   ]
  },
  {
   "cell_type": "markdown",
   "id": "73d057c8",
   "metadata": {},
   "source": [
    "Lo siguiente es el __Pipiline__ correspondiente al preprocesamiento de variables numéricas. Por ahora, solo contiene el imputador no parámetrico `KNNImputer` que solo se aplicará cuando se haga uso del estimador `RandomForestClassifier`. Lo anterior debido a que el estimador `HistGradientBoostingClassifier` ya contempla la presencia de missing en su ejecución."
   ]
  },
  {
   "cell_type": "code",
   "execution_count": null,
   "id": "5bdac366",
   "metadata": {},
   "outputs": [],
   "source": [
    "numeric_transformer = Pipeline(steps=[('imputer', KNNImputer(n_neighbors=3, weights=\"uniform\"))])"
   ]
  },
  {
   "cell_type": "markdown",
   "id": "e1175e78",
   "metadata": {},
   "source": [
    "El siguiente __Pipilene__ corresponde al procesamiento de variables categóricas. Contiene el codificación `CountEncoder`normalizada."
   ]
  },
  {
   "cell_type": "code",
   "execution_count": null,
   "id": "5ba8477a",
   "metadata": {},
   "outputs": [],
   "source": [
    "categorical_transformer = Pipeline(steps=[('CountEncoder', CountEncoder(normalize=True))])"
   ]
  },
  {
   "cell_type": "markdown",
   "id": "37126dcd",
   "metadata": {},
   "source": [
    "Por último, debido al uso de tranformaciones que afectan ya sea solo a variables categóricas o solo variables numéricas, el orden en que aparecen estos grupos de variables en los datasets es importante. Por otro lado, las tranformaciones que se aplican también dependen del estimador que se esté usando, por ejemplo, el `HistGradientBoostingClassifier` no requiere una imputación de valores previa.\n",
    "\n",
    "El orden en que van aplicandose la tranformaciones va corriendo a la derecha del dataset al grupo de variables al que se termina de aplicar dichas tranformaciones (ver seccion *Notes* [aquí.](https://scikit-learn.org/stable/modules/generated/sklearn.compose.ColumnTransformer.html))\n",
    "\n",
    "Para lidiar con este problema se hace uso de la función __get_feature_names_oder__ (ver información de ella en el script __training_functions.py__). "
   ]
  },
  {
   "cell_type": "markdown",
   "id": "79840af4",
   "metadata": {},
   "source": [
    "# 3. ENTRENAMIENTO DE HISTOGRAM GRADIENT BOOSTING."
   ]
  },
  {
   "cell_type": "markdown",
   "id": "24b9458f",
   "metadata": {},
   "source": [
    "Entrenemos el estimador `HistGradientBoostingClassifier`."
   ]
  },
  {
   "cell_type": "code",
   "execution_count": null,
   "id": "526e738a",
   "metadata": {},
   "outputs": [],
   "source": [
    "model_name = 'HistGradientBoostingClassifier'"
   ]
  },
  {
   "cell_type": "code",
   "execution_count": null,
   "id": "7b5aefb4",
   "metadata": {},
   "outputs": [],
   "source": [
    "# orden de las variables, depende del estimador escogido.\n",
    "feature_names_order = get_feature_names_order(model_name=model_name,\n",
    "                                              float_names=float_names,\n",
    "                                              categorical_names=categorical_names)"
   ]
  },
  {
   "cell_type": "markdown",
   "id": "1c338288",
   "metadata": {},
   "source": [
    "Se obtienen las versiones definitivas de los conjuntos de __Entrenamiento__ y de __Prueba__."
   ]
  },
  {
   "cell_type": "code",
   "execution_count": null,
   "id": "0c1a26be",
   "metadata": {},
   "outputs": [],
   "source": [
    "X_train= data_features[feature_names_order]\n",
    "y_train = original_data[objective_name]\n",
    "X_test= df_test[feature_names_order]\n",
    "y_test = df_test[objective_name]"
   ]
  },
  {
   "cell_type": "markdown",
   "id": "4201ab4f",
   "metadata": {},
   "source": [
    "La __objeto (clase)__ de preprocesamiento solo contemplará la codificación de variables categóricas."
   ]
  },
  {
   "cell_type": "code",
   "execution_count": null,
   "id": "9c714892",
   "metadata": {},
   "outputs": [],
   "source": [
    "preprocessor = ColumnTransformer(remainder='passthrough',\n",
    "                                 transformers=[('categorical', categorical_transformer, categorical_names)])"
   ]
  },
  {
   "cell_type": "markdown",
   "id": "a668b920",
   "metadata": {},
   "source": [
    "Se muestra el orden en que se aplicarán los procesos de tranformación en el __Pipiline general__:\n",
    "1. Preprocesamiento de variables (codificación).\n",
    "2. Submuestro.\n",
    "3. Ajuste de modelo."
   ]
  },
  {
   "cell_type": "code",
   "execution_count": null,
   "id": "269deb92",
   "metadata": {},
   "outputs": [],
   "source": [
    "transform = Pipeline(steps=[(\"processing\", preprocessor),\n",
    "                            (\"RandomUnderSampler\", RandomUnderSampler(random_state=seed,\n",
    "                                                                      sampling_strategy=ratio_balance)),\n",
    "                            (\"estimator\",  HistGradientBoostingClassifier(random_state=seed))])\n",
    "transform"
   ]
  },
  {
   "cell_type": "markdown",
   "id": "03c80e13",
   "metadata": {},
   "source": [
    "## 3. 1 Ajuste del modelo para obtener métricas de testeo."
   ]
  },
  {
   "cell_type": "code",
   "execution_count": null,
   "id": "13ba3393",
   "metadata": {},
   "outputs": [],
   "source": [
    "clf = transform.fit(X_train, y_train)"
   ]
  },
  {
   "cell_type": "code",
   "execution_count": null,
   "id": "efff19ec",
   "metadata": {},
   "outputs": [],
   "source": [
    "y_pred = clf.predict(X_test)"
   ]
  },
  {
   "cell_type": "markdown",
   "id": "6e795c85",
   "metadata": {},
   "source": [
    "A continuación se exhiben las métricas de testeo, solo con fines informativos."
   ]
  },
  {
   "cell_type": "code",
   "execution_count": null,
   "id": "947462ac",
   "metadata": {},
   "outputs": [],
   "source": [
    "f_1_testeo = f1_score(y_test, y_pred)\n",
    "precision_testeo = precision_score(y_test, y_pred)\n",
    "recall_testeo = recall_score(y_test, y_pred)\n",
    "m_c_testeo = matthews_corrcoef(y_test, y_pred)\n",
    "cm_testeo = confusion_matrix(y_test, y_pred)"
   ]
  },
  {
   "cell_type": "code",
   "execution_count": null,
   "id": "1af456aa",
   "metadata": {},
   "outputs": [],
   "source": [
    "print('f1-testeo:', round(f_1_testeo, 2))\n",
    "print('precision-testeo:', round(precision_testeo, 2))\n",
    "print('recall-testo:', round(recall_testeo, 2))\n",
    "print('m_c-testeo:', round(m_c_testeo, 2))\n",
    "print('matriz de confusión de testeo', cm_testeo)"
   ]
  },
  {
   "cell_type": "markdown",
   "id": "f4a6d55e",
   "metadata": {},
   "source": [
    "## 3.2 Cross-validation."
   ]
  },
  {
   "cell_type": "code",
   "execution_count": null,
   "id": "d1b4fd38",
   "metadata": {},
   "outputs": [],
   "source": [
    "c_v = StratifiedKFold(n_splits=k_folds,\n",
    "                      shuffle=True,\n",
    "                      random_state=seed)"
   ]
  },
  {
   "cell_type": "code",
   "execution_count": null,
   "id": "b1c1dfb2",
   "metadata": {},
   "outputs": [],
   "source": [
    "cv_results = cross_validate(transform,\n",
    "                            X_train,\n",
    "                            y_train,\n",
    "                            cv=c_v,\n",
    "                            scoring=scores,\n",
    "                            verbose=10)"
   ]
  },
  {
   "cell_type": "markdown",
   "id": "70e1a046",
   "metadata": {},
   "source": [
    "Se obtienen las métricas de __cross-validation__."
   ]
  },
  {
   "cell_type": "code",
   "execution_count": null,
   "id": "5ff83fd2",
   "metadata": {},
   "outputs": [],
   "source": [
    "print('f1-cv:', round(cv_results['test_f1'].mean(), 2))\n",
    "print('precision-cv:', round(cv_results['test_precision'].mean(), 2))\n",
    "print('recall-cv:', round(cv_results['test_recall'].mean(), 2))\n",
    "print('m_c-cv:', round(cv_results['test_m_c'].mean(), 2))"
   ]
  },
  {
   "cell_type": "markdown",
   "id": "1d7e8444",
   "metadata": {},
   "source": [
    "# 4. ENTRENAMIENTO DE RANDOM FOREST."
   ]
  },
  {
   "cell_type": "markdown",
   "id": "9ca8c6ad",
   "metadata": {},
   "source": [
    "__¡¡¡ ADVERTENCIA !!!:__ El entrenamiento y __cross-validation__ de este modelo puede durar mucho tiempo debido al proceso de imputación de datos que lleva a cabo."
   ]
  },
  {
   "cell_type": "markdown",
   "id": "1c0d7da2",
   "metadata": {},
   "source": [
    "Entrenemos el estimador `RandomForestClassifier`."
   ]
  },
  {
   "cell_type": "code",
   "execution_count": null,
   "id": "b0d6f580",
   "metadata": {},
   "outputs": [],
   "source": [
    "model_name = 'RandomForestClassifier'"
   ]
  },
  {
   "cell_type": "code",
   "execution_count": null,
   "id": "595e290d",
   "metadata": {},
   "outputs": [],
   "source": [
    "# orden de las variables, depende del estimador escogido.\n",
    "feature_names_order = get_feature_names_order(model_name=model_name,\n",
    "                                              float_names=float_names,\n",
    "                                              categorical_names=categorical_names)"
   ]
  },
  {
   "cell_type": "markdown",
   "id": "be9a015d",
   "metadata": {},
   "source": [
    "Se obtienen las versiones definitivas de los conjuntos de __Entrenamiento__ y de __Prueba__."
   ]
  },
  {
   "cell_type": "code",
   "execution_count": null,
   "id": "8e0a4d1b",
   "metadata": {},
   "outputs": [],
   "source": [
    "X_train= data_features[feature_names_order]\n",
    "y_train = original_data[objective_name]\n",
    "X_test= df_test[feature_names_order]\n",
    "y_test = df_test[objective_name]"
   ]
  },
  {
   "cell_type": "markdown",
   "id": "6b1f1d12",
   "metadata": {},
   "source": [
    "La __objeto (clase)__ de preprocesamiento contemplará tanto la imputación de valores en variables numéricas como la codificación de variables categóricas."
   ]
  },
  {
   "cell_type": "code",
   "execution_count": null,
   "id": "df91df43",
   "metadata": {},
   "outputs": [],
   "source": [
    "preprocessor = ColumnTransformer(remainder='passthrough',\n",
    "                                 transformers=[('numeric', numeric_transformer, float_names),\n",
    "                                               ('categorical', categorical_transformer, categorical_names)])"
   ]
  },
  {
   "cell_type": "markdown",
   "id": "bf4519d7",
   "metadata": {},
   "source": [
    "Se muestra el orden en que se aplicarán los procesos de tranformación en el __Pipiline general__:\n",
    "1. Preprocesamiento de variables (imputación y codificación).\n",
    "2. Submuestro.\n",
    "3. Ajuste de modelo."
   ]
  },
  {
   "cell_type": "code",
   "execution_count": null,
   "id": "7f7478e8",
   "metadata": {},
   "outputs": [],
   "source": [
    "transform = Pipeline(steps=[(\"processing\", preprocessor),\n",
    "                            (\"RandomUnderSampler\", RandomUnderSampler(random_state=seed,\n",
    "                                                                      sampling_strategy=ratio_balance)),\n",
    "                            (\"estimator\",  RandomForestClassifier(random_state=seed))])\n",
    "transform"
   ]
  },
  {
   "cell_type": "markdown",
   "id": "3857dde6",
   "metadata": {},
   "source": [
    "## 4. 1 Ajuste del modelo para obtener métricas de testeo."
   ]
  },
  {
   "cell_type": "code",
   "execution_count": null,
   "id": "fe65888a",
   "metadata": {},
   "outputs": [],
   "source": [
    "clf = transform.fit(X_train, y_train)"
   ]
  },
  {
   "cell_type": "code",
   "execution_count": null,
   "id": "cb81eeb4",
   "metadata": {},
   "outputs": [],
   "source": [
    "y_pred = clf.predict(X_test)"
   ]
  },
  {
   "cell_type": "markdown",
   "id": "9ab19e44",
   "metadata": {},
   "source": [
    "A continuación se exhiben las métricas de testeo, solo con fines informativos."
   ]
  },
  {
   "cell_type": "code",
   "execution_count": null,
   "id": "d6a5b13f",
   "metadata": {},
   "outputs": [],
   "source": [
    "f_1_testeo = f1_score(y_test, y_pred)\n",
    "precision_testeo = precision_score(y_test, y_pred)\n",
    "recall_testeo = recall_score(y_test, y_pred)\n",
    "m_c_testeo = matthews_corrcoef(y_test, y_pred)\n",
    "cm_testeo = confusion_matrix(y_test, y_pred)"
   ]
  },
  {
   "cell_type": "code",
   "execution_count": null,
   "id": "2bf3fbe3",
   "metadata": {},
   "outputs": [],
   "source": [
    "print('f1-testeo:', round(f_1_testeo, 2))\n",
    "print('precision-testeo:', round(precision_testeo, 2))\n",
    "print('recall-testo:', round(recall_testeo, 2))\n",
    "print('m_c-testeo:', round(m_c_testeo, 2))\n",
    "print('matriz de confusión de testeo', cm_testeo)"
   ]
  },
  {
   "cell_type": "markdown",
   "id": "6a439278",
   "metadata": {},
   "source": [
    "## 4.2 Cross-validation."
   ]
  },
  {
   "cell_type": "code",
   "execution_count": null,
   "id": "8ee000d0",
   "metadata": {},
   "outputs": [],
   "source": [
    "c_v = StratifiedKFold(n_splits=k_folds,\n",
    "                      shuffle=True,\n",
    "                      random_state=seed)"
   ]
  },
  {
   "cell_type": "code",
   "execution_count": null,
   "id": "cbe1f4e6",
   "metadata": {},
   "outputs": [],
   "source": [
    "cv_results = cross_validate(transform,\n",
    "                            X_train,\n",
    "                            y_train,\n",
    "                            cv=c_v,\n",
    "                            scoring=scores,\n",
    "                            verbose=10)"
   ]
  },
  {
   "cell_type": "markdown",
   "id": "567a6176",
   "metadata": {},
   "source": [
    "Se obtienen las métricas de __cross-validation__."
   ]
  },
  {
   "cell_type": "code",
   "execution_count": null,
   "id": "9ef7e2a2",
   "metadata": {},
   "outputs": [],
   "source": [
    "print('f1-cv:', round(cv_results['test_f1'].mean(), 2))\n",
    "print('precision-cv:', round(cv_results['test_precision'].mean(), 2))\n",
    "print('recall-cv:', round(cv_results['test_recall'].mean(), 2))\n",
    "print('m_c-cv:', round(cv_results['test_m_c'].mean(), 2))"
   ]
  },
  {
   "cell_type": "markdown",
   "id": "d84979cd",
   "metadata": {},
   "source": [
    "# 5. MODELO GANADOR."
   ]
  },
  {
   "cell_type": "markdown",
   "id": "ad7dfdd4",
   "metadata": {},
   "source": [
    "Hay un empate entre los modelos cuando se contemplan los scores __f1__ y __precision__ de __cross-validation__ (0.63 y 0.53). \n",
    "\n",
    "El desempate se da al observar una mejora en los scores de __recall__ y __m_c__ de __cross-validation__ en el estimador \n",
    "`HistGradientBoostingClassifier` frente a los del `RandomForestClassifier` (0.78 y 0.52 vs 0.77 y 0.51). Además, los scores de __testeo__ del primero superan a los scores de __testeo__ del segundo.\n",
    "\n",
    "Siendo así, se elige al `HistGradientBoostingClassifier` por tener un mejor performance en las métricas de __cross-validation__ y de __testeo__. Además, es más rápido al considerar desde su configuración la presencia de valores predidos en las variables numéricas."
   ]
  },
  {
   "cell_type": "code",
   "execution_count": null,
   "id": "14202a47",
   "metadata": {},
   "outputs": [],
   "source": []
  }
 ],
 "metadata": {
  "kernelspec": {
   "display_name": "train_Aus",
   "language": "python",
   "name": "train_aus"
  },
  "language_info": {
   "codemirror_mode": {
    "name": "ipython",
    "version": 3
   },
   "file_extension": ".py",
   "mimetype": "text/x-python",
   "name": "python",
   "nbconvert_exporter": "python",
   "pygments_lexer": "ipython3",
   "version": "3.8.12"
  }
 },
 "nbformat": 4,
 "nbformat_minor": 5
}
