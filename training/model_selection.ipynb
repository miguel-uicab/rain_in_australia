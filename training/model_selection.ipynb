{
 "cells": [
  {
   "cell_type": "code",
   "execution_count": 1,
   "id": "dede1677",
   "metadata": {},
   "outputs": [],
   "source": [
    "# !/usr/bin/env python\n",
    "# coding: utf-8\n",
    "\n",
    "import warnings\n",
    "warnings.simplefilter(\"ignore\")\n",
    "from sklearn.impute import KNNImputer\n",
    "from sklearn.metrics import recall_score, precision_score \n",
    "from sklearn.metrics import f1_score, matthews_corrcoef, confusion_matrix\n",
    "from sklearn.metrics import make_scorer\n",
    "from sklearn.model_selection import StratifiedKFold, cross_validate \n",
    "from sklearn.ensemble import RandomForestClassifier, HistGradientBoostingClassifier\n",
    "from sklearn.compose import ColumnTransformer\n",
    "from imblearn.under_sampling import RandomUnderSampler\n",
    "from imblearn.pipeline import Pipeline\n",
    "from category_encoders.count import CountEncoder\n",
    "from training_functions import get_data, get_feature_names_order"
   ]
  },
  {
   "cell_type": "markdown",
   "id": "13452081",
   "metadata": {},
   "source": [
    "# 0. CARGA DE DATAS."
   ]
  },
  {
   "cell_type": "code",
   "execution_count": 2,
   "id": "6627c94a",
   "metadata": {},
   "outputs": [],
   "source": [
    "path='../outputs/'\n",
    "df_train = get_data(name_sav='wA_train.sav', path=path)\n",
    "df_test = get_data(name_sav='wA_test.sav', path=path)"
   ]
  },
  {
   "cell_type": "markdown",
   "id": "62aec4f1",
   "metadata": {},
   "source": [
    "# 1. CONTEXTO DE LA MINICOMPETENCIA."
   ]
  },
  {
   "cell_type": "markdown",
   "id": "b33a5a67",
   "metadata": {},
   "source": [
    "Estamos ante un problema de clasificación binaria con un evento de desbalanceo importante. \n",
    "\n",
    "Se hará una minicompetencia de forma arbitraria, en el sentido de que solo habrá dos modelos a considerar, uno \"clasico\" y uno muy sofisticado. Estos son `RandomForestClassifier` e `HistGradientBoostingClassifier`.\n",
    "\n",
    "Los puntos generales a considerar en esta competencia son:\n",
    "* Se usarán una semilla arbitraria (`seed = 5000`).\n",
    "\n",
    "* Ambos modelos se entrenarán con los valores de sus hiperpárametros a como están por default en sus configuraciones desde `scikit-learn`. \n",
    "\n",
    "\n",
    "* El mejor modelo será el que tenga un mejor performance en la métrica __f1__ de __cross-validation__, porque, al combinar métricas como el __recall__ y el __precision__, está métrica da una idea del buen rendimiento general en ambos conjuntos, aunque estos estén desequilibrados.\n",
    "De hecho, el __f1__ puede interpretarse como una especie de correlación, y entre más cercano a 1, se tendrá tanto un alto __precision__ como un alto __recall__, lo que implica una buena capacidad para clasificar correctamente las muestras positivas y minimizar los falsos positivos y falsos negativos.\n",
    "\n",
    "* Aunque el ganador lo dicidirá el __f1__, también se calculará la matriz de confusión de __testeo__, así como los scores de __precision__, __recall__, __coeficiente de correlación de Matthews (m_c)__, de __testeo__ y __cross-validation__, esto con fines informativos. Sin embargo, también pueden ayudar a elegir al modelo ganador en caso de empate.\n",
    "\n",
    "* Existen varios métodos para lidiar con el desbalanceo, entre submuestreos de la clase mayoritaria o sobremuestreos de la clase minoritaria. Aunque un método muy famoso de sobremuestreo es el `SMOTE`, en esta prueba se usará el método de submuestreo `RandomUnderSampler`. Esto es debido a que simplemente, por experiencia, se ha tenido mayor éxito en el pasado usando métodos de submuestreo.\n",
    "\n",
    "* El subuestreo se hará de tal forma que se tenga un equilibrio total entre la clase minoritaria y la mayoritaria. Esto equivale a tener una estrategia de muestreo igual a 1 (`ratio_balance = 1`).\n",
    "\n",
    "* Para la codificación de variables categóricas, no se hará uso de ténicas clásicas como el `OneHotEncoder` o el`LabelEncoder`,  si no del `CountEncoder`, esto para evitar la complejización del modelo. El `CountEncoder`, en su versión normalizada, consiste en el porcentaje de representación que tiene cierta clase en una variable categórica.\n",
    "\n",
    "* No se escalarán las variables numéricas, esto debido a que la mayoría de ellas se mueven en un rango similar de valores.\n",
    "\n",
    "* Se hará uso de __Pipilines__, es decir, de tuberias de proprocesamiento que contendrán pasos de transformación y de estimación necesarios.\n",
    "\n",
    "* El uso de __Pipilines__ será especialemnte importante sobretodo en la etapa de __cross-validation k-folds__, para garatizar la repetición de los procesos de imputación, codificación, submuestreo y ajuste del modelo, en cada iteración-__fold__.\n",
    "\n",
    "* Solo usaremos una cantidad pequeña de __folds__ (`k_folds = 4`).\n",
    "\n",
    "* El proceso de __cross-validatión__ contempla una estrategia de división estratificada (`StratifiedKFold`). Esto con el fin de que en cada iteración-__fold__ la variable objetivo tenga aproximadamente la misma configuración de porcentajes de clase a como se tiene en el conjunto de __Entrenamiento__. De tal suerte que el proceso de submuetreo será aplicado en cada __fold__ y esto será posible con ayuda los __Pipilines__ ofrecidos por la librería `imbalanced-learn`."
   ]
  },
  {
   "cell_type": "markdown",
   "id": "f5de22bf",
   "metadata": {},
   "source": [
    "# 2. CONFIGURACIONES GENERALES."
   ]
  },
  {
   "cell_type": "markdown",
   "id": "0d0b18b9",
   "metadata": {},
   "source": [
    "Se establecen los siguientes valores por default:"
   ]
  },
  {
   "cell_type": "code",
   "execution_count": 3,
   "id": "76a7267a",
   "metadata": {},
   "outputs": [],
   "source": [
    "seed = 5000\n",
    "ratio_balance = 1\n",
    "k_folds = 4\n",
    "verbose = 10"
   ]
  },
  {
   "cell_type": "markdown",
   "id": "12cfa4f7",
   "metadata": {},
   "source": [
    "Se establece el listado de features y la variable objetivo."
   ]
  },
  {
   "cell_type": "code",
   "execution_count": 4,
   "id": "aef1a67d",
   "metadata": {},
   "outputs": [],
   "source": [
    "features_names =  ['Location',\n",
    "                   'MinTemp',\n",
    "                   'Rainfall',\n",
    "                   'WindGustDir',\n",
    "                   'WindGustSpeed',\n",
    "                   'WindDir9am',\n",
    "                   'WindDir3pm',\n",
    "                   'WindSpeed3pm',\n",
    "                   'Humidity9am',\n",
    "                   'Humidity3pm', \n",
    "                   'Pressure9am',\n",
    "                   'RainToday', \n",
    "                   'month',\n",
    "                   'week_of_year']\n",
    "objective_name = 'RainTomorrow'"
   ]
  },
  {
   "cell_type": "markdown",
   "id": "c071c98b",
   "metadata": {},
   "source": [
    "Se obtiene el dataset de features en el conjunto de __Entrenamiento__."
   ]
  },
  {
   "cell_type": "code",
   "execution_count": 5,
   "id": "014fee61",
   "metadata": {},
   "outputs": [],
   "source": [
    "original_data = df_train.copy()\n",
    "data_features = original_data[features_names]"
   ]
  },
  {
   "cell_type": "markdown",
   "id": "409e7655",
   "metadata": {},
   "source": [
    "Se obtienen los nombres de variables numéricas y de las categóricas."
   ]
  },
  {
   "cell_type": "code",
   "execution_count": 6,
   "id": "340a080e",
   "metadata": {},
   "outputs": [],
   "source": [
    "float_names = list(data_features.select_dtypes(include='float64').columns)\n",
    "categorical_names = list(data_features.select_dtypes(include='object').columns)"
   ]
  },
  {
   "cell_type": "markdown",
   "id": "33ae44a4",
   "metadata": {},
   "source": [
    "Listado de scores de interés:"
   ]
  },
  {
   "cell_type": "code",
   "execution_count": 7,
   "id": "576440f9",
   "metadata": {},
   "outputs": [],
   "source": [
    "scores = {'f1': 'f1',\n",
    "          'precision': 'precision',\n",
    "          'recall': 'recall',\n",
    "          'm_c': make_scorer(matthews_corrcoef)}"
   ]
  },
  {
   "cell_type": "markdown",
   "id": "73d057c8",
   "metadata": {},
   "source": [
    "Lo siguiente es el __Pipiline__ correspondiente al preprocesamiento de variables numéricas. Por ahora, solo contiene el imputador no parámetrico `KNNImputer` que solo se aplicará cuando se haga uso del estimador `RandomForestClassifier`. Lo anterior debido a que el estimador `HistGradientBoostingClassifier` ya contempla la presencia de missing en su ejecución."
   ]
  },
  {
   "cell_type": "code",
   "execution_count": 8,
   "id": "5bdac366",
   "metadata": {},
   "outputs": [],
   "source": [
    "numeric_transformer = Pipeline(steps=[('imputer', KNNImputer(n_neighbors=3, weights=\"uniform\"))])"
   ]
  },
  {
   "cell_type": "markdown",
   "id": "e1175e78",
   "metadata": {},
   "source": [
    "El siguiente __Pipilene__ corresponde al procesamiento de variables categóricas. Contiene el codificación `CountEncoder`normalizada."
   ]
  },
  {
   "cell_type": "code",
   "execution_count": 9,
   "id": "5ba8477a",
   "metadata": {},
   "outputs": [],
   "source": [
    "categorical_transformer = Pipeline(steps=[('CountEncoder', CountEncoder(normalize=True))])"
   ]
  },
  {
   "cell_type": "markdown",
   "id": "37126dcd",
   "metadata": {},
   "source": [
    "Por último, debido al uso de tranformaciones que afectan ya sea solo a variables categóricas o solo variables numéricas, el orden en que aparecen estos grupos de variables en los datasets es importante. Por otro lado, las tranformaciones que se aplican también dependen del estimador que se esté usando, por ejemplo, el `HistGradientBoostingClassifier` no requiere una imputación de valores previa.\n",
    "\n",
    "El orden en que van aplicandose la tranformaciones va corriendo a la derecha del dataset al grupo de variables al que se termina de aplicar dichas tranformaciones (ver seccion *Notes* [aquí.](https://scikit-learn.org/stable/modules/generated/sklearn.compose.ColumnTransformer.html))\n",
    "\n",
    "Para lidiar con este problema se hace uso de la función __get_feature_names_oder__ (ver información de ella en el script __training_functions.py__). "
   ]
  },
  {
   "cell_type": "markdown",
   "id": "79840af4",
   "metadata": {},
   "source": [
    "# 3. ENTRENAMIENTO DE HISTOGRAM GRADIENT BOOSTING."
   ]
  },
  {
   "cell_type": "markdown",
   "id": "24b9458f",
   "metadata": {},
   "source": [
    "Entrenemos el estimador `HistGradientBoostingClassifier`."
   ]
  },
  {
   "cell_type": "code",
   "execution_count": 10,
   "id": "526e738a",
   "metadata": {},
   "outputs": [],
   "source": [
    "model_name = 'HistGradientBoostingClassifier'"
   ]
  },
  {
   "cell_type": "code",
   "execution_count": 11,
   "id": "7b5aefb4",
   "metadata": {},
   "outputs": [],
   "source": [
    "# orden de las variables, depende del estimador escogido.\n",
    "feature_names_order = get_feature_names_order(model_name=model_name,\n",
    "                                              float_names=float_names,\n",
    "                                              categorical_names=categorical_names)"
   ]
  },
  {
   "cell_type": "markdown",
   "id": "1c338288",
   "metadata": {},
   "source": [
    "Se obtienen las versiones definitivas de los conjuntos de __Entrenamiento__ y de __Testeo__."
   ]
  },
  {
   "cell_type": "code",
   "execution_count": 12,
   "id": "0c1a26be",
   "metadata": {},
   "outputs": [],
   "source": [
    "X_train= data_features[feature_names_order]\n",
    "y_train = original_data[objective_name]\n",
    "X_test= df_test[feature_names_order]\n",
    "y_test = df_test[objective_name]"
   ]
  },
  {
   "cell_type": "markdown",
   "id": "4201ab4f",
   "metadata": {},
   "source": [
    "La __objeto (clase)__ de preprocesamiento solo contemplará la codificación de variables categóricas."
   ]
  },
  {
   "cell_type": "code",
   "execution_count": 13,
   "id": "9c714892",
   "metadata": {},
   "outputs": [],
   "source": [
    "preprocessor = ColumnTransformer(remainder='passthrough',\n",
    "                                 transformers=[('categorical', categorical_transformer, categorical_names)])"
   ]
  },
  {
   "cell_type": "markdown",
   "id": "a668b920",
   "metadata": {},
   "source": [
    "Se muestra el orden en que se aplicarán los procesos de tranformación en el __Pipiline general__:\n",
    "1. Preprocesamiento de variables (codificación).\n",
    "2. Submuestro.\n",
    "3. Ajuste de modelo."
   ]
  },
  {
   "cell_type": "code",
   "execution_count": 14,
   "id": "269deb92",
   "metadata": {},
   "outputs": [
    {
     "data": {
      "text/html": [
       "<style>#sk-container-id-1 {color: black;background-color: white;}#sk-container-id-1 pre{padding: 0;}#sk-container-id-1 div.sk-toggleable {background-color: white;}#sk-container-id-1 label.sk-toggleable__label {cursor: pointer;display: block;width: 100%;margin-bottom: 0;padding: 0.3em;box-sizing: border-box;text-align: center;}#sk-container-id-1 label.sk-toggleable__label-arrow:before {content: \"▸\";float: left;margin-right: 0.25em;color: #696969;}#sk-container-id-1 label.sk-toggleable__label-arrow:hover:before {color: black;}#sk-container-id-1 div.sk-estimator:hover label.sk-toggleable__label-arrow:before {color: black;}#sk-container-id-1 div.sk-toggleable__content {max-height: 0;max-width: 0;overflow: hidden;text-align: left;background-color: #f0f8ff;}#sk-container-id-1 div.sk-toggleable__content pre {margin: 0.2em;color: black;border-radius: 0.25em;background-color: #f0f8ff;}#sk-container-id-1 input.sk-toggleable__control:checked~div.sk-toggleable__content {max-height: 200px;max-width: 100%;overflow: auto;}#sk-container-id-1 input.sk-toggleable__control:checked~label.sk-toggleable__label-arrow:before {content: \"▾\";}#sk-container-id-1 div.sk-estimator input.sk-toggleable__control:checked~label.sk-toggleable__label {background-color: #d4ebff;}#sk-container-id-1 div.sk-label input.sk-toggleable__control:checked~label.sk-toggleable__label {background-color: #d4ebff;}#sk-container-id-1 input.sk-hidden--visually {border: 0;clip: rect(1px 1px 1px 1px);clip: rect(1px, 1px, 1px, 1px);height: 1px;margin: -1px;overflow: hidden;padding: 0;position: absolute;width: 1px;}#sk-container-id-1 div.sk-estimator {font-family: monospace;background-color: #f0f8ff;border: 1px dotted black;border-radius: 0.25em;box-sizing: border-box;margin-bottom: 0.5em;}#sk-container-id-1 div.sk-estimator:hover {background-color: #d4ebff;}#sk-container-id-1 div.sk-parallel-item::after {content: \"\";width: 100%;border-bottom: 1px solid gray;flex-grow: 1;}#sk-container-id-1 div.sk-label:hover label.sk-toggleable__label {background-color: #d4ebff;}#sk-container-id-1 div.sk-serial::before {content: \"\";position: absolute;border-left: 1px solid gray;box-sizing: border-box;top: 0;bottom: 0;left: 50%;z-index: 0;}#sk-container-id-1 div.sk-serial {display: flex;flex-direction: column;align-items: center;background-color: white;padding-right: 0.2em;padding-left: 0.2em;position: relative;}#sk-container-id-1 div.sk-item {position: relative;z-index: 1;}#sk-container-id-1 div.sk-parallel {display: flex;align-items: stretch;justify-content: center;background-color: white;position: relative;}#sk-container-id-1 div.sk-item::before, #sk-container-id-1 div.sk-parallel-item::before {content: \"\";position: absolute;border-left: 1px solid gray;box-sizing: border-box;top: 0;bottom: 0;left: 50%;z-index: -1;}#sk-container-id-1 div.sk-parallel-item {display: flex;flex-direction: column;z-index: 1;position: relative;background-color: white;}#sk-container-id-1 div.sk-parallel-item:first-child::after {align-self: flex-end;width: 50%;}#sk-container-id-1 div.sk-parallel-item:last-child::after {align-self: flex-start;width: 50%;}#sk-container-id-1 div.sk-parallel-item:only-child::after {width: 0;}#sk-container-id-1 div.sk-dashed-wrapped {border: 1px dashed gray;margin: 0 0.4em 0.5em 0.4em;box-sizing: border-box;padding-bottom: 0.4em;background-color: white;}#sk-container-id-1 div.sk-label label {font-family: monospace;font-weight: bold;display: inline-block;line-height: 1.2em;}#sk-container-id-1 div.sk-label-container {text-align: center;}#sk-container-id-1 div.sk-container {/* jupyter's `normalize.less` sets `[hidden] { display: none; }` but bootstrap.min.css set `[hidden] { display: none !important; }` so we also need the `!important` here to be able to override the default hidden behavior on the sphinx rendered scikit-learn.org. See: https://github.com/scikit-learn/scikit-learn/issues/21755 */display: inline-block !important;position: relative;}#sk-container-id-1 div.sk-text-repr-fallback {display: none;}</style><div id=\"sk-container-id-1\" class=\"sk-top-container\"><div class=\"sk-text-repr-fallback\"><pre>Pipeline(steps=[(&#x27;processing&#x27;,\n",
       "                 ColumnTransformer(remainder=&#x27;passthrough&#x27;,\n",
       "                                   transformers=[(&#x27;categorical&#x27;,\n",
       "                                                  Pipeline(steps=[(&#x27;CountEncoder&#x27;,\n",
       "                                                                   CountEncoder(combine_min_nan_groups=True,\n",
       "                                                                                normalize=True))]),\n",
       "                                                  [&#x27;Location&#x27;, &#x27;WindGustDir&#x27;,\n",
       "                                                   &#x27;WindDir9am&#x27;, &#x27;WindDir3pm&#x27;,\n",
       "                                                   &#x27;RainToday&#x27;, &#x27;month&#x27;,\n",
       "                                                   &#x27;week_of_year&#x27;])])),\n",
       "                (&#x27;RandomUnderSampler&#x27;,\n",
       "                 RandomUnderSampler(random_state=5000, sampling_strategy=1)),\n",
       "                (&#x27;estimator&#x27;,\n",
       "                 HistGradientBoostingClassifier(random_state=5000))])</pre><b>In a Jupyter environment, please rerun this cell to show the HTML representation or trust the notebook. <br />On GitHub, the HTML representation is unable to render, please try loading this page with nbviewer.org.</b></div><div class=\"sk-container\" hidden><div class=\"sk-item sk-dashed-wrapped\"><div class=\"sk-label-container\"><div class=\"sk-label sk-toggleable\"><input class=\"sk-toggleable__control sk-hidden--visually\" id=\"sk-estimator-id-1\" type=\"checkbox\" ><label for=\"sk-estimator-id-1\" class=\"sk-toggleable__label sk-toggleable__label-arrow\">Pipeline</label><div class=\"sk-toggleable__content\"><pre>Pipeline(steps=[(&#x27;processing&#x27;,\n",
       "                 ColumnTransformer(remainder=&#x27;passthrough&#x27;,\n",
       "                                   transformers=[(&#x27;categorical&#x27;,\n",
       "                                                  Pipeline(steps=[(&#x27;CountEncoder&#x27;,\n",
       "                                                                   CountEncoder(combine_min_nan_groups=True,\n",
       "                                                                                normalize=True))]),\n",
       "                                                  [&#x27;Location&#x27;, &#x27;WindGustDir&#x27;,\n",
       "                                                   &#x27;WindDir9am&#x27;, &#x27;WindDir3pm&#x27;,\n",
       "                                                   &#x27;RainToday&#x27;, &#x27;month&#x27;,\n",
       "                                                   &#x27;week_of_year&#x27;])])),\n",
       "                (&#x27;RandomUnderSampler&#x27;,\n",
       "                 RandomUnderSampler(random_state=5000, sampling_strategy=1)),\n",
       "                (&#x27;estimator&#x27;,\n",
       "                 HistGradientBoostingClassifier(random_state=5000))])</pre></div></div></div><div class=\"sk-serial\"><div class=\"sk-item sk-dashed-wrapped\"><div class=\"sk-label-container\"><div class=\"sk-label sk-toggleable\"><input class=\"sk-toggleable__control sk-hidden--visually\" id=\"sk-estimator-id-2\" type=\"checkbox\" ><label for=\"sk-estimator-id-2\" class=\"sk-toggleable__label sk-toggleable__label-arrow\">processing: ColumnTransformer</label><div class=\"sk-toggleable__content\"><pre>ColumnTransformer(remainder=&#x27;passthrough&#x27;,\n",
       "                  transformers=[(&#x27;categorical&#x27;,\n",
       "                                 Pipeline(steps=[(&#x27;CountEncoder&#x27;,\n",
       "                                                  CountEncoder(combine_min_nan_groups=True,\n",
       "                                                               normalize=True))]),\n",
       "                                 [&#x27;Location&#x27;, &#x27;WindGustDir&#x27;, &#x27;WindDir9am&#x27;,\n",
       "                                  &#x27;WindDir3pm&#x27;, &#x27;RainToday&#x27;, &#x27;month&#x27;,\n",
       "                                  &#x27;week_of_year&#x27;])])</pre></div></div></div><div class=\"sk-parallel\"><div class=\"sk-parallel-item\"><div class=\"sk-item\"><div class=\"sk-label-container\"><div class=\"sk-label sk-toggleable\"><input class=\"sk-toggleable__control sk-hidden--visually\" id=\"sk-estimator-id-3\" type=\"checkbox\" ><label for=\"sk-estimator-id-3\" class=\"sk-toggleable__label sk-toggleable__label-arrow\">categorical</label><div class=\"sk-toggleable__content\"><pre>[&#x27;Location&#x27;, &#x27;WindGustDir&#x27;, &#x27;WindDir9am&#x27;, &#x27;WindDir3pm&#x27;, &#x27;RainToday&#x27;, &#x27;month&#x27;, &#x27;week_of_year&#x27;]</pre></div></div></div><div class=\"sk-serial\"><div class=\"sk-item\"><div class=\"sk-serial\"><div class=\"sk-item\"><div class=\"sk-estimator sk-toggleable\"><input class=\"sk-toggleable__control sk-hidden--visually\" id=\"sk-estimator-id-4\" type=\"checkbox\" ><label for=\"sk-estimator-id-4\" class=\"sk-toggleable__label sk-toggleable__label-arrow\">CountEncoder</label><div class=\"sk-toggleable__content\"><pre>CountEncoder(combine_min_nan_groups=True, normalize=True)</pre></div></div></div></div></div></div></div></div><div class=\"sk-parallel-item\"><div class=\"sk-item\"><div class=\"sk-label-container\"><div class=\"sk-label sk-toggleable\"><input class=\"sk-toggleable__control sk-hidden--visually\" id=\"sk-estimator-id-5\" type=\"checkbox\" ><label for=\"sk-estimator-id-5\" class=\"sk-toggleable__label sk-toggleable__label-arrow\">remainder</label><div class=\"sk-toggleable__content\"><pre></pre></div></div></div><div class=\"sk-serial\"><div class=\"sk-item\"><div class=\"sk-estimator sk-toggleable\"><input class=\"sk-toggleable__control sk-hidden--visually\" id=\"sk-estimator-id-6\" type=\"checkbox\" ><label for=\"sk-estimator-id-6\" class=\"sk-toggleable__label sk-toggleable__label-arrow\">passthrough</label><div class=\"sk-toggleable__content\"><pre>passthrough</pre></div></div></div></div></div></div></div></div><div class=\"sk-item\"><div class=\"sk-estimator sk-toggleable\"><input class=\"sk-toggleable__control sk-hidden--visually\" id=\"sk-estimator-id-7\" type=\"checkbox\" ><label for=\"sk-estimator-id-7\" class=\"sk-toggleable__label sk-toggleable__label-arrow\">RandomUnderSampler</label><div class=\"sk-toggleable__content\"><pre>RandomUnderSampler(random_state=5000, sampling_strategy=1)</pre></div></div></div><div class=\"sk-item\"><div class=\"sk-estimator sk-toggleable\"><input class=\"sk-toggleable__control sk-hidden--visually\" id=\"sk-estimator-id-8\" type=\"checkbox\" ><label for=\"sk-estimator-id-8\" class=\"sk-toggleable__label sk-toggleable__label-arrow\">HistGradientBoostingClassifier</label><div class=\"sk-toggleable__content\"><pre>HistGradientBoostingClassifier(random_state=5000)</pre></div></div></div></div></div></div></div>"
      ],
      "text/plain": [
       "Pipeline(steps=[('processing',\n",
       "                 ColumnTransformer(remainder='passthrough',\n",
       "                                   transformers=[('categorical',\n",
       "                                                  Pipeline(steps=[('CountEncoder',\n",
       "                                                                   CountEncoder(combine_min_nan_groups=True,\n",
       "                                                                                normalize=True))]),\n",
       "                                                  ['Location', 'WindGustDir',\n",
       "                                                   'WindDir9am', 'WindDir3pm',\n",
       "                                                   'RainToday', 'month',\n",
       "                                                   'week_of_year'])])),\n",
       "                ('RandomUnderSampler',\n",
       "                 RandomUnderSampler(random_state=5000, sampling_strategy=1)),\n",
       "                ('estimator',\n",
       "                 HistGradientBoostingClassifier(random_state=5000))])"
      ]
     },
     "execution_count": 14,
     "metadata": {},
     "output_type": "execute_result"
    }
   ],
   "source": [
    "transform = Pipeline(steps=[(\"processing\", preprocessor),\n",
    "                            (\"RandomUnderSampler\", RandomUnderSampler(random_state=seed,\n",
    "                                                                      sampling_strategy=ratio_balance)),\n",
    "                            (\"estimator\",  HistGradientBoostingClassifier(random_state=seed))])\n",
    "transform"
   ]
  },
  {
   "cell_type": "markdown",
   "id": "03c80e13",
   "metadata": {},
   "source": [
    "## 3. 1 Ajuste del modelo para obtener métricas de testeo."
   ]
  },
  {
   "cell_type": "code",
   "execution_count": 15,
   "id": "13ba3393",
   "metadata": {},
   "outputs": [],
   "source": [
    "clf = transform.fit(X_train, y_train)"
   ]
  },
  {
   "cell_type": "code",
   "execution_count": 16,
   "id": "efff19ec",
   "metadata": {},
   "outputs": [],
   "source": [
    "y_pred = clf.predict(X_test)"
   ]
  },
  {
   "cell_type": "markdown",
   "id": "6e795c85",
   "metadata": {},
   "source": [
    "A continuación se exhiben las métricas de __testeo__, solo con fines informativos."
   ]
  },
  {
   "cell_type": "code",
   "execution_count": 17,
   "id": "947462ac",
   "metadata": {},
   "outputs": [],
   "source": [
    "f_1_testeo = f1_score(y_test, y_pred)\n",
    "precision_testeo = precision_score(y_test, y_pred)\n",
    "recall_testeo = recall_score(y_test, y_pred)\n",
    "m_c_testeo = matthews_corrcoef(y_test, y_pred)\n",
    "cm_testeo = confusion_matrix(y_test, y_pred)"
   ]
  },
  {
   "cell_type": "code",
   "execution_count": 18,
   "id": "1af456aa",
   "metadata": {},
   "outputs": [
    {
     "name": "stdout",
     "output_type": "stream",
     "text": [
      "f1-testeo: 0.63\n",
      "precision-testeo: 0.53\n",
      "recall-testo: 0.77\n",
      "m_c-testeo: 0.5\n",
      "matriz de confusión de testeo [[15942  4085]\n",
      " [ 1375  4571]]\n"
     ]
    }
   ],
   "source": [
    "print('f1-testeo:', round(f_1_testeo, 2))\n",
    "print('precision-testeo:', round(precision_testeo, 2))\n",
    "print('recall-testo:', round(recall_testeo, 2))\n",
    "print('m_c-testeo:', round(m_c_testeo, 2))\n",
    "print('matriz de confusión de testeo', cm_testeo)"
   ]
  },
  {
   "cell_type": "markdown",
   "id": "f4a6d55e",
   "metadata": {},
   "source": [
    "## 3.2 Cross-validation."
   ]
  },
  {
   "cell_type": "code",
   "execution_count": 19,
   "id": "d1b4fd38",
   "metadata": {},
   "outputs": [],
   "source": [
    "c_v = StratifiedKFold(n_splits=k_folds,\n",
    "                      shuffle=True,\n",
    "                      random_state=seed)"
   ]
  },
  {
   "cell_type": "code",
   "execution_count": 20,
   "id": "b1c1dfb2",
   "metadata": {},
   "outputs": [
    {
     "name": "stdout",
     "output_type": "stream",
     "text": [
      "[CV] START .....................................................................\n",
      "[CV] END  f1: (test=0.633) m_c: (test=0.517) precision: (test=0.540) recall: (test=0.764) total time=   2.1s\n",
      "[CV] START .....................................................................\n"
     ]
    },
    {
     "name": "stderr",
     "output_type": "stream",
     "text": [
      "[Parallel(n_jobs=1)]: Done   1 tasks      | elapsed:    2.1s\n"
     ]
    },
    {
     "name": "stdout",
     "output_type": "stream",
     "text": [
      "[CV] END  f1: (test=0.634) m_c: (test=0.519) precision: (test=0.533) recall: (test=0.782) total time=   2.0s\n",
      "[CV] START .....................................................................\n",
      "[CV] END  f1: (test=0.633) m_c: (test=0.518) precision: (test=0.531) recall: (test=0.784) total time=   2.1s\n",
      "[CV] START .....................................................................\n",
      "[CV] END  f1: (test=0.636) m_c: (test=0.522) precision: (test=0.536) recall: (test=0.780) total time=   2.4s\n"
     ]
    },
    {
     "name": "stderr",
     "output_type": "stream",
     "text": [
      "[Parallel(n_jobs=1)]: Done   4 tasks      | elapsed:    8.7s\n",
      "[Parallel(n_jobs=1)]: Done   4 tasks      | elapsed:    8.7s\n"
     ]
    }
   ],
   "source": [
    "cv_results = cross_validate(transform,\n",
    "                            X_train,\n",
    "                            y_train,\n",
    "                            cv=c_v,\n",
    "                            scoring=scores,\n",
    "                            verbose=10)"
   ]
  },
  {
   "cell_type": "markdown",
   "id": "70e1a046",
   "metadata": {},
   "source": [
    "Se obtienen las métricas de __cross-validation__."
   ]
  },
  {
   "cell_type": "code",
   "execution_count": 21,
   "id": "5ff83fd2",
   "metadata": {},
   "outputs": [
    {
     "name": "stdout",
     "output_type": "stream",
     "text": [
      "f1-cv: 0.63\n",
      "precision-cv: 0.53\n",
      "recall-cv: 0.78\n",
      "m_c-cv: 0.52\n"
     ]
    }
   ],
   "source": [
    "print('f1-cv:', round(cv_results['test_f1'].mean(), 2))\n",
    "print('precision-cv:', round(cv_results['test_precision'].mean(), 2))\n",
    "print('recall-cv:', round(cv_results['test_recall'].mean(), 2))\n",
    "print('m_c-cv:', round(cv_results['test_m_c'].mean(), 2))"
   ]
  },
  {
   "cell_type": "markdown",
   "id": "1d7e8444",
   "metadata": {},
   "source": [
    "# 4. ENTRENAMIENTO DE RANDOM FOREST."
   ]
  },
  {
   "cell_type": "markdown",
   "id": "9ca8c6ad",
   "metadata": {},
   "source": [
    "__¡¡¡ ADVERTENCIA !!!:__ El entrenamiento y __cross-validation__ de este modelo puede durar mucho tiempo debido al proceso de imputación de datos que lleva a cabo."
   ]
  },
  {
   "cell_type": "markdown",
   "id": "1c0d7da2",
   "metadata": {},
   "source": [
    "Entrenemos el estimador `RandomForestClassifier`."
   ]
  },
  {
   "cell_type": "code",
   "execution_count": 22,
   "id": "b0d6f580",
   "metadata": {},
   "outputs": [],
   "source": [
    "model_name = 'RandomForestClassifier'"
   ]
  },
  {
   "cell_type": "code",
   "execution_count": 23,
   "id": "595e290d",
   "metadata": {},
   "outputs": [],
   "source": [
    "# orden de las variables, depende del estimador escogido.\n",
    "feature_names_order = get_feature_names_order(model_name=model_name,\n",
    "                                              float_names=float_names,\n",
    "                                              categorical_names=categorical_names)"
   ]
  },
  {
   "cell_type": "markdown",
   "id": "be9a015d",
   "metadata": {},
   "source": [
    "Se obtienen las versiones definitivas de los conjuntos de __Entrenamiento__ y de __Testeo__."
   ]
  },
  {
   "cell_type": "code",
   "execution_count": 24,
   "id": "8e0a4d1b",
   "metadata": {},
   "outputs": [],
   "source": [
    "X_train= data_features[feature_names_order]\n",
    "y_train = original_data[objective_name]\n",
    "X_test= df_test[feature_names_order]\n",
    "y_test = df_test[objective_name]"
   ]
  },
  {
   "cell_type": "markdown",
   "id": "6b1f1d12",
   "metadata": {},
   "source": [
    "La __objeto (clase)__ de preprocesamiento contemplará tanto la imputación de valores en variables numéricas como la codificación de variables categóricas."
   ]
  },
  {
   "cell_type": "code",
   "execution_count": 25,
   "id": "df91df43",
   "metadata": {},
   "outputs": [],
   "source": [
    "preprocessor = ColumnTransformer(remainder='passthrough',\n",
    "                                 transformers=[('numeric', numeric_transformer, float_names),\n",
    "                                               ('categorical', categorical_transformer, categorical_names)])"
   ]
  },
  {
   "cell_type": "markdown",
   "id": "bf4519d7",
   "metadata": {},
   "source": [
    "Se muestra el orden en que se aplicarán los procesos de tranformación en el __Pipiline general__:\n",
    "1. Preprocesamiento de variables (imputación y codificación).\n",
    "2. Submuestro.\n",
    "3. Ajuste de modelo."
   ]
  },
  {
   "cell_type": "code",
   "execution_count": 26,
   "id": "7f7478e8",
   "metadata": {},
   "outputs": [
    {
     "data": {
      "text/html": [
       "<style>#sk-container-id-2 {color: black;background-color: white;}#sk-container-id-2 pre{padding: 0;}#sk-container-id-2 div.sk-toggleable {background-color: white;}#sk-container-id-2 label.sk-toggleable__label {cursor: pointer;display: block;width: 100%;margin-bottom: 0;padding: 0.3em;box-sizing: border-box;text-align: center;}#sk-container-id-2 label.sk-toggleable__label-arrow:before {content: \"▸\";float: left;margin-right: 0.25em;color: #696969;}#sk-container-id-2 label.sk-toggleable__label-arrow:hover:before {color: black;}#sk-container-id-2 div.sk-estimator:hover label.sk-toggleable__label-arrow:before {color: black;}#sk-container-id-2 div.sk-toggleable__content {max-height: 0;max-width: 0;overflow: hidden;text-align: left;background-color: #f0f8ff;}#sk-container-id-2 div.sk-toggleable__content pre {margin: 0.2em;color: black;border-radius: 0.25em;background-color: #f0f8ff;}#sk-container-id-2 input.sk-toggleable__control:checked~div.sk-toggleable__content {max-height: 200px;max-width: 100%;overflow: auto;}#sk-container-id-2 input.sk-toggleable__control:checked~label.sk-toggleable__label-arrow:before {content: \"▾\";}#sk-container-id-2 div.sk-estimator input.sk-toggleable__control:checked~label.sk-toggleable__label {background-color: #d4ebff;}#sk-container-id-2 div.sk-label input.sk-toggleable__control:checked~label.sk-toggleable__label {background-color: #d4ebff;}#sk-container-id-2 input.sk-hidden--visually {border: 0;clip: rect(1px 1px 1px 1px);clip: rect(1px, 1px, 1px, 1px);height: 1px;margin: -1px;overflow: hidden;padding: 0;position: absolute;width: 1px;}#sk-container-id-2 div.sk-estimator {font-family: monospace;background-color: #f0f8ff;border: 1px dotted black;border-radius: 0.25em;box-sizing: border-box;margin-bottom: 0.5em;}#sk-container-id-2 div.sk-estimator:hover {background-color: #d4ebff;}#sk-container-id-2 div.sk-parallel-item::after {content: \"\";width: 100%;border-bottom: 1px solid gray;flex-grow: 1;}#sk-container-id-2 div.sk-label:hover label.sk-toggleable__label {background-color: #d4ebff;}#sk-container-id-2 div.sk-serial::before {content: \"\";position: absolute;border-left: 1px solid gray;box-sizing: border-box;top: 0;bottom: 0;left: 50%;z-index: 0;}#sk-container-id-2 div.sk-serial {display: flex;flex-direction: column;align-items: center;background-color: white;padding-right: 0.2em;padding-left: 0.2em;position: relative;}#sk-container-id-2 div.sk-item {position: relative;z-index: 1;}#sk-container-id-2 div.sk-parallel {display: flex;align-items: stretch;justify-content: center;background-color: white;position: relative;}#sk-container-id-2 div.sk-item::before, #sk-container-id-2 div.sk-parallel-item::before {content: \"\";position: absolute;border-left: 1px solid gray;box-sizing: border-box;top: 0;bottom: 0;left: 50%;z-index: -1;}#sk-container-id-2 div.sk-parallel-item {display: flex;flex-direction: column;z-index: 1;position: relative;background-color: white;}#sk-container-id-2 div.sk-parallel-item:first-child::after {align-self: flex-end;width: 50%;}#sk-container-id-2 div.sk-parallel-item:last-child::after {align-self: flex-start;width: 50%;}#sk-container-id-2 div.sk-parallel-item:only-child::after {width: 0;}#sk-container-id-2 div.sk-dashed-wrapped {border: 1px dashed gray;margin: 0 0.4em 0.5em 0.4em;box-sizing: border-box;padding-bottom: 0.4em;background-color: white;}#sk-container-id-2 div.sk-label label {font-family: monospace;font-weight: bold;display: inline-block;line-height: 1.2em;}#sk-container-id-2 div.sk-label-container {text-align: center;}#sk-container-id-2 div.sk-container {/* jupyter's `normalize.less` sets `[hidden] { display: none; }` but bootstrap.min.css set `[hidden] { display: none !important; }` so we also need the `!important` here to be able to override the default hidden behavior on the sphinx rendered scikit-learn.org. See: https://github.com/scikit-learn/scikit-learn/issues/21755 */display: inline-block !important;position: relative;}#sk-container-id-2 div.sk-text-repr-fallback {display: none;}</style><div id=\"sk-container-id-2\" class=\"sk-top-container\"><div class=\"sk-text-repr-fallback\"><pre>Pipeline(steps=[(&#x27;processing&#x27;,\n",
       "                 ColumnTransformer(remainder=&#x27;passthrough&#x27;,\n",
       "                                   transformers=[(&#x27;numeric&#x27;,\n",
       "                                                  Pipeline(steps=[(&#x27;imputer&#x27;,\n",
       "                                                                   KNNImputer(n_neighbors=3))]),\n",
       "                                                  [&#x27;MinTemp&#x27;, &#x27;Rainfall&#x27;,\n",
       "                                                   &#x27;WindGustSpeed&#x27;,\n",
       "                                                   &#x27;WindSpeed3pm&#x27;,\n",
       "                                                   &#x27;Humidity9am&#x27;, &#x27;Humidity3pm&#x27;,\n",
       "                                                   &#x27;Pressure9am&#x27;]),\n",
       "                                                 (&#x27;categorical&#x27;,\n",
       "                                                  Pipeline(steps=[(&#x27;CountEncoder&#x27;,\n",
       "                                                                   CountEncoder(combine_min_nan_groups=True,\n",
       "                                                                                normalize=True))]),\n",
       "                                                  [&#x27;Location&#x27;, &#x27;WindGustDir&#x27;,\n",
       "                                                   &#x27;WindDir9am&#x27;, &#x27;WindDir3pm&#x27;,\n",
       "                                                   &#x27;RainToday&#x27;, &#x27;month&#x27;,\n",
       "                                                   &#x27;week_of_year&#x27;])])),\n",
       "                (&#x27;RandomUnderSampler&#x27;,\n",
       "                 RandomUnderSampler(random_state=5000, sampling_strategy=1)),\n",
       "                (&#x27;estimator&#x27;, RandomForestClassifier(random_state=5000))])</pre><b>In a Jupyter environment, please rerun this cell to show the HTML representation or trust the notebook. <br />On GitHub, the HTML representation is unable to render, please try loading this page with nbviewer.org.</b></div><div class=\"sk-container\" hidden><div class=\"sk-item sk-dashed-wrapped\"><div class=\"sk-label-container\"><div class=\"sk-label sk-toggleable\"><input class=\"sk-toggleable__control sk-hidden--visually\" id=\"sk-estimator-id-9\" type=\"checkbox\" ><label for=\"sk-estimator-id-9\" class=\"sk-toggleable__label sk-toggleable__label-arrow\">Pipeline</label><div class=\"sk-toggleable__content\"><pre>Pipeline(steps=[(&#x27;processing&#x27;,\n",
       "                 ColumnTransformer(remainder=&#x27;passthrough&#x27;,\n",
       "                                   transformers=[(&#x27;numeric&#x27;,\n",
       "                                                  Pipeline(steps=[(&#x27;imputer&#x27;,\n",
       "                                                                   KNNImputer(n_neighbors=3))]),\n",
       "                                                  [&#x27;MinTemp&#x27;, &#x27;Rainfall&#x27;,\n",
       "                                                   &#x27;WindGustSpeed&#x27;,\n",
       "                                                   &#x27;WindSpeed3pm&#x27;,\n",
       "                                                   &#x27;Humidity9am&#x27;, &#x27;Humidity3pm&#x27;,\n",
       "                                                   &#x27;Pressure9am&#x27;]),\n",
       "                                                 (&#x27;categorical&#x27;,\n",
       "                                                  Pipeline(steps=[(&#x27;CountEncoder&#x27;,\n",
       "                                                                   CountEncoder(combine_min_nan_groups=True,\n",
       "                                                                                normalize=True))]),\n",
       "                                                  [&#x27;Location&#x27;, &#x27;WindGustDir&#x27;,\n",
       "                                                   &#x27;WindDir9am&#x27;, &#x27;WindDir3pm&#x27;,\n",
       "                                                   &#x27;RainToday&#x27;, &#x27;month&#x27;,\n",
       "                                                   &#x27;week_of_year&#x27;])])),\n",
       "                (&#x27;RandomUnderSampler&#x27;,\n",
       "                 RandomUnderSampler(random_state=5000, sampling_strategy=1)),\n",
       "                (&#x27;estimator&#x27;, RandomForestClassifier(random_state=5000))])</pre></div></div></div><div class=\"sk-serial\"><div class=\"sk-item sk-dashed-wrapped\"><div class=\"sk-label-container\"><div class=\"sk-label sk-toggleable\"><input class=\"sk-toggleable__control sk-hidden--visually\" id=\"sk-estimator-id-10\" type=\"checkbox\" ><label for=\"sk-estimator-id-10\" class=\"sk-toggleable__label sk-toggleable__label-arrow\">processing: ColumnTransformer</label><div class=\"sk-toggleable__content\"><pre>ColumnTransformer(remainder=&#x27;passthrough&#x27;,\n",
       "                  transformers=[(&#x27;numeric&#x27;,\n",
       "                                 Pipeline(steps=[(&#x27;imputer&#x27;,\n",
       "                                                  KNNImputer(n_neighbors=3))]),\n",
       "                                 [&#x27;MinTemp&#x27;, &#x27;Rainfall&#x27;, &#x27;WindGustSpeed&#x27;,\n",
       "                                  &#x27;WindSpeed3pm&#x27;, &#x27;Humidity9am&#x27;, &#x27;Humidity3pm&#x27;,\n",
       "                                  &#x27;Pressure9am&#x27;]),\n",
       "                                (&#x27;categorical&#x27;,\n",
       "                                 Pipeline(steps=[(&#x27;CountEncoder&#x27;,\n",
       "                                                  CountEncoder(combine_min_nan_groups=True,\n",
       "                                                               normalize=True))]),\n",
       "                                 [&#x27;Location&#x27;, &#x27;WindGustDir&#x27;, &#x27;WindDir9am&#x27;,\n",
       "                                  &#x27;WindDir3pm&#x27;, &#x27;RainToday&#x27;, &#x27;month&#x27;,\n",
       "                                  &#x27;week_of_year&#x27;])])</pre></div></div></div><div class=\"sk-parallel\"><div class=\"sk-parallel-item\"><div class=\"sk-item\"><div class=\"sk-label-container\"><div class=\"sk-label sk-toggleable\"><input class=\"sk-toggleable__control sk-hidden--visually\" id=\"sk-estimator-id-11\" type=\"checkbox\" ><label for=\"sk-estimator-id-11\" class=\"sk-toggleable__label sk-toggleable__label-arrow\">numeric</label><div class=\"sk-toggleable__content\"><pre>[&#x27;MinTemp&#x27;, &#x27;Rainfall&#x27;, &#x27;WindGustSpeed&#x27;, &#x27;WindSpeed3pm&#x27;, &#x27;Humidity9am&#x27;, &#x27;Humidity3pm&#x27;, &#x27;Pressure9am&#x27;]</pre></div></div></div><div class=\"sk-serial\"><div class=\"sk-item\"><div class=\"sk-serial\"><div class=\"sk-item\"><div class=\"sk-estimator sk-toggleable\"><input class=\"sk-toggleable__control sk-hidden--visually\" id=\"sk-estimator-id-12\" type=\"checkbox\" ><label for=\"sk-estimator-id-12\" class=\"sk-toggleable__label sk-toggleable__label-arrow\">KNNImputer</label><div class=\"sk-toggleable__content\"><pre>KNNImputer(n_neighbors=3)</pre></div></div></div></div></div></div></div></div><div class=\"sk-parallel-item\"><div class=\"sk-item\"><div class=\"sk-label-container\"><div class=\"sk-label sk-toggleable\"><input class=\"sk-toggleable__control sk-hidden--visually\" id=\"sk-estimator-id-13\" type=\"checkbox\" ><label for=\"sk-estimator-id-13\" class=\"sk-toggleable__label sk-toggleable__label-arrow\">categorical</label><div class=\"sk-toggleable__content\"><pre>[&#x27;Location&#x27;, &#x27;WindGustDir&#x27;, &#x27;WindDir9am&#x27;, &#x27;WindDir3pm&#x27;, &#x27;RainToday&#x27;, &#x27;month&#x27;, &#x27;week_of_year&#x27;]</pre></div></div></div><div class=\"sk-serial\"><div class=\"sk-item\"><div class=\"sk-serial\"><div class=\"sk-item\"><div class=\"sk-estimator sk-toggleable\"><input class=\"sk-toggleable__control sk-hidden--visually\" id=\"sk-estimator-id-14\" type=\"checkbox\" ><label for=\"sk-estimator-id-14\" class=\"sk-toggleable__label sk-toggleable__label-arrow\">CountEncoder</label><div class=\"sk-toggleable__content\"><pre>CountEncoder(combine_min_nan_groups=True, normalize=True)</pre></div></div></div></div></div></div></div></div><div class=\"sk-parallel-item\"><div class=\"sk-item\"><div class=\"sk-label-container\"><div class=\"sk-label sk-toggleable\"><input class=\"sk-toggleable__control sk-hidden--visually\" id=\"sk-estimator-id-15\" type=\"checkbox\" ><label for=\"sk-estimator-id-15\" class=\"sk-toggleable__label sk-toggleable__label-arrow\">remainder</label><div class=\"sk-toggleable__content\"><pre></pre></div></div></div><div class=\"sk-serial\"><div class=\"sk-item\"><div class=\"sk-estimator sk-toggleable\"><input class=\"sk-toggleable__control sk-hidden--visually\" id=\"sk-estimator-id-16\" type=\"checkbox\" ><label for=\"sk-estimator-id-16\" class=\"sk-toggleable__label sk-toggleable__label-arrow\">passthrough</label><div class=\"sk-toggleable__content\"><pre>passthrough</pre></div></div></div></div></div></div></div></div><div class=\"sk-item\"><div class=\"sk-estimator sk-toggleable\"><input class=\"sk-toggleable__control sk-hidden--visually\" id=\"sk-estimator-id-17\" type=\"checkbox\" ><label for=\"sk-estimator-id-17\" class=\"sk-toggleable__label sk-toggleable__label-arrow\">RandomUnderSampler</label><div class=\"sk-toggleable__content\"><pre>RandomUnderSampler(random_state=5000, sampling_strategy=1)</pre></div></div></div><div class=\"sk-item\"><div class=\"sk-estimator sk-toggleable\"><input class=\"sk-toggleable__control sk-hidden--visually\" id=\"sk-estimator-id-18\" type=\"checkbox\" ><label for=\"sk-estimator-id-18\" class=\"sk-toggleable__label sk-toggleable__label-arrow\">RandomForestClassifier</label><div class=\"sk-toggleable__content\"><pre>RandomForestClassifier(random_state=5000)</pre></div></div></div></div></div></div></div>"
      ],
      "text/plain": [
       "Pipeline(steps=[('processing',\n",
       "                 ColumnTransformer(remainder='passthrough',\n",
       "                                   transformers=[('numeric',\n",
       "                                                  Pipeline(steps=[('imputer',\n",
       "                                                                   KNNImputer(n_neighbors=3))]),\n",
       "                                                  ['MinTemp', 'Rainfall',\n",
       "                                                   'WindGustSpeed',\n",
       "                                                   'WindSpeed3pm',\n",
       "                                                   'Humidity9am', 'Humidity3pm',\n",
       "                                                   'Pressure9am']),\n",
       "                                                 ('categorical',\n",
       "                                                  Pipeline(steps=[('CountEncoder',\n",
       "                                                                   CountEncoder(combine_min_nan_groups=True,\n",
       "                                                                                normalize=True))]),\n",
       "                                                  ['Location', 'WindGustDir',\n",
       "                                                   'WindDir9am', 'WindDir3pm',\n",
       "                                                   'RainToday', 'month',\n",
       "                                                   'week_of_year'])])),\n",
       "                ('RandomUnderSampler',\n",
       "                 RandomUnderSampler(random_state=5000, sampling_strategy=1)),\n",
       "                ('estimator', RandomForestClassifier(random_state=5000))])"
      ]
     },
     "execution_count": 26,
     "metadata": {},
     "output_type": "execute_result"
    }
   ],
   "source": [
    "transform = Pipeline(steps=[(\"processing\", preprocessor),\n",
    "                            (\"RandomUnderSampler\", RandomUnderSampler(random_state=seed,\n",
    "                                                                      sampling_strategy=ratio_balance)),\n",
    "                            (\"estimator\",  RandomForestClassifier(random_state=seed))])\n",
    "transform"
   ]
  },
  {
   "cell_type": "markdown",
   "id": "3857dde6",
   "metadata": {},
   "source": [
    "## 4. 1 Ajuste del modelo para obtener métricas de testeo."
   ]
  },
  {
   "cell_type": "code",
   "execution_count": 27,
   "id": "fe65888a",
   "metadata": {},
   "outputs": [],
   "source": [
    "clf = transform.fit(X_train, y_train)"
   ]
  },
  {
   "cell_type": "code",
   "execution_count": 28,
   "id": "cb81eeb4",
   "metadata": {},
   "outputs": [],
   "source": [
    "y_pred = clf.predict(X_test)"
   ]
  },
  {
   "cell_type": "markdown",
   "id": "9ab19e44",
   "metadata": {},
   "source": [
    "A continuación se exhiben las métricas de __testeo__, solo con fines informativos."
   ]
  },
  {
   "cell_type": "code",
   "execution_count": 29,
   "id": "d6a5b13f",
   "metadata": {},
   "outputs": [],
   "source": [
    "f_1_testeo = f1_score(y_test, y_pred)\n",
    "precision_testeo = precision_score(y_test, y_pred)\n",
    "recall_testeo = recall_score(y_test, y_pred)\n",
    "m_c_testeo = matthews_corrcoef(y_test, y_pred)\n",
    "cm_testeo = confusion_matrix(y_test, y_pred)"
   ]
  },
  {
   "cell_type": "code",
   "execution_count": 30,
   "id": "2bf3fbe3",
   "metadata": {},
   "outputs": [
    {
     "name": "stdout",
     "output_type": "stream",
     "text": [
      "f1-testeo: 0.62\n",
      "precision-testeo: 0.52\n",
      "recall-testo: 0.76\n",
      "m_c-testeo: 0.49\n",
      "matriz de confusión de testeo [[15841  4186]\n",
      " [ 1438  4508]]\n"
     ]
    }
   ],
   "source": [
    "print('f1-testeo:', round(f_1_testeo, 2))\n",
    "print('precision-testeo:', round(precision_testeo, 2))\n",
    "print('recall-testo:', round(recall_testeo, 2))\n",
    "print('m_c-testeo:', round(m_c_testeo, 2))\n",
    "print('matriz de confusión de testeo', cm_testeo)"
   ]
  },
  {
   "cell_type": "markdown",
   "id": "6a439278",
   "metadata": {},
   "source": [
    "## 4.2 Cross-validation."
   ]
  },
  {
   "cell_type": "code",
   "execution_count": 31,
   "id": "8ee000d0",
   "metadata": {},
   "outputs": [],
   "source": [
    "c_v = StratifiedKFold(n_splits=k_folds,\n",
    "                      shuffle=True,\n",
    "                      random_state=seed)"
   ]
  },
  {
   "cell_type": "code",
   "execution_count": 32,
   "id": "cbe1f4e6",
   "metadata": {},
   "outputs": [
    {
     "name": "stdout",
     "output_type": "stream",
     "text": [
      "[CV] START .....................................................................\n",
      "[CV] END  f1: (test=0.626) m_c: (test=0.507) precision: (test=0.530) recall: (test=0.764) total time= 2.8min\n",
      "[CV] START .....................................................................\n"
     ]
    },
    {
     "name": "stderr",
     "output_type": "stream",
     "text": [
      "[Parallel(n_jobs=1)]: Done   1 tasks      | elapsed:  2.8min\n"
     ]
    },
    {
     "name": "stdout",
     "output_type": "stream",
     "text": [
      "[CV] END  f1: (test=0.622) m_c: (test=0.502) precision: (test=0.523) recall: (test=0.767) total time= 2.8min\n",
      "[CV] START .....................................................................\n",
      "[CV] END  f1: (test=0.629) m_c: (test=0.513) precision: (test=0.528) recall: (test=0.778) total time= 2.9min\n",
      "[CV] START .....................................................................\n",
      "[CV] END  f1: (test=0.628) m_c: (test=0.511) precision: (test=0.530) recall: (test=0.771) total time= 2.9min\n"
     ]
    },
    {
     "name": "stderr",
     "output_type": "stream",
     "text": [
      "[Parallel(n_jobs=1)]: Done   4 tasks      | elapsed: 11.3min\n",
      "[Parallel(n_jobs=1)]: Done   4 tasks      | elapsed: 11.3min\n"
     ]
    }
   ],
   "source": [
    "cv_results = cross_validate(transform,\n",
    "                            X_train,\n",
    "                            y_train,\n",
    "                            cv=c_v,\n",
    "                            scoring=scores,\n",
    "                            verbose=10)"
   ]
  },
  {
   "cell_type": "markdown",
   "id": "567a6176",
   "metadata": {},
   "source": [
    "Se obtienen las métricas de __cross-validation__."
   ]
  },
  {
   "cell_type": "code",
   "execution_count": 33,
   "id": "9ef7e2a2",
   "metadata": {},
   "outputs": [
    {
     "name": "stdout",
     "output_type": "stream",
     "text": [
      "f1-cv: 0.63\n",
      "precision-cv: 0.53\n",
      "recall-cv: 0.77\n",
      "m_c-cv: 0.51\n"
     ]
    }
   ],
   "source": [
    "print('f1-cv:', round(cv_results['test_f1'].mean(), 2))\n",
    "print('precision-cv:', round(cv_results['test_precision'].mean(), 2))\n",
    "print('recall-cv:', round(cv_results['test_recall'].mean(), 2))\n",
    "print('m_c-cv:', round(cv_results['test_m_c'].mean(), 2))"
   ]
  },
  {
   "cell_type": "markdown",
   "id": "d84979cd",
   "metadata": {},
   "source": [
    "# 5. MODELO GANADOR."
   ]
  },
  {
   "cell_type": "markdown",
   "id": "ad7dfdd4",
   "metadata": {},
   "source": [
    "Hay un empate entre los modelos cuando se contemplan los scores __f1__ y __precision__ de __cross-validation__ (0.63 y 0.53). \n",
    "\n",
    "El desempate se da al observar una mejora en los scores de __recall__ y __m_c__ de __cross-validation__ en el estimador \n",
    "`HistGradientBoostingClassifier` frente a los del `RandomForestClassifier` (0.78 y 0.52 vs 0.77 y 0.51). Además, los scores de __testeo__ del primero superan a los scores de __testeo__ del segundo.\n",
    "\n",
    "Siendo así, se elige al `HistGradientBoostingClassifier` por tener un mejor performance en las métricas de __cross-validation__ y de __testeo__. Además, es más rápido al considerar desde su configuración la presencia de valores predidos en las variables numéricas."
   ]
  },
  {
   "cell_type": "code",
   "execution_count": null,
   "id": "14202a47",
   "metadata": {},
   "outputs": [],
   "source": []
  }
 ],
 "metadata": {
  "kernelspec": {
   "display_name": "train_env_AUS",
   "language": "python",
   "name": "train_env_aus"
  },
  "language_info": {
   "codemirror_mode": {
    "name": "ipython",
    "version": 3
   },
   "file_extension": ".py",
   "mimetype": "text/x-python",
   "name": "python",
   "nbconvert_exporter": "python",
   "pygments_lexer": "ipython3",
   "version": "3.8.12"
  }
 },
 "nbformat": 4,
 "nbformat_minor": 5
}
