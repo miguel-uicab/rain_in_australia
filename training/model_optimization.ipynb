{
 "cells": [
  {
   "cell_type": "code",
   "execution_count": 1,
   "id": "dede1677",
   "metadata": {},
   "outputs": [],
   "source": [
    "# !/usr/bin/env python\n",
    "# coding: utf-8\n",
    "\n",
    "import warnings\n",
    "warnings.simplefilter(\"ignore\")\n",
    "from training_functions import *"
   ]
  },
  {
   "cell_type": "markdown",
   "id": "4fec758e",
   "metadata": {},
   "source": [
    "A continuación se dará una breve explicación de lo que se ha hecho para optimizar el modelo elegido `HistGradientBoostingClassifier`.\n",
    "\n",
    "Se ha hecho uso de muchos de los procedimientos comentados en la competencia de modelos (consultar __model_selection.ipynb__) pero, aquí, han sido generalizados vía funciones contenidas en el script __training_functions.py__. Cada una de estas funciones tiene una descripción de la labor que llevan a cabo. \n",
    "\n",
    "En aquel script, la función __optimization_model__ realiza la optimización del modelo."
   ]
  },
  {
   "cell_type": "markdown",
   "id": "77f2507c",
   "metadata": {},
   "source": [
    "# 1. ESPACIO HIPERPARAMETRAL."
   ]
  },
  {
   "cell_type": "markdown",
   "id": "23cef40f",
   "metadata": {},
   "source": [
    "El `HistGradientBoosting` es en esencia un boosting que considera árboles débiles que van aprediendo uno del otro de manera secuencial. De hecho, cada uno se enfoca en corregir el error del modelo anterior.\n",
    "\n",
    "Este estimador es más rápido que un `GradientBoosting` clásico debido al uso del procesamiento paralelo en múltiples núcleos del CPU, además de considerar tratamiento de valores perdidos, regularización l2, restricciones de monotonía, entre otras cosas."
   ]
  },
  {
   "cell_type": "markdown",
   "id": "28949502",
   "metadata": {},
   "source": [
    "Se ha decidido trabajar con los siguientes hiperparámetros del estimador. Se dará una breve descripción de ellos.\n",
    "1. __`max_iter`:__  Número de árboles (modelos débiles) que estarán involucrados en el boosting. \\\n",
    "Mientras mayor sea, mejor ajuste aunque puede dar paso al sobreajuste.\n",
    "2. __`max_leaf_nodes`:__ Número máximo de hojas (nodos finales) en cada árbol individual. \\\n",
    "Controla la complejidad del modelo limitando la cantidad de divisiones en cada árbol.\n",
    "3. __`min_samples_leaf`:__ Número mínimo de muestras en cada hoja. \\\n",
    "Un valor alto puede evitar divisiones que sean demasiado específicas evitando a su vez el sobreajuste.\n",
    "4. __`learning_rate`:__ Determina la contribución de cada árbol en el proceso de boosting.\\\n",
    "Un valor pequeño da como resultado una convergencia más lenta pero un modelo más preciso, mientras que un valor grande puede conducir a un entrenamiento más rápido pero con mayor riesgo de sobreajuste.\n",
    "5. __`max_depth`:__ Es la profundidad máxima permitida en los árboles. \\\n",
    "Ayuda a controlar la complejidad del modelo.\n",
    "6. __`l2_regularization`__: Realiza una regularización tipo \"Ridge\"."
   ]
  },
  {
   "cell_type": "markdown",
   "id": "dc2e2ec7",
   "metadata": {},
   "source": [
    "Por supuesto, hay más hiperparámetros que podemos controlar. Sin embargo, decidimos trabajar con estos últimos por ser los más representativos al momento de construir árboles de decisión."
   ]
  },
  {
   "cell_type": "markdown",
   "id": "41a246f3",
   "metadata": {},
   "source": [
    "El __espacio hiperparametral__ está conformado por todas las combinaciones de valores de hiperparámetros, dado un rango de acción para cada uno de ellos. A continuación se exhibe la configuración del espacio hiperparametral que se ha usado en esta prueba."
   ]
  },
  {
   "cell_type": "code",
   "execution_count": 2,
   "id": "1bbfb160",
   "metadata": {},
   "outputs": [],
   "source": [
    "space = {'max_iter': [200, 400, 650, 700, 800],\n",
    "         'max_leaf_nodes': [10, 70, 100, 150], \n",
    "         'min_samples_leaf': [10, 20, 30, 40],\n",
    "         'learning_rate':  [0.05, 0.07, 0.1, 0.3, 0.5, 1],\n",
    "         'max_depth': [None, 1],\n",
    "         'l2_regularization': [0]}"
   ]
  },
  {
   "cell_type": "markdown",
   "id": "b3595f17",
   "metadata": {},
   "source": [
    "La elección de esta configuración es meramente arbitraria, aunque la idea es considerar tanto valores altos como valores bajos de los hiperparámetros. \n",
    "\n",
    "Dado que el espacio hiperparámetral es limitado, la función __optimization_model__ utiliza un `GridSearchCV`, el cual recorrerá todo el espacio y aplicará un __cross-validation__ por cada punto en ese espacio. El total de puntos que recorrerá es de 960. Si el espacio considerara rangos mucho más grandes de valores o bien considerara rangos continuos, entonces se debería utilizar un `RandomizedSearchCV` o un `BayesSearchCV`.\n",
    "\n",
    "El sobreajuste del modelo se estará minitoriando al comparar las métricas de __cross-validation__ y las de __testeo__. Si éstas últimas sufren un deterioro importante, entonces habrá un serio problema de sobreajuste. Sin embargo, de acuerdo a experiencia propia, las métricas de __cross-validation__ suelen informar muy bien sobre la estabilidad general del modelo."
   ]
  },
  {
   "cell_type": "markdown",
   "id": "1eb0ebb0",
   "metadata": {},
   "source": [
    "__Nota__: Aunque el modelo ha sido optimizado con el espacio hiperparametral anterior, en el script de funciones se ha dejado una versión más pequeña, esto para fines de prueba de código. Este espacio más reducido cuenta solo con 8 puntos de combinación."
   ]
  },
  {
   "cell_type": "markdown",
   "id": "e8e60cbc",
   "metadata": {},
   "source": [
    "# 2. CONFIGURACIONES GENERALES."
   ]
  },
  {
   "cell_type": "markdown",
   "id": "8fd26c63",
   "metadata": {},
   "source": [
    "A continuación se explicará los valores de los parámetros con controlan la función __optimization_model__, aunque algunos de ellos ya han sido explicados a profundidad en la competencia de modelos. Estas explicaciones se darán en forma de comentarios de código python."
   ]
  },
  {
   "cell_type": "code",
   "execution_count": 3,
   "id": "dbfc023d",
   "metadata": {},
   "outputs": [],
   "source": [
    "# Son los nombres de los binarios que contienen la data de entrenamiento y la data. Están en la carpeta outputs/.\n",
    "name_train_sav='wA_train.sav'\n",
    "name_test_sav='wA_test.sav'"
   ]
  },
  {
   "cell_type": "code",
   "execution_count": 4,
   "id": "76621570",
   "metadata": {},
   "outputs": [],
   "source": [
    "# Lista de nombres de features y nombre de la variable objetivo.\n",
    "features_names =  ['Location',\n",
    "                   'MinTemp',\n",
    "                   'Rainfall',\n",
    "                   'WindGustDir',\n",
    "                   'WindGustSpeed',\n",
    "                   'WindDir9am',\n",
    "                   'WindDir3pm',\n",
    "                   'WindSpeed3pm',\n",
    "                   'Humidity9am',\n",
    "                   'Humidity3pm', \n",
    "                   'Pressure9am',\n",
    "                   'RainToday', \n",
    "                   'month',\n",
    "                   'week_of_year']\n",
    "objective_name = 'RainTomorrow'"
   ]
  },
  {
   "cell_type": "code",
   "execution_count": 5,
   "id": "1b38fe1a",
   "metadata": {},
   "outputs": [],
   "source": [
    "# Es el nombre del modelo ganador.\n",
    "model_name = 'HistGradientBoostingClassifier'"
   ]
  },
  {
   "cell_type": "code",
   "execution_count": 6,
   "id": "95241cd8",
   "metadata": {},
   "outputs": [],
   "source": [
    "# Es la semilla que gobernará los procesos.\n",
    "seed = 5000\n",
    "# Es la estrategia de submuestreo.\n",
    "ratio_balance = 1\n",
    "# Es el número de folds que conformarán el proceso de cross-validation.\n",
    "k_folds = 4\n",
    "# Un valor más grande hace más informativo el proceso de optimización.\n",
    "verbose = 10"
   ]
  },
  {
   "cell_type": "code",
   "execution_count": 7,
   "id": "b55cb1f5",
   "metadata": {},
   "outputs": [],
   "source": [
    "# Es la métrica de cross-validación que se optimizará. Por default es el f1.\n",
    "# La combinación de hiperparámetros que obtenga el mayor valor de cv_f1 configurará el modelo optimizado final.\n",
    "optimized_metric='cv_f1'"
   ]
  },
  {
   "cell_type": "code",
   "execution_count": 8,
   "id": "fb3bdb4e",
   "metadata": {},
   "outputs": [],
   "source": [
    "# Guarda en un binario la información del modelo optimizado.\n",
    "save_best_info=False"
   ]
  },
  {
   "cell_type": "code",
   "execution_count": 9,
   "id": "6b7fefc8",
   "metadata": {},
   "outputs": [],
   "source": [
    "# Ubicación de los binarios que contienen la data necesaria.\n",
    "path='../outputs/'"
   ]
  },
  {
   "cell_type": "markdown",
   "id": "ceb9ca42",
   "metadata": {},
   "source": [
    "# 3. OPTIMIZACIÓN Y GUARDADO DE INFORMACIÓN."
   ]
  },
  {
   "cell_type": "markdown",
   "id": "7b82c70b",
   "metadata": {},
   "source": [
    "Dados los valores anteriores, procedemos a comenzar la optimización."
   ]
  },
  {
   "cell_type": "code",
   "execution_count": 10,
   "id": "14202a47",
   "metadata": {},
   "outputs": [
    {
     "name": "stderr",
     "output_type": "stream",
     "text": [
      "2023-07-04 06:52:49 INFO: PROCESO DE OPTIMIZACIÓN.\n",
      "2023-07-04 06:52:49 INFO: CONFIGURACIÓN GENERALES.\n",
      "2023-07-04 06:52:49 INFO: TUBERÍAS PARA PROCESAMIENTO Y MUESTREO.\n",
      "2023-07-04 06:52:49 INFO: CONFIGURACIÓN PARA CV Y SEARCH.\n",
      "2023-07-04 06:52:49 INFO: COMIENZA OPTIMIZACIÓN.\n"
     ]
    },
    {
     "name": "stdout",
     "output_type": "stream",
     "text": [
      "Fitting 4 folds for each of 8 candidates, totalling 32 fits\n",
      "[CV 1/4; 1/8] START estimator__l2_regularization=0, estimator__learning_rate=0.5, estimator__max_depth=None, estimator__max_iter=200, estimator__max_leaf_nodes=10, estimator__min_samples_leaf=10, estimator__random_state=5000\n",
      "[CV 1/4; 1/8] END estimator__l2_regularization=0, estimator__learning_rate=0.5, estimator__max_depth=None, estimator__max_iter=200, estimator__max_leaf_nodes=10, estimator__min_samples_leaf=10, estimator__random_state=5000; f1: (test=0.623) m_c: (test=0.504) precision: (test=0.528) recall: (test=0.761) total time=   0.9s\n",
      "[CV 2/4; 1/8] START estimator__l2_regularization=0, estimator__learning_rate=0.5, estimator__max_depth=None, estimator__max_iter=200, estimator__max_leaf_nodes=10, estimator__min_samples_leaf=10, estimator__random_state=5000\n",
      "[CV 2/4; 1/8] END estimator__l2_regularization=0, estimator__learning_rate=0.5, estimator__max_depth=None, estimator__max_iter=200, estimator__max_leaf_nodes=10, estimator__min_samples_leaf=10, estimator__random_state=5000; f1: (test=0.618) m_c: (test=0.498) precision: (test=0.516) recall: (test=0.772) total time=   1.0s\n",
      "[CV 3/4; 1/8] START estimator__l2_regularization=0, estimator__learning_rate=0.5, estimator__max_depth=None, estimator__max_iter=200, estimator__max_leaf_nodes=10, estimator__min_samples_leaf=10, estimator__random_state=5000\n",
      "[CV 3/4; 1/8] END estimator__l2_regularization=0, estimator__learning_rate=0.5, estimator__max_depth=None, estimator__max_iter=200, estimator__max_leaf_nodes=10, estimator__min_samples_leaf=10, estimator__random_state=5000; f1: (test=0.626) m_c: (test=0.508) precision: (test=0.524) recall: (test=0.776) total time=   1.1s\n",
      "[CV 4/4; 1/8] START estimator__l2_regularization=0, estimator__learning_rate=0.5, estimator__max_depth=None, estimator__max_iter=200, estimator__max_leaf_nodes=10, estimator__min_samples_leaf=10, estimator__random_state=5000\n",
      "[CV 4/4; 1/8] END estimator__l2_regularization=0, estimator__learning_rate=0.5, estimator__max_depth=None, estimator__max_iter=200, estimator__max_leaf_nodes=10, estimator__min_samples_leaf=10, estimator__random_state=5000; f1: (test=0.623) m_c: (test=0.504) precision: (test=0.522) recall: (test=0.771) total time=   1.0s\n",
      "[CV 1/4; 2/8] START estimator__l2_regularization=0, estimator__learning_rate=0.5, estimator__max_depth=None, estimator__max_iter=200, estimator__max_leaf_nodes=10, estimator__min_samples_leaf=20, estimator__random_state=5000\n",
      "[CV 1/4; 2/8] END estimator__l2_regularization=0, estimator__learning_rate=0.5, estimator__max_depth=None, estimator__max_iter=200, estimator__max_leaf_nodes=10, estimator__min_samples_leaf=20, estimator__random_state=5000; f1: (test=0.625) m_c: (test=0.506) precision: (test=0.529) recall: (test=0.764) total time=   1.3s\n",
      "[CV 2/4; 2/8] START estimator__l2_regularization=0, estimator__learning_rate=0.5, estimator__max_depth=None, estimator__max_iter=200, estimator__max_leaf_nodes=10, estimator__min_samples_leaf=20, estimator__random_state=5000\n",
      "[CV 2/4; 2/8] END estimator__l2_regularization=0, estimator__learning_rate=0.5, estimator__max_depth=None, estimator__max_iter=200, estimator__max_leaf_nodes=10, estimator__min_samples_leaf=20, estimator__random_state=5000; f1: (test=0.620) m_c: (test=0.500) precision: (test=0.518) recall: (test=0.772) total time=   1.1s\n",
      "[CV 3/4; 2/8] START estimator__l2_regularization=0, estimator__learning_rate=0.5, estimator__max_depth=None, estimator__max_iter=200, estimator__max_leaf_nodes=10, estimator__min_samples_leaf=20, estimator__random_state=5000\n",
      "[CV 3/4; 2/8] END estimator__l2_regularization=0, estimator__learning_rate=0.5, estimator__max_depth=None, estimator__max_iter=200, estimator__max_leaf_nodes=10, estimator__min_samples_leaf=20, estimator__random_state=5000; f1: (test=0.629) m_c: (test=0.512) precision: (test=0.528) recall: (test=0.778) total time=   1.0s\n",
      "[CV 4/4; 2/8] START estimator__l2_regularization=0, estimator__learning_rate=0.5, estimator__max_depth=None, estimator__max_iter=200, estimator__max_leaf_nodes=10, estimator__min_samples_leaf=20, estimator__random_state=5000\n",
      "[CV 4/4; 2/8] END estimator__l2_regularization=0, estimator__learning_rate=0.5, estimator__max_depth=None, estimator__max_iter=200, estimator__max_leaf_nodes=10, estimator__min_samples_leaf=20, estimator__random_state=5000; f1: (test=0.623) m_c: (test=0.503) precision: (test=0.523) recall: (test=0.769) total time=   1.0s\n",
      "[CV 1/4; 3/8] START estimator__l2_regularization=0, estimator__learning_rate=0.5, estimator__max_depth=None, estimator__max_iter=400, estimator__max_leaf_nodes=10, estimator__min_samples_leaf=10, estimator__random_state=5000\n",
      "[CV 1/4; 3/8] END estimator__l2_regularization=0, estimator__learning_rate=0.5, estimator__max_depth=None, estimator__max_iter=400, estimator__max_leaf_nodes=10, estimator__min_samples_leaf=10, estimator__random_state=5000; f1: (test=0.623) m_c: (test=0.504) precision: (test=0.528) recall: (test=0.761) total time=   1.0s\n",
      "[CV 2/4; 3/8] START estimator__l2_regularization=0, estimator__learning_rate=0.5, estimator__max_depth=None, estimator__max_iter=400, estimator__max_leaf_nodes=10, estimator__min_samples_leaf=10, estimator__random_state=5000\n",
      "[CV 2/4; 3/8] END estimator__l2_regularization=0, estimator__learning_rate=0.5, estimator__max_depth=None, estimator__max_iter=400, estimator__max_leaf_nodes=10, estimator__min_samples_leaf=10, estimator__random_state=5000; f1: (test=0.618) m_c: (test=0.498) precision: (test=0.516) recall: (test=0.772) total time=   0.9s\n",
      "[CV 3/4; 3/8] START estimator__l2_regularization=0, estimator__learning_rate=0.5, estimator__max_depth=None, estimator__max_iter=400, estimator__max_leaf_nodes=10, estimator__min_samples_leaf=10, estimator__random_state=5000\n",
      "[CV 3/4; 3/8] END estimator__l2_regularization=0, estimator__learning_rate=0.5, estimator__max_depth=None, estimator__max_iter=400, estimator__max_leaf_nodes=10, estimator__min_samples_leaf=10, estimator__random_state=5000; f1: (test=0.626) m_c: (test=0.508) precision: (test=0.524) recall: (test=0.776) total time=   1.0s\n",
      "[CV 4/4; 3/8] START estimator__l2_regularization=0, estimator__learning_rate=0.5, estimator__max_depth=None, estimator__max_iter=400, estimator__max_leaf_nodes=10, estimator__min_samples_leaf=10, estimator__random_state=5000\n",
      "[CV 4/4; 3/8] END estimator__l2_regularization=0, estimator__learning_rate=0.5, estimator__max_depth=None, estimator__max_iter=400, estimator__max_leaf_nodes=10, estimator__min_samples_leaf=10, estimator__random_state=5000; f1: (test=0.623) m_c: (test=0.504) precision: (test=0.522) recall: (test=0.771) total time=   1.0s\n",
      "[CV 1/4; 4/8] START estimator__l2_regularization=0, estimator__learning_rate=0.5, estimator__max_depth=None, estimator__max_iter=400, estimator__max_leaf_nodes=10, estimator__min_samples_leaf=20, estimator__random_state=5000\n",
      "[CV 1/4; 4/8] END estimator__l2_regularization=0, estimator__learning_rate=0.5, estimator__max_depth=None, estimator__max_iter=400, estimator__max_leaf_nodes=10, estimator__min_samples_leaf=20, estimator__random_state=5000; f1: (test=0.625) m_c: (test=0.506) precision: (test=0.529) recall: (test=0.764) total time=   1.0s\n",
      "[CV 2/4; 4/8] START estimator__l2_regularization=0, estimator__learning_rate=0.5, estimator__max_depth=None, estimator__max_iter=400, estimator__max_leaf_nodes=10, estimator__min_samples_leaf=20, estimator__random_state=5000\n",
      "[CV 2/4; 4/8] END estimator__l2_regularization=0, estimator__learning_rate=0.5, estimator__max_depth=None, estimator__max_iter=400, estimator__max_leaf_nodes=10, estimator__min_samples_leaf=20, estimator__random_state=5000; f1: (test=0.620) m_c: (test=0.500) precision: (test=0.518) recall: (test=0.772) total time=   1.0s\n",
      "[CV 3/4; 4/8] START estimator__l2_regularization=0, estimator__learning_rate=0.5, estimator__max_depth=None, estimator__max_iter=400, estimator__max_leaf_nodes=10, estimator__min_samples_leaf=20, estimator__random_state=5000\n",
      "[CV 3/4; 4/8] END estimator__l2_regularization=0, estimator__learning_rate=0.5, estimator__max_depth=None, estimator__max_iter=400, estimator__max_leaf_nodes=10, estimator__min_samples_leaf=20, estimator__random_state=5000; f1: (test=0.629) m_c: (test=0.512) precision: (test=0.528) recall: (test=0.778) total time=   1.0s\n",
      "[CV 4/4; 4/8] START estimator__l2_regularization=0, estimator__learning_rate=0.5, estimator__max_depth=None, estimator__max_iter=400, estimator__max_leaf_nodes=10, estimator__min_samples_leaf=20, estimator__random_state=5000\n"
     ]
    },
    {
     "name": "stdout",
     "output_type": "stream",
     "text": [
      "[CV 4/4; 4/8] END estimator__l2_regularization=0, estimator__learning_rate=0.5, estimator__max_depth=None, estimator__max_iter=400, estimator__max_leaf_nodes=10, estimator__min_samples_leaf=20, estimator__random_state=5000; f1: (test=0.623) m_c: (test=0.503) precision: (test=0.523) recall: (test=0.769) total time=   1.0s\n",
      "[CV 1/4; 5/8] START estimator__l2_regularization=0, estimator__learning_rate=0.5, estimator__max_depth=1, estimator__max_iter=200, estimator__max_leaf_nodes=10, estimator__min_samples_leaf=10, estimator__random_state=5000\n",
      "[CV 1/4; 5/8] END estimator__l2_regularization=0, estimator__learning_rate=0.5, estimator__max_depth=1, estimator__max_iter=200, estimator__max_leaf_nodes=10, estimator__min_samples_leaf=10, estimator__random_state=5000; f1: (test=0.616) m_c: (test=0.494) precision: (test=0.522) recall: (test=0.750) total time=   1.1s\n",
      "[CV 2/4; 5/8] START estimator__l2_regularization=0, estimator__learning_rate=0.5, estimator__max_depth=1, estimator__max_iter=200, estimator__max_leaf_nodes=10, estimator__min_samples_leaf=10, estimator__random_state=5000\n",
      "[CV 2/4; 5/8] END estimator__l2_regularization=0, estimator__learning_rate=0.5, estimator__max_depth=1, estimator__max_iter=200, estimator__max_leaf_nodes=10, estimator__min_samples_leaf=10, estimator__random_state=5000; f1: (test=0.609) m_c: (test=0.484) precision: (test=0.511) recall: (test=0.752) total time=   1.0s\n",
      "[CV 3/4; 5/8] START estimator__l2_regularization=0, estimator__learning_rate=0.5, estimator__max_depth=1, estimator__max_iter=200, estimator__max_leaf_nodes=10, estimator__min_samples_leaf=10, estimator__random_state=5000\n",
      "[CV 3/4; 5/8] END estimator__l2_regularization=0, estimator__learning_rate=0.5, estimator__max_depth=1, estimator__max_iter=200, estimator__max_leaf_nodes=10, estimator__min_samples_leaf=10, estimator__random_state=5000; f1: (test=0.616) m_c: (test=0.494) precision: (test=0.519) recall: (test=0.757) total time=   1.2s\n",
      "[CV 4/4; 5/8] START estimator__l2_regularization=0, estimator__learning_rate=0.5, estimator__max_depth=1, estimator__max_iter=200, estimator__max_leaf_nodes=10, estimator__min_samples_leaf=10, estimator__random_state=5000\n",
      "[CV 4/4; 5/8] END estimator__l2_regularization=0, estimator__learning_rate=0.5, estimator__max_depth=1, estimator__max_iter=200, estimator__max_leaf_nodes=10, estimator__min_samples_leaf=10, estimator__random_state=5000; f1: (test=0.615) m_c: (test=0.493) precision: (test=0.519) recall: (test=0.755) total time=   1.1s\n",
      "[CV 1/4; 6/8] START estimator__l2_regularization=0, estimator__learning_rate=0.5, estimator__max_depth=1, estimator__max_iter=200, estimator__max_leaf_nodes=10, estimator__min_samples_leaf=20, estimator__random_state=5000\n",
      "[CV 1/4; 6/8] END estimator__l2_regularization=0, estimator__learning_rate=0.5, estimator__max_depth=1, estimator__max_iter=200, estimator__max_leaf_nodes=10, estimator__min_samples_leaf=20, estimator__random_state=5000; f1: (test=0.616) m_c: (test=0.494) precision: (test=0.523) recall: (test=0.750) total time=   1.1s\n",
      "[CV 2/4; 6/8] START estimator__l2_regularization=0, estimator__learning_rate=0.5, estimator__max_depth=1, estimator__max_iter=200, estimator__max_leaf_nodes=10, estimator__min_samples_leaf=20, estimator__random_state=5000\n",
      "[CV 2/4; 6/8] END estimator__l2_regularization=0, estimator__learning_rate=0.5, estimator__max_depth=1, estimator__max_iter=200, estimator__max_leaf_nodes=10, estimator__min_samples_leaf=20, estimator__random_state=5000; f1: (test=0.609) m_c: (test=0.484) precision: (test=0.511) recall: (test=0.752) total time=   1.2s\n",
      "[CV 3/4; 6/8] START estimator__l2_regularization=0, estimator__learning_rate=0.5, estimator__max_depth=1, estimator__max_iter=200, estimator__max_leaf_nodes=10, estimator__min_samples_leaf=20, estimator__random_state=5000\n",
      "[CV 3/4; 6/8] END estimator__l2_regularization=0, estimator__learning_rate=0.5, estimator__max_depth=1, estimator__max_iter=200, estimator__max_leaf_nodes=10, estimator__min_samples_leaf=20, estimator__random_state=5000; f1: (test=0.616) m_c: (test=0.494) precision: (test=0.519) recall: (test=0.757) total time=   1.4s\n",
      "[CV 4/4; 6/8] START estimator__l2_regularization=0, estimator__learning_rate=0.5, estimator__max_depth=1, estimator__max_iter=200, estimator__max_leaf_nodes=10, estimator__min_samples_leaf=20, estimator__random_state=5000\n",
      "[CV 4/4; 6/8] END estimator__l2_regularization=0, estimator__learning_rate=0.5, estimator__max_depth=1, estimator__max_iter=200, estimator__max_leaf_nodes=10, estimator__min_samples_leaf=20, estimator__random_state=5000; f1: (test=0.615) m_c: (test=0.493) precision: (test=0.519) recall: (test=0.755) total time=   1.4s\n",
      "[CV 1/4; 7/8] START estimator__l2_regularization=0, estimator__learning_rate=0.5, estimator__max_depth=1, estimator__max_iter=400, estimator__max_leaf_nodes=10, estimator__min_samples_leaf=10, estimator__random_state=5000\n",
      "[CV 1/4; 7/8] END estimator__l2_regularization=0, estimator__learning_rate=0.5, estimator__max_depth=1, estimator__max_iter=400, estimator__max_leaf_nodes=10, estimator__min_samples_leaf=10, estimator__random_state=5000; f1: (test=0.617) m_c: (test=0.495) precision: (test=0.524) recall: (test=0.752) total time=   1.3s\n",
      "[CV 2/4; 7/8] START estimator__l2_regularization=0, estimator__learning_rate=0.5, estimator__max_depth=1, estimator__max_iter=400, estimator__max_leaf_nodes=10, estimator__min_samples_leaf=10, estimator__random_state=5000\n",
      "[CV 2/4; 7/8] END estimator__l2_regularization=0, estimator__learning_rate=0.5, estimator__max_depth=1, estimator__max_iter=400, estimator__max_leaf_nodes=10, estimator__min_samples_leaf=10, estimator__random_state=5000; f1: (test=0.609) m_c: (test=0.484) precision: (test=0.511) recall: (test=0.752) total time=   1.0s\n",
      "[CV 3/4; 7/8] START estimator__l2_regularization=0, estimator__learning_rate=0.5, estimator__max_depth=1, estimator__max_iter=400, estimator__max_leaf_nodes=10, estimator__min_samples_leaf=10, estimator__random_state=5000\n",
      "[CV 3/4; 7/8] END estimator__l2_regularization=0, estimator__learning_rate=0.5, estimator__max_depth=1, estimator__max_iter=400, estimator__max_leaf_nodes=10, estimator__min_samples_leaf=10, estimator__random_state=5000; f1: (test=0.617) m_c: (test=0.495) precision: (test=0.521) recall: (test=0.757) total time=   1.2s\n",
      "[CV 4/4; 7/8] START estimator__l2_regularization=0, estimator__learning_rate=0.5, estimator__max_depth=1, estimator__max_iter=400, estimator__max_leaf_nodes=10, estimator__min_samples_leaf=10, estimator__random_state=5000\n",
      "[CV 4/4; 7/8] END estimator__l2_regularization=0, estimator__learning_rate=0.5, estimator__max_depth=1, estimator__max_iter=400, estimator__max_leaf_nodes=10, estimator__min_samples_leaf=10, estimator__random_state=5000; f1: (test=0.615) m_c: (test=0.493) precision: (test=0.519) recall: (test=0.755) total time=   1.1s\n",
      "[CV 1/4; 8/8] START estimator__l2_regularization=0, estimator__learning_rate=0.5, estimator__max_depth=1, estimator__max_iter=400, estimator__max_leaf_nodes=10, estimator__min_samples_leaf=20, estimator__random_state=5000\n",
      "[CV 1/4; 8/8] END estimator__l2_regularization=0, estimator__learning_rate=0.5, estimator__max_depth=1, estimator__max_iter=400, estimator__max_leaf_nodes=10, estimator__min_samples_leaf=20, estimator__random_state=5000; f1: (test=0.617) m_c: (test=0.495) precision: (test=0.523) recall: (test=0.751) total time=   1.2s\n",
      "[CV 2/4; 8/8] START estimator__l2_regularization=0, estimator__learning_rate=0.5, estimator__max_depth=1, estimator__max_iter=400, estimator__max_leaf_nodes=10, estimator__min_samples_leaf=20, estimator__random_state=5000\n",
      "[CV 2/4; 8/8] END estimator__l2_regularization=0, estimator__learning_rate=0.5, estimator__max_depth=1, estimator__max_iter=400, estimator__max_leaf_nodes=10, estimator__min_samples_leaf=20, estimator__random_state=5000; f1: (test=0.609) m_c: (test=0.484) precision: (test=0.511) recall: (test=0.752) total time=   1.0s\n",
      "[CV 3/4; 8/8] START estimator__l2_regularization=0, estimator__learning_rate=0.5, estimator__max_depth=1, estimator__max_iter=400, estimator__max_leaf_nodes=10, estimator__min_samples_leaf=20, estimator__random_state=5000\n",
      "[CV 3/4; 8/8] END estimator__l2_regularization=0, estimator__learning_rate=0.5, estimator__max_depth=1, estimator__max_iter=400, estimator__max_leaf_nodes=10, estimator__min_samples_leaf=20, estimator__random_state=5000; f1: (test=0.617) m_c: (test=0.495) precision: (test=0.521) recall: (test=0.757) total time=   1.2s\n",
      "[CV 4/4; 8/8] START estimator__l2_regularization=0, estimator__learning_rate=0.5, estimator__max_depth=1, estimator__max_iter=400, estimator__max_leaf_nodes=10, estimator__min_samples_leaf=20, estimator__random_state=5000\n"
     ]
    },
    {
     "name": "stderr",
     "output_type": "stream",
     "text": [
      "2023-07-04 06:53:24 INFO: CÁLCULO DE MÉTRICAS DE CV.\n",
      "2023-07-04 06:53:24 INFO: SELECCIÓN DEL MEJOR MODELO VÍA UNA MÉTRICA DE CV.\n",
      "2023-07-04 06:53:24 INFO: FIN DE OPTIMIZACIÓN.\n"
     ]
    },
    {
     "name": "stdout",
     "output_type": "stream",
     "text": [
      "[CV 4/4; 8/8] END estimator__l2_regularization=0, estimator__learning_rate=0.5, estimator__max_depth=1, estimator__max_iter=400, estimator__max_leaf_nodes=10, estimator__min_samples_leaf=20, estimator__random_state=5000; f1: (test=0.615) m_c: (test=0.493) precision: (test=0.519) recall: (test=0.755) total time=   1.1s\n"
     ]
    }
   ],
   "source": [
    "optim_results = optimization_model(name_train_sav=name_train_sav,\n",
    "                                   name_test_sav=name_test_sav,\n",
    "                                   features_names=features_names,\n",
    "                                   objective_name=objective_name,\n",
    "                                   model_name=model_name,\n",
    "                                   seed=seed,\n",
    "                                   ratio_balance=ratio_balance,\n",
    "                                   k_folds=k_folds,\n",
    "                                   verbose=verbose,\n",
    "                                   optimized_metric=optimized_metric,\n",
    "                                   save_best_info=save_best_info,\n",
    "                                   path=path)"
   ]
  },
  {
   "cell_type": "code",
   "execution_count": 11,
   "id": "c1c33c40",
   "metadata": {},
   "outputs": [
    {
     "data": {
      "text/plain": [
       "hyperparameters      {'l2_regularization': 0, 'learning_rate': 0.5,...\n",
       "cv_f1                                                         0.624172\n",
       "cv_precision                                                  0.524443\n",
       "cv_recall                                                     0.770797\n",
       "cv_m_c                                                        0.505549\n",
       "optimization_date                           2023-07-04 06:53:24.394637\n",
       "ratio_balance                                                        1\n",
       "model_name                              HistGradientBoostingClassifier\n",
       "k_folds                                                              4\n",
       "Name: 0, dtype: object"
      ]
     },
     "execution_count": 11,
     "metadata": {},
     "output_type": "execute_result"
    }
   ],
   "source": [
    "optim_results"
   ]
  },
  {
   "cell_type": "markdown",
   "id": "0f8ec8c9",
   "metadata": {},
   "source": [
    "Al final, la función __optimization_model__ devuelve un panda-series con la información del modelo optimizado."
   ]
  },
  {
   "cell_type": "markdown",
   "id": "af978a4d",
   "metadata": {},
   "source": [
    "Se guardan la información del modelo optimizado."
   ]
  },
  {
   "cell_type": "code",
   "execution_count": 12,
   "id": "90072b42",
   "metadata": {},
   "outputs": [],
   "source": [
    "# pickle.dump(optim_results, open('../outputs/optimization_results.sav', 'wb'))"
   ]
  },
  {
   "cell_type": "markdown",
   "id": "c0e3fe92",
   "metadata": {},
   "source": [
    "# 4. COMPARACIÓN ENTRE EL MODELO OPTIMIZADO Y SIN OPTIMIZAR."
   ]
  },
  {
   "cell_type": "code",
   "execution_count": 13,
   "id": "d702b498",
   "metadata": {},
   "outputs": [],
   "source": [
    "path='../outputs/'\n",
    "optim_results = get_data(name_sav='optimization_results.sav', path=path)"
   ]
  },
  {
   "cell_type": "markdown",
   "id": "48f5599b",
   "metadata": {},
   "source": [
    "La combinación ganadora de hiperparámetros es la siguiente."
   ]
  },
  {
   "cell_type": "code",
   "execution_count": 14,
   "id": "7c040b14",
   "metadata": {},
   "outputs": [
    {
     "data": {
      "text/plain": [
       "{'l2_regularization': 0,\n",
       " 'learning_rate': 0.05,\n",
       " 'max_depth': None,\n",
       " 'max_iter': 800,\n",
       " 'max_leaf_nodes': 70,\n",
       " 'min_samples_leaf': 40,\n",
       " 'random_state': 5000}"
      ]
     },
     "execution_count": 14,
     "metadata": {},
     "output_type": "execute_result"
    }
   ],
   "source": [
    "optim_results['hyperparameters']"
   ]
  },
  {
   "cell_type": "markdown",
   "id": "19a1ec74",
   "metadata": {},
   "source": [
    "A simple vista, observamos que el modelo está requiriendo muchos estimadores débiles (__`max_iter`__=800)."
   ]
  },
  {
   "cell_type": "markdown",
   "id": "208e05b8",
   "metadata": {},
   "source": [
    "Comparemos las métricas de __cross-validation__ del modelo optimizado con las del modelo no optimizado (ver __model_selection.ipynb__)"
   ]
  },
  {
   "cell_type": "code",
   "execution_count": 15,
   "id": "35b28e74",
   "metadata": {},
   "outputs": [
    {
     "name": "stdout",
     "output_type": "stream",
     "text": [
      "f1-cv optimizado 0.64\n",
      "f1-cv NO optimizado 0.63\n",
      "recall-cv optimizado 0.79\n",
      "recall-cv NO optimizado 0.78\n",
      "precision-cv optimizado 0.54\n",
      "precision-cv NO optimizado 0.53\n",
      "m_c-cv optimizado 0.53\n",
      "m_c-cv NO optimizado 0.52\n"
     ]
    }
   ],
   "source": [
    "print('f1-cv optimizado', round(optim_results['cv_f1'], 2))\n",
    "print('f1-cv NO optimizado', 0.63)\n",
    "print('recall-cv optimizado', round(optim_results['cv_recall'], 2))\n",
    "print('recall-cv NO optimizado', 0.78)\n",
    "print('precision-cv optimizado', round(optim_results['cv_precision'], 2))\n",
    "print('precision-cv NO optimizado', 0.53)\n",
    "print('m_c-cv optimizado', round(optim_results['cv_m_c'], 2))\n",
    "print('m_c-cv NO optimizado', 0.52)   "
   ]
  },
  {
   "cell_type": "markdown",
   "id": "db82955a",
   "metadata": {},
   "source": [
    "Vemos que solo se han conseguido mejoras de una centésima en todos las métricas de __cross-validation__."
   ]
  },
  {
   "cell_type": "markdown",
   "id": "5e3e20c4",
   "metadata": {},
   "source": [
    "Habrá que hacer un revisión desde el principio, con tal de encontrar mejoras contundentes. Los enfoques que se podrían llevar a cabo son:\n",
    "1. Rescate, de alguna manera, de variables numéricas con porcentajes importantes de valores perdidos. En el análisis exploratorio se eliminaron algunas varibales y tal vez puedan ser añadidas al modelo al, por ejemplos, discretizarlas.\n",
    "2. Hacer una ingeniería de variables más ambiciosa y rica. Aprovechar de manera más ingeniosa la variable de tiempo, por ejemplo.\n",
    "3. Cambiar el estimador. El gran tamaño de la data nos da acceso a herramientas más complejas como redes neuronales.\n",
    "4. Utilizar métodos de ensamblado de modelos.\n",
    "5. Considerar otro enfoque de muestreo. Tal vez considerar técnicas como el SMOTE u otra ténica de sobremuestreo de la clase minoritaria."
   ]
  },
  {
   "cell_type": "code",
   "execution_count": null,
   "id": "aef5318c",
   "metadata": {},
   "outputs": [],
   "source": []
  }
 ],
 "metadata": {
  "kernelspec": {
   "display_name": "train_env_AUS",
   "language": "python",
   "name": "train_env_aus"
  },
  "language_info": {
   "codemirror_mode": {
    "name": "ipython",
    "version": 3
   },
   "file_extension": ".py",
   "mimetype": "text/x-python",
   "name": "python",
   "nbconvert_exporter": "python",
   "pygments_lexer": "ipython3",
   "version": "3.8.12"
  }
 },
 "nbformat": 4,
 "nbformat_minor": 5
}
