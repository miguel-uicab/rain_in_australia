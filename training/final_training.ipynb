{
 "cells": [
  {
   "cell_type": "code",
   "execution_count": 1,
   "id": "28d05241",
   "metadata": {},
   "outputs": [],
   "source": [
    "# !/usr/bin/env python\n",
    "# coding: utf-8\n",
    "\n",
    "import warnings\n",
    "warnings.simplefilter(\"ignore\")\n",
    "from training_functions import *"
   ]
  },
  {
   "cell_type": "code",
   "execution_count": 2,
   "id": "20952b2a",
   "metadata": {},
   "outputs": [],
   "source": [
    "path='../outputs/'\n",
    "optim_results = get_data(name_sav='optimization_results.sav', path=path)"
   ]
  },
  {
   "cell_type": "markdown",
   "id": "08009f44",
   "metadata": {},
   "source": [
    "# 1. AJUSTE FINAL."
   ]
  },
  {
   "cell_type": "markdown",
   "id": "9ee98819",
   "metadata": {},
   "source": [
    "El ajuste final de modelo optimizado es realizado por la función __training_model__ contenida en el script __training_functions.py__. Esta función se encarga también de:\n",
    "1. guardar el modelo final en un archivo binario para su consumo,\n",
    "2. generar las métricas de __testeo__, las cuales se obtienen al aplicar el modelo al conjunto de prueba,\n",
    "3. generar gráficos de interés como el histograma de probabilidades de testeo,\n",
    "4. calcular las features importances."
   ]
  },
  {
   "cell_type": "markdown",
   "id": "e915310e",
   "metadata": {},
   "source": [
    "Los parámetros que esta función necesita son ya todos conocidos, a excepción de dos:"
   ]
  },
  {
   "cell_type": "code",
   "execution_count": 3,
   "id": "64ff01e0",
   "metadata": {},
   "outputs": [],
   "source": [
    "# Binario para el cálculo de las feature importances.\n",
    "with_feature_importances=False\n",
    "# Binario para la construcción del histograma de probabilidades de testeo.\n",
    "with_probability_density=False"
   ]
  },
  {
   "cell_type": "markdown",
   "id": "a697d04e",
   "metadata": {},
   "source": [
    "__¡¡¡ADVERTENCIA !!!:__ El cálculo de las feature importances para `HistGradientBoostingClassifier`\n",
    "tarda horas. Esto debido a que se calculan vía shap-values, puesto que `scikit-learn`no las ofrece nativamente para este estimador."
   ]
  },
  {
   "cell_type": "code",
   "execution_count": 4,
   "id": "6b7fefc8",
   "metadata": {},
   "outputs": [],
   "source": [
    "name_train_sav='wA_train.sav'\n",
    "name_test_sav='wA_test.sav'\n",
    "features_names =  ['Location',\n",
    "                   'MinTemp',\n",
    "                   'Rainfall',\n",
    "                   'WindGustDir',\n",
    "                   'WindGustSpeed',\n",
    "                   'WindDir9am',\n",
    "                   'WindDir3pm',\n",
    "                   'WindSpeed3pm',\n",
    "                   'Humidity9am',\n",
    "                   'Humidity3pm', \n",
    "                   'Pressure9am',\n",
    "                   'RainToday', \n",
    "                   'month',\n",
    "                   'week_of_year']\n",
    "objective_name = 'RainTomorrow'\n",
    "path='../outputs/'"
   ]
  },
  {
   "cell_type": "markdown",
   "id": "86f7424b",
   "metadata": {},
   "source": [
    "Se procede a ajustar el modelo final."
   ]
  },
  {
   "cell_type": "code",
   "execution_count": 5,
   "id": "ba632eaf",
   "metadata": {},
   "outputs": [
    {
     "name": "stderr",
     "output_type": "stream",
     "text": [
      "2023-07-03 19:31:16 INFO: PROCESO DE ENTRENAMIENTO Y GUARDADO DE MODELO.\n",
      "2023-07-03 19:31:16 INFO: CONFIGURACIÓN DE DATA.\n",
      "2023-07-03 19:31:16 INFO: TUBERÍAS PARA PROCESAMIENTO Y MUESTREO.\n",
      "2023-07-03 19:31:16 INFO: AJUSTE FINAL.\n",
      "2023-07-03 19:32:32 INFO: FIN DE AJUSTE FINAL.\n"
     ]
    }
   ],
   "source": [
    "train_results = training_model(best_hyper_info=optim_results,\n",
    "                               name_train_sav=name_train_sav,\n",
    "                               name_test_sav=name_test_sav,\n",
    "                               features_names=features_names,\n",
    "                               objective_name=objective_name,\n",
    "                               with_feature_importances=with_feature_importances,\n",
    "                               with_probability_density=with_probability_density,\n",
    "                               path=path)"
   ]
  },
  {
   "cell_type": "markdown",
   "id": "1f20878c",
   "metadata": {},
   "source": [
    "# 2. COMPARACIÓN ENTRE TESTEO Y CV"
   ]
  },
  {
   "cell_type": "code",
   "execution_count": 18,
   "id": "8460f2a0",
   "metadata": {},
   "outputs": [],
   "source": [
    "from IPython.display import display"
   ]
  },
  {
   "cell_type": "code",
   "execution_count": 19,
   "id": "936f171e",
   "metadata": {},
   "outputs": [],
   "source": [
    "path='../outputs/'\n",
    "train_results = get_data(name_sav='final_model_info_RainTomorrow_1.sav', path=path)"
   ]
  },
  {
   "cell_type": "markdown",
   "id": "d30d9575",
   "metadata": {},
   "source": [
    "Veamos la estabilidad del modelo al comparar las métricas de __cross-validation__ y de __testeo__."
   ]
  },
  {
   "cell_type": "code",
   "execution_count": 21,
   "id": "15ff35ca",
   "metadata": {},
   "outputs": [
    {
     "data": {
      "text/html": [
       "<div>\n",
       "<style scoped>\n",
       "    .dataframe tbody tr th:only-of-type {\n",
       "        vertical-align: middle;\n",
       "    }\n",
       "\n",
       "    .dataframe tbody tr th {\n",
       "        vertical-align: top;\n",
       "    }\n",
       "\n",
       "    .dataframe thead th {\n",
       "        text-align: right;\n",
       "    }\n",
       "</style>\n",
       "<table border=\"1\" class=\"dataframe\">\n",
       "  <thead>\n",
       "    <tr style=\"text-align: right;\">\n",
       "      <th></th>\n",
       "      <th>cv_f1</th>\n",
       "      <th>final_f1_score</th>\n",
       "    </tr>\n",
       "  </thead>\n",
       "  <tbody>\n",
       "    <tr>\n",
       "      <th>0</th>\n",
       "      <td>0.63863</td>\n",
       "      <td>0.631234</td>\n",
       "    </tr>\n",
       "  </tbody>\n",
       "</table>\n",
       "</div>"
      ],
      "text/plain": [
       "     cv_f1 final_f1_score\n",
       "0  0.63863       0.631234"
      ]
     },
     "metadata": {},
     "output_type": "display_data"
    },
    {
     "data": {
      "text/html": [
       "<div>\n",
       "<style scoped>\n",
       "    .dataframe tbody tr th:only-of-type {\n",
       "        vertical-align: middle;\n",
       "    }\n",
       "\n",
       "    .dataframe tbody tr th {\n",
       "        vertical-align: top;\n",
       "    }\n",
       "\n",
       "    .dataframe thead th {\n",
       "        text-align: right;\n",
       "    }\n",
       "</style>\n",
       "<table border=\"1\" class=\"dataframe\">\n",
       "  <thead>\n",
       "    <tr style=\"text-align: right;\">\n",
       "      <th></th>\n",
       "      <th>cv_recall</th>\n",
       "      <th>final_recall</th>\n",
       "    </tr>\n",
       "  </thead>\n",
       "  <tbody>\n",
       "    <tr>\n",
       "      <th>0</th>\n",
       "      <td>0.785916</td>\n",
       "      <td>0.776993</td>\n",
       "    </tr>\n",
       "  </tbody>\n",
       "</table>\n",
       "</div>"
      ],
      "text/plain": [
       "  cv_recall final_recall\n",
       "0  0.785916     0.776993"
      ]
     },
     "metadata": {},
     "output_type": "display_data"
    },
    {
     "data": {
      "text/html": [
       "<div>\n",
       "<style scoped>\n",
       "    .dataframe tbody tr th:only-of-type {\n",
       "        vertical-align: middle;\n",
       "    }\n",
       "\n",
       "    .dataframe tbody tr th {\n",
       "        vertical-align: top;\n",
       "    }\n",
       "\n",
       "    .dataframe thead th {\n",
       "        text-align: right;\n",
       "    }\n",
       "</style>\n",
       "<table border=\"1\" class=\"dataframe\">\n",
       "  <thead>\n",
       "    <tr style=\"text-align: right;\">\n",
       "      <th></th>\n",
       "      <th>cv_precision</th>\n",
       "      <th>final_precision</th>\n",
       "    </tr>\n",
       "  </thead>\n",
       "  <tbody>\n",
       "    <tr>\n",
       "      <th>0</th>\n",
       "      <td>0.53788</td>\n",
       "      <td>0.531523</td>\n",
       "    </tr>\n",
       "  </tbody>\n",
       "</table>\n",
       "</div>"
      ],
      "text/plain": [
       "  cv_precision final_precision\n",
       "0      0.53788        0.531523"
      ]
     },
     "metadata": {},
     "output_type": "display_data"
    },
    {
     "data": {
      "text/html": [
       "<div>\n",
       "<style scoped>\n",
       "    .dataframe tbody tr th:only-of-type {\n",
       "        vertical-align: middle;\n",
       "    }\n",
       "\n",
       "    .dataframe tbody tr th {\n",
       "        vertical-align: top;\n",
       "    }\n",
       "\n",
       "    .dataframe thead th {\n",
       "        text-align: right;\n",
       "    }\n",
       "</style>\n",
       "<table border=\"1\" class=\"dataframe\">\n",
       "  <thead>\n",
       "    <tr style=\"text-align: right;\">\n",
       "      <th></th>\n",
       "      <th>cv_m_c</th>\n",
       "      <th>final_matthews_corrcoef</th>\n",
       "    </tr>\n",
       "  </thead>\n",
       "  <tbody>\n",
       "    <tr>\n",
       "      <th>0</th>\n",
       "      <td>0.525794</td>\n",
       "      <td>0.510783</td>\n",
       "    </tr>\n",
       "  </tbody>\n",
       "</table>\n",
       "</div>"
      ],
      "text/plain": [
       "     cv_m_c final_matthews_corrcoef\n",
       "0  0.525794                0.510783"
      ]
     },
     "metadata": {},
     "output_type": "display_data"
    }
   ],
   "source": [
    "d_f1 = train_results[['cv_f1', 'final_f1_score']]\n",
    "d_rec = train_results[['cv_recall', 'final_recall']]\n",
    "d_prec =  train_results[['cv_precision', 'final_precision']]\n",
    "d_m_c = train_results[['cv_m_c', 'final_matthews_corrcoef']]\n",
    "display(d_f1, d_rec, d_prec, d_m_c)"
   ]
  },
  {
   "cell_type": "markdown",
   "id": "cd21493d",
   "metadata": {},
   "source": [
    "Se puede observar que las métricas son similares entre ellas, lo cual se puede considerar como \"una buena señal\" y sugiere que el modelo generaliza de manera razonable para datos no vistos."
   ]
  },
  {
   "cell_type": "markdown",
   "id": "41a0a8dd",
   "metadata": {},
   "source": [
    "# 3. SOBRE LAS MÉTRICAS DE TESTEO"
   ]
  },
  {
   "cell_type": "markdown",
   "id": "50b8f4f4",
   "metadata": {},
   "source": [
    "Estas son las métricas asociadas al conjunto de prueba."
   ]
  },
  {
   "cell_type": "code",
   "execution_count": 30,
   "id": "5468a582",
   "metadata": {},
   "outputs": [
    {
     "data": {
      "text/html": [
       "<div>\n",
       "<style scoped>\n",
       "    .dataframe tbody tr th:only-of-type {\n",
       "        vertical-align: middle;\n",
       "    }\n",
       "\n",
       "    .dataframe tbody tr th {\n",
       "        vertical-align: top;\n",
       "    }\n",
       "\n",
       "    .dataframe thead th {\n",
       "        text-align: right;\n",
       "    }\n",
       "</style>\n",
       "<table border=\"1\" class=\"dataframe\">\n",
       "  <thead>\n",
       "    <tr style=\"text-align: right;\">\n",
       "      <th></th>\n",
       "      <th>final_recall</th>\n",
       "      <th>final_precision</th>\n",
       "      <th>final_accuracy</th>\n",
       "      <th>final_f1_score</th>\n",
       "      <th>final_roc_auc</th>\n",
       "      <th>final_matthews_corrcoef</th>\n",
       "      <th>final_recall_maj</th>\n",
       "      <th>final_precision_maj</th>\n",
       "    </tr>\n",
       "  </thead>\n",
       "  <tbody>\n",
       "    <tr>\n",
       "      <th>0</th>\n",
       "      <td>0.776993</td>\n",
       "      <td>0.531523</td>\n",
       "      <td>0.792169</td>\n",
       "      <td>0.631234</td>\n",
       "      <td>0.786834</td>\n",
       "      <td>0.510783</td>\n",
       "      <td>0.796674</td>\n",
       "      <td>0.923268</td>\n",
       "    </tr>\n",
       "  </tbody>\n",
       "</table>\n",
       "</div>"
      ],
      "text/plain": [
       "  final_recall final_precision final_accuracy final_f1_score final_roc_auc  \\\n",
       "0     0.776993        0.531523       0.792169       0.631234      0.786834   \n",
       "\n",
       "  final_matthews_corrcoef final_recall_maj final_precision_maj  \n",
       "0                0.510783         0.796674            0.923268  "
      ]
     },
     "execution_count": 30,
     "metadata": {},
     "output_type": "execute_result"
    }
   ],
   "source": [
    "train_results[['final_recall', 'final_precision',\n",
    "       'final_accuracy', 'final_f1_score', 'final_roc_auc',\n",
    "       'final_matthews_corrcoef', 'final_recall_maj', 'final_precision_maj']]"
   ]
  },
  {
   "cell_type": "markdown",
   "id": "f9b2d33e",
   "metadata": {},
   "source": [
    "De las métricas de __testeo__ se dan algunas observaciones:\n",
    "1. __`final_recall`__ `= 0.776993`, quiere decir que la gran mayoría de muestras pertenecientes a la clase minoritaria, es decir, \"SI\" va a llover mañana, son clasificadas correctamente.\n",
    "2. __`final_precision`__ `= 0.531523`, quiere decir que si bien se localiza correctamente a la gran mayoría de la clase minoritaria, \"el precio que hay que pagar\" para reconocerlos es el de tener a muchos falsos positivos. De hecho, se puede decir que del total de muestras que el modelo dice que son \"SI\", en realidad `(1 - 0.531523)% = 46.8447%` NO LO SON.\n",
    "3. __`final_f1_score`__ `= 0.631234`, quiere decir que hay un equilibrio pobre entre __`recall`__ y __`precision`__. Algo similar puede concluirse observando el __`final_matthews_corrcoef`__.\n",
    "4.   __`final_recall_maj`__ `= 0.796674` y __`final_precision_maj`__ `= 0.923268`, son las contrapartes de __`recall`__ y __`precision`__ pero para la clase mayoritaria. Naturalmente, a la clase mayoritaria le va bien.\n",
    "4. __`final_roc_auc`__ `= 0.786834`, es el área bajo la curva ROC. Informa que el modelo clasifica correctamente a la mayoría tanto en la clase minoritaria como en la mayoritaria (observar los respectivos __`recalls`__), pero no toma en cuenta el escenario de desequilibro extremo cuya influencia se ve reflada en el __`final_precision`__."
   ]
  },
  {
   "cell_type": "markdown",
   "id": "be3e99f7",
   "metadata": {},
   "source": [
    "# 4. COMENTARIOS FINALES"
   ]
  },
  {
   "cell_type": "markdown",
   "id": "9fff0e31",
   "metadata": {},
   "source": [
    "1. Los scores de decisión, interpretados como \"probabliddades\", que brindan algunos algoritmos de clasificación como el `HistGradientBoostingClassifier`, muchas veces aun no pueden interpretarse como verdaderas probabilidades. Necesitan pasar por un proceso de ajuste. Siendo así, queda pendiente revisar si el modelo final está __calibrado__. \n",
    "2. El \"modelo final\", más bien el objeto conformado por una __Pipiline__ de procedimientos cuyo paso final es el estimador ajustado, ya tiene integrado procesos como la codificación de variables categóricas.\n",
    "3. Pueden consultarse los gráficos obtenidos en la carpeta __outputs/__. Sus nombres son:\n",
    "    * __final_feature_importances_RainTomorrow_1.html__: exhibe el histograma en orden descendente de las feature importances. Al igual que con la __información mutua__, la variable `Humidity3pm` ocupa el primer lugar de importancia.\n",
    "    * __final_density_RainTomorrow_1.html__: exhibe el histograma de las probabilidades de testeo.\n",
    "4. Se decide, por el momento, llevar a producción al modelo final actual a reserva de mejorar su rendimiento, sobreto enfocando los esfuerzos para mejorar el __f1__, y más precisamente, el __precision__."
   ]
  },
  {
   "cell_type": "code",
   "execution_count": null,
   "id": "67eb4858",
   "metadata": {},
   "outputs": [],
   "source": []
  }
 ],
 "metadata": {
  "kernelspec": {
   "display_name": "train_Aus",
   "language": "python",
   "name": "train_aus"
  },
  "language_info": {
   "codemirror_mode": {
    "name": "ipython",
    "version": 3
   },
   "file_extension": ".py",
   "mimetype": "text/x-python",
   "name": "python",
   "nbconvert_exporter": "python",
   "pygments_lexer": "ipython3",
   "version": "3.8.12"
  }
 },
 "nbformat": 4,
 "nbformat_minor": 5
}
